{
 "cells": [
  {
   "cell_type": "markdown",
   "metadata": {},
   "source": [
    "### Performing Exploratory Data Analysis on insurance.csv file from Kaggle\n",
    "link to file :\n",
    "https://raw.githubusercontent.com/JovianML/opendatasets/master/data/medical-charges.csv"
   ]
  },
  {
   "cell_type": "markdown",
   "metadata": {},
   "source": [
    "#### Importing the necessary Libraries"
   ]
  },
  {
   "cell_type": "code",
   "execution_count": null,
   "metadata": {},
   "outputs": [],
   "source": [
    "import pandas as pd              \n",
    "import plotly.express as px\n",
    "import matplotlib\n",
    "import matplotlib.pyplot as plt\n",
    "import seaborn as sns\n",
    "%matplotlib inline\n",
    "from urllib.request import urlretrieve\n",
    "# this line ensures that all the charts are in the jupyter notbook as \n",
    "#output and not as a pop-up\n",
    "sns.set_style('darkgrid')\n",
    "matplotlib.rcParams['font.size'] = 14\n",
    "matplotlib.rcParams['figure.figsize'] = (10, 6)\n",
    "matplotlib.rcParams['figure.facecolor'] = '#00000000'\n"
   ]
  },
  {
   "cell_type": "code",
   "execution_count": null,
   "metadata": {},
   "outputs": [
    {
     "data": {
      "text/plain": [
       "('medical.csv', <http.client.HTTPMessage at 0x117faf41790>)"
      ]
     },
     "execution_count": 3,
     "metadata": {},
     "output_type": "execute_result"
    }
   ],
   "source": [
    "medical_charges_url = 'https://raw.githubusercontent.com/JovianML/opendatasets/master/data/medical-charges.csv'\n",
    "urlretrieve(medical_charges_url, 'medical.csv')"
   ]
  },
  {
   "cell_type": "code",
   "execution_count": 6,
   "metadata": {},
   "outputs": [
    {
     "data": {
      "text/html": [
       "<div>\n",
       "<style scoped>\n",
       "    .dataframe tbody tr th:only-of-type {\n",
       "        vertical-align: middle;\n",
       "    }\n",
       "\n",
       "    .dataframe tbody tr th {\n",
       "        vertical-align: top;\n",
       "    }\n",
       "\n",
       "    .dataframe thead th {\n",
       "        text-align: right;\n",
       "    }\n",
       "</style>\n",
       "<table border=\"1\" class=\"dataframe\">\n",
       "  <thead>\n",
       "    <tr style=\"text-align: right;\">\n",
       "      <th></th>\n",
       "      <th>age</th>\n",
       "      <th>sex</th>\n",
       "      <th>bmi</th>\n",
       "      <th>children</th>\n",
       "      <th>smoker</th>\n",
       "      <th>region</th>\n",
       "      <th>charges</th>\n",
       "    </tr>\n",
       "  </thead>\n",
       "  <tbody>\n",
       "    <tr>\n",
       "      <th>0</th>\n",
       "      <td>19</td>\n",
       "      <td>female</td>\n",
       "      <td>27.900</td>\n",
       "      <td>0</td>\n",
       "      <td>yes</td>\n",
       "      <td>southwest</td>\n",
       "      <td>16884.92400</td>\n",
       "    </tr>\n",
       "    <tr>\n",
       "      <th>1</th>\n",
       "      <td>18</td>\n",
       "      <td>male</td>\n",
       "      <td>33.770</td>\n",
       "      <td>1</td>\n",
       "      <td>no</td>\n",
       "      <td>southeast</td>\n",
       "      <td>1725.55230</td>\n",
       "    </tr>\n",
       "    <tr>\n",
       "      <th>2</th>\n",
       "      <td>28</td>\n",
       "      <td>male</td>\n",
       "      <td>33.000</td>\n",
       "      <td>3</td>\n",
       "      <td>no</td>\n",
       "      <td>southeast</td>\n",
       "      <td>4449.46200</td>\n",
       "    </tr>\n",
       "    <tr>\n",
       "      <th>3</th>\n",
       "      <td>33</td>\n",
       "      <td>male</td>\n",
       "      <td>22.705</td>\n",
       "      <td>0</td>\n",
       "      <td>no</td>\n",
       "      <td>northwest</td>\n",
       "      <td>21984.47061</td>\n",
       "    </tr>\n",
       "    <tr>\n",
       "      <th>4</th>\n",
       "      <td>32</td>\n",
       "      <td>male</td>\n",
       "      <td>28.880</td>\n",
       "      <td>0</td>\n",
       "      <td>no</td>\n",
       "      <td>northwest</td>\n",
       "      <td>3866.85520</td>\n",
       "    </tr>\n",
       "  </tbody>\n",
       "</table>\n",
       "</div>"
      ],
      "text/plain": [
       "   age     sex     bmi  children smoker     region      charges\n",
       "0   19  female  27.900         0    yes  southwest  16884.92400\n",
       "1   18    male  33.770         1     no  southeast   1725.55230\n",
       "2   28    male  33.000         3     no  southeast   4449.46200\n",
       "3   33    male  22.705         0     no  northwest  21984.47061\n",
       "4   32    male  28.880         0     no  northwest   3866.85520"
      ]
     },
     "execution_count": 6,
     "metadata": {},
     "output_type": "execute_result"
    }
   ],
   "source": [
    "#Reading the data and Creating a DataFrame\n",
    "medical_df = pd.read_csv('medical.csv')\n",
    "# type(medical_df)\n",
    "medical_df.head()"
   ]
  },
  {
   "cell_type": "code",
   "execution_count": null,
   "metadata": {},
   "outputs": [
    {
     "data": {
      "application/vnd.plotly.v1+json": {
       "config": {
        "plotlyServerURL": "https://plot.ly"
       },
       "data": [
        {
         "bingroup": "x",
         "hovertemplate": "age=%{x}<br>count=%{y}<extra></extra>",
         "legendgroup": "",
         "marker": {
          "color": "#636efa",
          "pattern": {
           "shape": ""
          }
         },
         "name": "",
         "nbinsx": 47,
         "orientation": "v",
         "showlegend": false,
         "type": "histogram",
         "x": {
          "bdata": "ExIcISAfLiUlPBk+FzgbEzQXOB48HhIiJTs/NxcfFhITPxwTPhojPBgfKSUmNxIcPCQSFTAkKDo6EjUiKxlAHBQTPSgoHBsfNTosOR0VFikfLRYwJS05OC43FTU7I0AcNjc4JikeEj0iFBMaHT82NyUVNDw6HTElLBIULC8aEzQgJjs9NRMUFhMWNhYiGiIdHh0uMzUTIzAgKigsMBIeMioSNiAlLxQgExs/MRIjGD8mNi4pOhIWLCwkGh4pHT0kGTgSEyctM0ATMDwbLhw7Iz8oFCgYIi0pNRsaGCI1IBMqNxw6KS8qOxM7JygSHxMsFyE3KD82PBgTHRI/NhsyNzgmMxM6FDQTNS4oOy0xEjIpMhkvExY7Myg2Hjc0Li4/OzQcHRkWGRITLx8wJDU4HDkdHB46KTITKzEbNDI2LCAiGiI5HSgbLUA0PTQ9OCtAPD4yLhg+PD8xIiEuJBM5Mh4hEi4uLxcSMCMTFRUxOCosEj05KhoUFycYQD4bNzcjLBM6MhoYMBMwMS4uKxVAEjMvQDEfNCEvJiATLBoZEys0JEA/QD0oGTAtJhIVGxMdKjwfPBYjNBofIRI7OC08OCgjJx4YFCA7Nzk4KDEqPjgTHjw4HBIbEhMvNj0YGRUXPzESMzAfNhMsNRM9Ej0VFB8tLD4dKzMTJiUWFRg5OBszEyc6FC0jHzIgMyYqEhMzLhI5PjslQCYhLi41IhQ/NjYxHDYZKz8gPjQZHC4iIxMuNhsyEhMmKTEwHxIePjk6Fh80GTsTJyATIRUiPSY6LxQVKS4qIis0EjM4QBMzGzscHi8mEiIULzgxEzceJTESOx0kITosNRgdKDNAEyMnOCEqPRcrMCcoEjoxNTAtOzQaGzA5JTkgEkArMSg+KB4dJCksLTc8ODEVEyc1ITUqKC8bFS8UGBsaNSk4FxUyNSIvITMxHyQSMisUGDwxPDM6MzU+EzIeKR0SKSM1GDA7MSUaFx0tGzUfMjIiEy8cJRVAOhgfJy8eEhYXIRstOS8qQCY9NSwTKTMoLSM1HhIzMh8jPBUdPicTFjUnGx4eOiEqQBUSFy0oExIZLiE2HCQUGBcvIS0aEiw8QDgkKSc/JBw6JCokOCM7FTsXOTU8MxcbNyU9LjUxFDAZGTklJjckMygSOT0ZMhoqKywXMSEpJRYXFTMZIDkkFjlAJDYvPj0rExITMTwaMTwaGyw/IBYSOywhGCstPSM+PiYiKzITOT4pGicuLSA7LCcSNRIyEhM+OColKhk5Mx4sIh82GCswEx0/LjQjMywVJzIiFhMaHTAaLSQ2Ih8bFCwrLSIYGiYyJhsnJz8hJB4YGDAvHRwvGTMwKz0wJjsTGjYVMxYvEi8VExc2JS43HhI9NhYtFhMjEhQcNysrFhkxLEAxLxs3MC0YIBg5OyQdKjAnPzYlPxU2PCAvFRw/EiAmID4nNzk0OC83FxYyEjMWNBkhNR06JTYxMhotNiYwHBc3KRkhHhcuNRsXPzcjIhMnGzk0HDIsGiETMik0JzI0PBQ3KhI6KyMwJBMXFCArIh4SKSM5HSAlEis4Jh0WNCgXHyoYGTAXLRQ+KxcfKTowHxMTKSgfJS4WMxIjOyQlOyQnEjQbEigdLiYeKDIUKSEmKjg6NBQ2Oi0aPzolGTRAFhwSHC0hEiAYExQoIiozNjc0IBwpKzFANxgULRoZKyMaORYgJxkwLxISPS8cJBQsJhMVLjoUEhwhEy0+GSsqGB0gGSkqISITHhITEiMnHz4+Kh89KjMXNDkXNDISEhU9",
          "dtype": "i1"
         },
         "xaxis": "x",
         "yaxis": "y"
        },
        {
         "hovertemplate": "age=%{x}<extra></extra>",
         "legendgroup": "",
         "marker": {
          "color": "#636efa"
         },
         "name": "",
         "notched": true,
         "showlegend": false,
         "type": "box",
         "x": {
          "bdata": "ExIcISAfLiUlPBk+FzgbEzQXOB48HhIiJTs/NxcfFhITPxwTPhojPBgfKSUmNxIcPCQSFTAkKDo6EjUiKxlAHBQTPSgoHBsfNTosOR0VFikfLRYwJS05OC43FTU7I0AcNjc4JikeEj0iFBMaHT82NyUVNDw6HTElLBIULC8aEzQgJjs9NRMUFhMWNhYiGiIdHh0uMzUTIzAgKigsMBIeMioSNiAlLxQgExs/MRIjGD8mNi4pOhIWLCwkGh4pHT0kGTgSEyctM0ATMDwbLhw7Iz8oFCgYIi0pNRsaGCI1IBMqNxw6KS8qOxM7JygSHxMsFyE3KD82PBgTHRI/NhsyNzgmMxM6FDQTNS4oOy0xEjIpMhkvExY7Myg2Hjc0Li4/OzQcHRkWGRITLx8wJDU4HDkdHB46KTITKzEbNDI2LCAiGiI5HSgbLUA0PTQ9OCtAPD4yLhg+PD8xIiEuJBM5Mh4hEi4uLxcSMCMTFRUxOCosEj05KhoUFycYQD4bNzcjLBM6MhoYMBMwMS4uKxVAEjMvQDEfNCEvJiATLBoZEys0JEA/QD0oGTAtJhIVGxMdKjwfPBYjNBofIRI7OC08OCgjJx4YFCA7Nzk4KDEqPjgTHjw4HBIbEhMvNj0YGRUXPzESMzAfNhMsNRM9Ej0VFB8tLD4dKzMTJiUWFRg5OBszEyc6FC0jHzIgMyYqEhMzLhI5PjslQCYhLi41IhQ/NjYxHDYZKz8gPjQZHC4iIxMuNhsyEhMmKTEwHxIePjk6Fh80GTsTJyATIRUiPSY6LxQVKS4qIis0EjM4QBMzGzscHi8mEiIULzgxEzceJTESOx0kITosNRgdKDNAEyMnOCEqPRcrMCcoEjoxNTAtOzQaGzA5JTkgEkArMSg+KB4dJCksLTc8ODEVEyc1ITUqKC8bFS8UGBsaNSk4FxUyNSIvITMxHyQSMisUGDwxPDM6MzU+EzIeKR0SKSM1GDA7MSUaFx0tGzUfMjIiEy8cJRVAOhgfJy8eEhYXIRstOS8qQCY9NSwTKTMoLSM1HhIzMh8jPBUdPicTFjUnGx4eOiEqQBUSFy0oExIZLiE2HCQUGBcvIS0aEiw8QDgkKSc/JBw6JCokOCM7FTsXOTU8MxcbNyU9LjUxFDAZGTklJjckMygSOT0ZMhoqKywXMSEpJRYXFTMZIDkkFjlAJDYvPj0rExITMTwaMTwaGyw/IBYSOywhGCstPSM+PiYiKzITOT4pGicuLSA7LCcSNRIyEhM+OColKhk5Mx4sIh82GCswEx0/LjQjMywVJzIiFhMaHTAaLSQ2Ih8bFCwrLSIYGiYyJhsnJz8hJB4YGDAvHRwvGTMwKz0wJjsTGjYVMxYvEi8VExc2JS43HhI9NhYtFhMjEhQcNysrFhkxLEAxLxs3MC0YIBg5OyQdKjAnPzYlPxU2PCAvFRw/EiAmID4nNzk0OC83FxYyEjMWNBkhNR06JTYxMhotNiYwHBc3KRkhHhcuNRsXPzcjIhMnGzk0HDIsGiETMik0JzI0PBQ3KhI6KyMwJBMXFCArIh4SKSM5HSAlEis4Jh0WNCgXHyoYGTAXLRQ+KxcfKTowHxMTKSgfJS4WMxIjOyQlOyQnEjQbEigdLiYeKDIUKSEmKjg6NBQ2Oi0aPzolGTRAFhwSHC0hEiAYExQoIiozNjc0IBwpKzFANxgULRoZKyMaORYgJxkwLxISPS8cJBQsJhMVLjoUEhwhEy0+GSsqGB0gGSkqISITHhITEiMnHz4+Kh89KjMXNDkXNDISEhU9",
          "dtype": "i1"
         },
         "xaxis": "x2",
         "yaxis": "y2"
        }
       ],
       "layout": {
        "bargap": 0.1,
        "barmode": "relative",
        "legend": {
         "tracegroupgap": 0
        },
        "template": {
         "data": {
          "bar": [
           {
            "error_x": {
             "color": "#2a3f5f"
            },
            "error_y": {
             "color": "#2a3f5f"
            },
            "marker": {
             "line": {
              "color": "#E5ECF6",
              "width": 0.5
             },
             "pattern": {
              "fillmode": "overlay",
              "size": 10,
              "solidity": 0.2
             }
            },
            "type": "bar"
           }
          ],
          "barpolar": [
           {
            "marker": {
             "line": {
              "color": "#E5ECF6",
              "width": 0.5
             },
             "pattern": {
              "fillmode": "overlay",
              "size": 10,
              "solidity": 0.2
             }
            },
            "type": "barpolar"
           }
          ],
          "carpet": [
           {
            "aaxis": {
             "endlinecolor": "#2a3f5f",
             "gridcolor": "white",
             "linecolor": "white",
             "minorgridcolor": "white",
             "startlinecolor": "#2a3f5f"
            },
            "baxis": {
             "endlinecolor": "#2a3f5f",
             "gridcolor": "white",
             "linecolor": "white",
             "minorgridcolor": "white",
             "startlinecolor": "#2a3f5f"
            },
            "type": "carpet"
           }
          ],
          "choropleth": [
           {
            "colorbar": {
             "outlinewidth": 0,
             "ticks": ""
            },
            "type": "choropleth"
           }
          ],
          "contour": [
           {
            "colorbar": {
             "outlinewidth": 0,
             "ticks": ""
            },
            "colorscale": [
             [
              0,
              "#0d0887"
             ],
             [
              0.1111111111111111,
              "#46039f"
             ],
             [
              0.2222222222222222,
              "#7201a8"
             ],
             [
              0.3333333333333333,
              "#9c179e"
             ],
             [
              0.4444444444444444,
              "#bd3786"
             ],
             [
              0.5555555555555556,
              "#d8576b"
             ],
             [
              0.6666666666666666,
              "#ed7953"
             ],
             [
              0.7777777777777778,
              "#fb9f3a"
             ],
             [
              0.8888888888888888,
              "#fdca26"
             ],
             [
              1,
              "#f0f921"
             ]
            ],
            "type": "contour"
           }
          ],
          "contourcarpet": [
           {
            "colorbar": {
             "outlinewidth": 0,
             "ticks": ""
            },
            "type": "contourcarpet"
           }
          ],
          "heatmap": [
           {
            "colorbar": {
             "outlinewidth": 0,
             "ticks": ""
            },
            "colorscale": [
             [
              0,
              "#0d0887"
             ],
             [
              0.1111111111111111,
              "#46039f"
             ],
             [
              0.2222222222222222,
              "#7201a8"
             ],
             [
              0.3333333333333333,
              "#9c179e"
             ],
             [
              0.4444444444444444,
              "#bd3786"
             ],
             [
              0.5555555555555556,
              "#d8576b"
             ],
             [
              0.6666666666666666,
              "#ed7953"
             ],
             [
              0.7777777777777778,
              "#fb9f3a"
             ],
             [
              0.8888888888888888,
              "#fdca26"
             ],
             [
              1,
              "#f0f921"
             ]
            ],
            "type": "heatmap"
           }
          ],
          "histogram": [
           {
            "marker": {
             "pattern": {
              "fillmode": "overlay",
              "size": 10,
              "solidity": 0.2
             }
            },
            "type": "histogram"
           }
          ],
          "histogram2d": [
           {
            "colorbar": {
             "outlinewidth": 0,
             "ticks": ""
            },
            "colorscale": [
             [
              0,
              "#0d0887"
             ],
             [
              0.1111111111111111,
              "#46039f"
             ],
             [
              0.2222222222222222,
              "#7201a8"
             ],
             [
              0.3333333333333333,
              "#9c179e"
             ],
             [
              0.4444444444444444,
              "#bd3786"
             ],
             [
              0.5555555555555556,
              "#d8576b"
             ],
             [
              0.6666666666666666,
              "#ed7953"
             ],
             [
              0.7777777777777778,
              "#fb9f3a"
             ],
             [
              0.8888888888888888,
              "#fdca26"
             ],
             [
              1,
              "#f0f921"
             ]
            ],
            "type": "histogram2d"
           }
          ],
          "histogram2dcontour": [
           {
            "colorbar": {
             "outlinewidth": 0,
             "ticks": ""
            },
            "colorscale": [
             [
              0,
              "#0d0887"
             ],
             [
              0.1111111111111111,
              "#46039f"
             ],
             [
              0.2222222222222222,
              "#7201a8"
             ],
             [
              0.3333333333333333,
              "#9c179e"
             ],
             [
              0.4444444444444444,
              "#bd3786"
             ],
             [
              0.5555555555555556,
              "#d8576b"
             ],
             [
              0.6666666666666666,
              "#ed7953"
             ],
             [
              0.7777777777777778,
              "#fb9f3a"
             ],
             [
              0.8888888888888888,
              "#fdca26"
             ],
             [
              1,
              "#f0f921"
             ]
            ],
            "type": "histogram2dcontour"
           }
          ],
          "mesh3d": [
           {
            "colorbar": {
             "outlinewidth": 0,
             "ticks": ""
            },
            "type": "mesh3d"
           }
          ],
          "parcoords": [
           {
            "line": {
             "colorbar": {
              "outlinewidth": 0,
              "ticks": ""
             }
            },
            "type": "parcoords"
           }
          ],
          "pie": [
           {
            "automargin": true,
            "type": "pie"
           }
          ],
          "scatter": [
           {
            "fillpattern": {
             "fillmode": "overlay",
             "size": 10,
             "solidity": 0.2
            },
            "type": "scatter"
           }
          ],
          "scatter3d": [
           {
            "line": {
             "colorbar": {
              "outlinewidth": 0,
              "ticks": ""
             }
            },
            "marker": {
             "colorbar": {
              "outlinewidth": 0,
              "ticks": ""
             }
            },
            "type": "scatter3d"
           }
          ],
          "scattercarpet": [
           {
            "marker": {
             "colorbar": {
              "outlinewidth": 0,
              "ticks": ""
             }
            },
            "type": "scattercarpet"
           }
          ],
          "scattergeo": [
           {
            "marker": {
             "colorbar": {
              "outlinewidth": 0,
              "ticks": ""
             }
            },
            "type": "scattergeo"
           }
          ],
          "scattergl": [
           {
            "marker": {
             "colorbar": {
              "outlinewidth": 0,
              "ticks": ""
             }
            },
            "type": "scattergl"
           }
          ],
          "scattermap": [
           {
            "marker": {
             "colorbar": {
              "outlinewidth": 0,
              "ticks": ""
             }
            },
            "type": "scattermap"
           }
          ],
          "scattermapbox": [
           {
            "marker": {
             "colorbar": {
              "outlinewidth": 0,
              "ticks": ""
             }
            },
            "type": "scattermapbox"
           }
          ],
          "scatterpolar": [
           {
            "marker": {
             "colorbar": {
              "outlinewidth": 0,
              "ticks": ""
             }
            },
            "type": "scatterpolar"
           }
          ],
          "scatterpolargl": [
           {
            "marker": {
             "colorbar": {
              "outlinewidth": 0,
              "ticks": ""
             }
            },
            "type": "scatterpolargl"
           }
          ],
          "scatterternary": [
           {
            "marker": {
             "colorbar": {
              "outlinewidth": 0,
              "ticks": ""
             }
            },
            "type": "scatterternary"
           }
          ],
          "surface": [
           {
            "colorbar": {
             "outlinewidth": 0,
             "ticks": ""
            },
            "colorscale": [
             [
              0,
              "#0d0887"
             ],
             [
              0.1111111111111111,
              "#46039f"
             ],
             [
              0.2222222222222222,
              "#7201a8"
             ],
             [
              0.3333333333333333,
              "#9c179e"
             ],
             [
              0.4444444444444444,
              "#bd3786"
             ],
             [
              0.5555555555555556,
              "#d8576b"
             ],
             [
              0.6666666666666666,
              "#ed7953"
             ],
             [
              0.7777777777777778,
              "#fb9f3a"
             ],
             [
              0.8888888888888888,
              "#fdca26"
             ],
             [
              1,
              "#f0f921"
             ]
            ],
            "type": "surface"
           }
          ],
          "table": [
           {
            "cells": {
             "fill": {
              "color": "#EBF0F8"
             },
             "line": {
              "color": "white"
             }
            },
            "header": {
             "fill": {
              "color": "#C8D4E3"
             },
             "line": {
              "color": "white"
             }
            },
            "type": "table"
           }
          ]
         },
         "layout": {
          "annotationdefaults": {
           "arrowcolor": "#2a3f5f",
           "arrowhead": 0,
           "arrowwidth": 1
          },
          "autotypenumbers": "strict",
          "coloraxis": {
           "colorbar": {
            "outlinewidth": 0,
            "ticks": ""
           }
          },
          "colorscale": {
           "diverging": [
            [
             0,
             "#8e0152"
            ],
            [
             0.1,
             "#c51b7d"
            ],
            [
             0.2,
             "#de77ae"
            ],
            [
             0.3,
             "#f1b6da"
            ],
            [
             0.4,
             "#fde0ef"
            ],
            [
             0.5,
             "#f7f7f7"
            ],
            [
             0.6,
             "#e6f5d0"
            ],
            [
             0.7,
             "#b8e186"
            ],
            [
             0.8,
             "#7fbc41"
            ],
            [
             0.9,
             "#4d9221"
            ],
            [
             1,
             "#276419"
            ]
           ],
           "sequential": [
            [
             0,
             "#0d0887"
            ],
            [
             0.1111111111111111,
             "#46039f"
            ],
            [
             0.2222222222222222,
             "#7201a8"
            ],
            [
             0.3333333333333333,
             "#9c179e"
            ],
            [
             0.4444444444444444,
             "#bd3786"
            ],
            [
             0.5555555555555556,
             "#d8576b"
            ],
            [
             0.6666666666666666,
             "#ed7953"
            ],
            [
             0.7777777777777778,
             "#fb9f3a"
            ],
            [
             0.8888888888888888,
             "#fdca26"
            ],
            [
             1,
             "#f0f921"
            ]
           ],
           "sequentialminus": [
            [
             0,
             "#0d0887"
            ],
            [
             0.1111111111111111,
             "#46039f"
            ],
            [
             0.2222222222222222,
             "#7201a8"
            ],
            [
             0.3333333333333333,
             "#9c179e"
            ],
            [
             0.4444444444444444,
             "#bd3786"
            ],
            [
             0.5555555555555556,
             "#d8576b"
            ],
            [
             0.6666666666666666,
             "#ed7953"
            ],
            [
             0.7777777777777778,
             "#fb9f3a"
            ],
            [
             0.8888888888888888,
             "#fdca26"
            ],
            [
             1,
             "#f0f921"
            ]
           ]
          },
          "colorway": [
           "#636efa",
           "#EF553B",
           "#00cc96",
           "#ab63fa",
           "#FFA15A",
           "#19d3f3",
           "#FF6692",
           "#B6E880",
           "#FF97FF",
           "#FECB52"
          ],
          "font": {
           "color": "#2a3f5f"
          },
          "geo": {
           "bgcolor": "white",
           "lakecolor": "white",
           "landcolor": "#E5ECF6",
           "showlakes": true,
           "showland": true,
           "subunitcolor": "white"
          },
          "hoverlabel": {
           "align": "left"
          },
          "hovermode": "closest",
          "mapbox": {
           "style": "light"
          },
          "paper_bgcolor": "white",
          "plot_bgcolor": "#E5ECF6",
          "polar": {
           "angularaxis": {
            "gridcolor": "white",
            "linecolor": "white",
            "ticks": ""
           },
           "bgcolor": "#E5ECF6",
           "radialaxis": {
            "gridcolor": "white",
            "linecolor": "white",
            "ticks": ""
           }
          },
          "scene": {
           "xaxis": {
            "backgroundcolor": "#E5ECF6",
            "gridcolor": "white",
            "gridwidth": 2,
            "linecolor": "white",
            "showbackground": true,
            "ticks": "",
            "zerolinecolor": "white"
           },
           "yaxis": {
            "backgroundcolor": "#E5ECF6",
            "gridcolor": "white",
            "gridwidth": 2,
            "linecolor": "white",
            "showbackground": true,
            "ticks": "",
            "zerolinecolor": "white"
           },
           "zaxis": {
            "backgroundcolor": "#E5ECF6",
            "gridcolor": "white",
            "gridwidth": 2,
            "linecolor": "white",
            "showbackground": true,
            "ticks": "",
            "zerolinecolor": "white"
           }
          },
          "shapedefaults": {
           "line": {
            "color": "#2a3f5f"
           }
          },
          "ternary": {
           "aaxis": {
            "gridcolor": "white",
            "linecolor": "white",
            "ticks": ""
           },
           "baxis": {
            "gridcolor": "white",
            "linecolor": "white",
            "ticks": ""
           },
           "bgcolor": "#E5ECF6",
           "caxis": {
            "gridcolor": "white",
            "linecolor": "white",
            "ticks": ""
           }
          },
          "title": {
           "x": 0.05
          },
          "xaxis": {
           "automargin": true,
           "gridcolor": "white",
           "linecolor": "white",
           "ticks": "",
           "title": {
            "standoff": 15
           },
           "zerolinecolor": "white",
           "zerolinewidth": 2
          },
          "yaxis": {
           "automargin": true,
           "gridcolor": "white",
           "linecolor": "white",
           "ticks": "",
           "title": {
            "standoff": 15
           },
           "zerolinecolor": "white",
           "zerolinewidth": 2
          }
         }
        },
        "title": {
         "text": "Distribution of Age"
        },
        "xaxis": {
         "anchor": "y",
         "domain": [
          0,
          1
         ],
         "title": {
          "text": "age"
         }
        },
        "xaxis2": {
         "anchor": "y2",
         "domain": [
          0,
          1
         ],
         "matches": "x",
         "showgrid": true,
         "showticklabels": false
        },
        "yaxis": {
         "anchor": "x",
         "domain": [
          0,
          0.8316
         ],
         "title": {
          "text": "count"
         }
        },
        "yaxis2": {
         "anchor": "x2",
         "domain": [
          0.8416,
          1
         ],
         "matches": "y2",
         "showgrid": false,
         "showline": false,
         "showticklabels": false,
         "ticks": ""
        }
       }
      }
     },
     "metadata": {},
     "output_type": "display_data"
    }
   ],
   "source": [
    "#visualizing the age using histogram\n",
    "fig = px.histogram(medical_df, \n",
    "                   x='age',\n",
    "                   marginal='box',\n",
    "                   nbins = 47,\n",
    "                   title='Distribution of Age')\n",
    "fig.update_layout(bargap=0.1)\n",
    "fig.show()\n",
    "#almost a uniform distribution except for age 18 and 19"
   ]
  },
  {
   "cell_type": "code",
   "execution_count": 8,
   "metadata": {},
   "outputs": [
    {
     "data": {
      "application/vnd.plotly.v1+json": {
       "config": {
        "plotlyServerURL": "https://plot.ly"
       },
       "data": [
        {
         "bingroup": "x",
         "hovertemplate": "bmi=%{x}<br>count=%{y}<extra></extra>",
         "legendgroup": "",
         "marker": {
          "color": "red",
          "pattern": {
           "shape": ""
          }
         },
         "name": "",
         "orientation": "v",
         "showlegend": false,
         "type": "histogram",
         "x": {
          "bdata": "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",
          "dtype": "f8"
         },
         "xaxis": "x",
         "yaxis": "y"
        },
        {
         "hovertemplate": "bmi=%{x}<extra></extra>",
         "legendgroup": "",
         "marker": {
          "color": "red"
         },
         "name": "",
         "notched": true,
         "showlegend": false,
         "type": "box",
         "x": {
          "bdata": "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",
          "dtype": "f8"
         },
         "xaxis": "x2",
         "yaxis": "y2"
        }
       ],
       "layout": {
        "bargap": 0.1,
        "barmode": "relative",
        "legend": {
         "tracegroupgap": 0
        },
        "template": {
         "data": {
          "bar": [
           {
            "error_x": {
             "color": "#2a3f5f"
            },
            "error_y": {
             "color": "#2a3f5f"
            },
            "marker": {
             "line": {
              "color": "#E5ECF6",
              "width": 0.5
             },
             "pattern": {
              "fillmode": "overlay",
              "size": 10,
              "solidity": 0.2
             }
            },
            "type": "bar"
           }
          ],
          "barpolar": [
           {
            "marker": {
             "line": {
              "color": "#E5ECF6",
              "width": 0.5
             },
             "pattern": {
              "fillmode": "overlay",
              "size": 10,
              "solidity": 0.2
             }
            },
            "type": "barpolar"
           }
          ],
          "carpet": [
           {
            "aaxis": {
             "endlinecolor": "#2a3f5f",
             "gridcolor": "white",
             "linecolor": "white",
             "minorgridcolor": "white",
             "startlinecolor": "#2a3f5f"
            },
            "baxis": {
             "endlinecolor": "#2a3f5f",
             "gridcolor": "white",
             "linecolor": "white",
             "minorgridcolor": "white",
             "startlinecolor": "#2a3f5f"
            },
            "type": "carpet"
           }
          ],
          "choropleth": [
           {
            "colorbar": {
             "outlinewidth": 0,
             "ticks": ""
            },
            "type": "choropleth"
           }
          ],
          "contour": [
           {
            "colorbar": {
             "outlinewidth": 0,
             "ticks": ""
            },
            "colorscale": [
             [
              0,
              "#0d0887"
             ],
             [
              0.1111111111111111,
              "#46039f"
             ],
             [
              0.2222222222222222,
              "#7201a8"
             ],
             [
              0.3333333333333333,
              "#9c179e"
             ],
             [
              0.4444444444444444,
              "#bd3786"
             ],
             [
              0.5555555555555556,
              "#d8576b"
             ],
             [
              0.6666666666666666,
              "#ed7953"
             ],
             [
              0.7777777777777778,
              "#fb9f3a"
             ],
             [
              0.8888888888888888,
              "#fdca26"
             ],
             [
              1,
              "#f0f921"
             ]
            ],
            "type": "contour"
           }
          ],
          "contourcarpet": [
           {
            "colorbar": {
             "outlinewidth": 0,
             "ticks": ""
            },
            "type": "contourcarpet"
           }
          ],
          "heatmap": [
           {
            "colorbar": {
             "outlinewidth": 0,
             "ticks": ""
            },
            "colorscale": [
             [
              0,
              "#0d0887"
             ],
             [
              0.1111111111111111,
              "#46039f"
             ],
             [
              0.2222222222222222,
              "#7201a8"
             ],
             [
              0.3333333333333333,
              "#9c179e"
             ],
             [
              0.4444444444444444,
              "#bd3786"
             ],
             [
              0.5555555555555556,
              "#d8576b"
             ],
             [
              0.6666666666666666,
              "#ed7953"
             ],
             [
              0.7777777777777778,
              "#fb9f3a"
             ],
             [
              0.8888888888888888,
              "#fdca26"
             ],
             [
              1,
              "#f0f921"
             ]
            ],
            "type": "heatmap"
           }
          ],
          "histogram": [
           {
            "marker": {
             "pattern": {
              "fillmode": "overlay",
              "size": 10,
              "solidity": 0.2
             }
            },
            "type": "histogram"
           }
          ],
          "histogram2d": [
           {
            "colorbar": {
             "outlinewidth": 0,
             "ticks": ""
            },
            "colorscale": [
             [
              0,
              "#0d0887"
             ],
             [
              0.1111111111111111,
              "#46039f"
             ],
             [
              0.2222222222222222,
              "#7201a8"
             ],
             [
              0.3333333333333333,
              "#9c179e"
             ],
             [
              0.4444444444444444,
              "#bd3786"
             ],
             [
              0.5555555555555556,
              "#d8576b"
             ],
             [
              0.6666666666666666,
              "#ed7953"
             ],
             [
              0.7777777777777778,
              "#fb9f3a"
             ],
             [
              0.8888888888888888,
              "#fdca26"
             ],
             [
              1,
              "#f0f921"
             ]
            ],
            "type": "histogram2d"
           }
          ],
          "histogram2dcontour": [
           {
            "colorbar": {
             "outlinewidth": 0,
             "ticks": ""
            },
            "colorscale": [
             [
              0,
              "#0d0887"
             ],
             [
              0.1111111111111111,
              "#46039f"
             ],
             [
              0.2222222222222222,
              "#7201a8"
             ],
             [
              0.3333333333333333,
              "#9c179e"
             ],
             [
              0.4444444444444444,
              "#bd3786"
             ],
             [
              0.5555555555555556,
              "#d8576b"
             ],
             [
              0.6666666666666666,
              "#ed7953"
             ],
             [
              0.7777777777777778,
              "#fb9f3a"
             ],
             [
              0.8888888888888888,
              "#fdca26"
             ],
             [
              1,
              "#f0f921"
             ]
            ],
            "type": "histogram2dcontour"
           }
          ],
          "mesh3d": [
           {
            "colorbar": {
             "outlinewidth": 0,
             "ticks": ""
            },
            "type": "mesh3d"
           }
          ],
          "parcoords": [
           {
            "line": {
             "colorbar": {
              "outlinewidth": 0,
              "ticks": ""
             }
            },
            "type": "parcoords"
           }
          ],
          "pie": [
           {
            "automargin": true,
            "type": "pie"
           }
          ],
          "scatter": [
           {
            "fillpattern": {
             "fillmode": "overlay",
             "size": 10,
             "solidity": 0.2
            },
            "type": "scatter"
           }
          ],
          "scatter3d": [
           {
            "line": {
             "colorbar": {
              "outlinewidth": 0,
              "ticks": ""
             }
            },
            "marker": {
             "colorbar": {
              "outlinewidth": 0,
              "ticks": ""
             }
            },
            "type": "scatter3d"
           }
          ],
          "scattercarpet": [
           {
            "marker": {
             "colorbar": {
              "outlinewidth": 0,
              "ticks": ""
             }
            },
            "type": "scattercarpet"
           }
          ],
          "scattergeo": [
           {
            "marker": {
             "colorbar": {
              "outlinewidth": 0,
              "ticks": ""
             }
            },
            "type": "scattergeo"
           }
          ],
          "scattergl": [
           {
            "marker": {
             "colorbar": {
              "outlinewidth": 0,
              "ticks": ""
             }
            },
            "type": "scattergl"
           }
          ],
          "scattermap": [
           {
            "marker": {
             "colorbar": {
              "outlinewidth": 0,
              "ticks": ""
             }
            },
            "type": "scattermap"
           }
          ],
          "scattermapbox": [
           {
            "marker": {
             "colorbar": {
              "outlinewidth": 0,
              "ticks": ""
             }
            },
            "type": "scattermapbox"
           }
          ],
          "scatterpolar": [
           {
            "marker": {
             "colorbar": {
              "outlinewidth": 0,
              "ticks": ""
             }
            },
            "type": "scatterpolar"
           }
          ],
          "scatterpolargl": [
           {
            "marker": {
             "colorbar": {
              "outlinewidth": 0,
              "ticks": ""
             }
            },
            "type": "scatterpolargl"
           }
          ],
          "scatterternary": [
           {
            "marker": {
             "colorbar": {
              "outlinewidth": 0,
              "ticks": ""
             }
            },
            "type": "scatterternary"
           }
          ],
          "surface": [
           {
            "colorbar": {
             "outlinewidth": 0,
             "ticks": ""
            },
            "colorscale": [
             [
              0,
              "#0d0887"
             ],
             [
              0.1111111111111111,
              "#46039f"
             ],
             [
              0.2222222222222222,
              "#7201a8"
             ],
             [
              0.3333333333333333,
              "#9c179e"
             ],
             [
              0.4444444444444444,
              "#bd3786"
             ],
             [
              0.5555555555555556,
              "#d8576b"
             ],
             [
              0.6666666666666666,
              "#ed7953"
             ],
             [
              0.7777777777777778,
              "#fb9f3a"
             ],
             [
              0.8888888888888888,
              "#fdca26"
             ],
             [
              1,
              "#f0f921"
             ]
            ],
            "type": "surface"
           }
          ],
          "table": [
           {
            "cells": {
             "fill": {
              "color": "#EBF0F8"
             },
             "line": {
              "color": "white"
             }
            },
            "header": {
             "fill": {
              "color": "#C8D4E3"
             },
             "line": {
              "color": "white"
             }
            },
            "type": "table"
           }
          ]
         },
         "layout": {
          "annotationdefaults": {
           "arrowcolor": "#2a3f5f",
           "arrowhead": 0,
           "arrowwidth": 1
          },
          "autotypenumbers": "strict",
          "coloraxis": {
           "colorbar": {
            "outlinewidth": 0,
            "ticks": ""
           }
          },
          "colorscale": {
           "diverging": [
            [
             0,
             "#8e0152"
            ],
            [
             0.1,
             "#c51b7d"
            ],
            [
             0.2,
             "#de77ae"
            ],
            [
             0.3,
             "#f1b6da"
            ],
            [
             0.4,
             "#fde0ef"
            ],
            [
             0.5,
             "#f7f7f7"
            ],
            [
             0.6,
             "#e6f5d0"
            ],
            [
             0.7,
             "#b8e186"
            ],
            [
             0.8,
             "#7fbc41"
            ],
            [
             0.9,
             "#4d9221"
            ],
            [
             1,
             "#276419"
            ]
           ],
           "sequential": [
            [
             0,
             "#0d0887"
            ],
            [
             0.1111111111111111,
             "#46039f"
            ],
            [
             0.2222222222222222,
             "#7201a8"
            ],
            [
             0.3333333333333333,
             "#9c179e"
            ],
            [
             0.4444444444444444,
             "#bd3786"
            ],
            [
             0.5555555555555556,
             "#d8576b"
            ],
            [
             0.6666666666666666,
             "#ed7953"
            ],
            [
             0.7777777777777778,
             "#fb9f3a"
            ],
            [
             0.8888888888888888,
             "#fdca26"
            ],
            [
             1,
             "#f0f921"
            ]
           ],
           "sequentialminus": [
            [
             0,
             "#0d0887"
            ],
            [
             0.1111111111111111,
             "#46039f"
            ],
            [
             0.2222222222222222,
             "#7201a8"
            ],
            [
             0.3333333333333333,
             "#9c179e"
            ],
            [
             0.4444444444444444,
             "#bd3786"
            ],
            [
             0.5555555555555556,
             "#d8576b"
            ],
            [
             0.6666666666666666,
             "#ed7953"
            ],
            [
             0.7777777777777778,
             "#fb9f3a"
            ],
            [
             0.8888888888888888,
             "#fdca26"
            ],
            [
             1,
             "#f0f921"
            ]
           ]
          },
          "colorway": [
           "#636efa",
           "#EF553B",
           "#00cc96",
           "#ab63fa",
           "#FFA15A",
           "#19d3f3",
           "#FF6692",
           "#B6E880",
           "#FF97FF",
           "#FECB52"
          ],
          "font": {
           "color": "#2a3f5f"
          },
          "geo": {
           "bgcolor": "white",
           "lakecolor": "white",
           "landcolor": "#E5ECF6",
           "showlakes": true,
           "showland": true,
           "subunitcolor": "white"
          },
          "hoverlabel": {
           "align": "left"
          },
          "hovermode": "closest",
          "mapbox": {
           "style": "light"
          },
          "paper_bgcolor": "white",
          "plot_bgcolor": "#E5ECF6",
          "polar": {
           "angularaxis": {
            "gridcolor": "white",
            "linecolor": "white",
            "ticks": ""
           },
           "bgcolor": "#E5ECF6",
           "radialaxis": {
            "gridcolor": "white",
            "linecolor": "white",
            "ticks": ""
           }
          },
          "scene": {
           "xaxis": {
            "backgroundcolor": "#E5ECF6",
            "gridcolor": "white",
            "gridwidth": 2,
            "linecolor": "white",
            "showbackground": true,
            "ticks": "",
            "zerolinecolor": "white"
           },
           "yaxis": {
            "backgroundcolor": "#E5ECF6",
            "gridcolor": "white",
            "gridwidth": 2,
            "linecolor": "white",
            "showbackground": true,
            "ticks": "",
            "zerolinecolor": "white"
           },
           "zaxis": {
            "backgroundcolor": "#E5ECF6",
            "gridcolor": "white",
            "gridwidth": 2,
            "linecolor": "white",
            "showbackground": true,
            "ticks": "",
            "zerolinecolor": "white"
           }
          },
          "shapedefaults": {
           "line": {
            "color": "#2a3f5f"
           }
          },
          "ternary": {
           "aaxis": {
            "gridcolor": "white",
            "linecolor": "white",
            "ticks": ""
           },
           "baxis": {
            "gridcolor": "white",
            "linecolor": "white",
            "ticks": ""
           },
           "bgcolor": "#E5ECF6",
           "caxis": {
            "gridcolor": "white",
            "linecolor": "white",
            "ticks": ""
           }
          },
          "title": {
           "x": 0.05
          },
          "xaxis": {
           "automargin": true,
           "gridcolor": "white",
           "linecolor": "white",
           "ticks": "",
           "title": {
            "standoff": 15
           },
           "zerolinecolor": "white",
           "zerolinewidth": 2
          },
          "yaxis": {
           "automargin": true,
           "gridcolor": "white",
           "linecolor": "white",
           "ticks": "",
           "title": {
            "standoff": 15
           },
           "zerolinecolor": "white",
           "zerolinewidth": 2
          }
         }
        },
        "title": {
         "text": "Distribution of BMI"
        },
        "xaxis": {
         "anchor": "y",
         "domain": [
          0,
          1
         ],
         "title": {
          "text": "bmi"
         }
        },
        "xaxis2": {
         "anchor": "y2",
         "domain": [
          0,
          1
         ],
         "matches": "x",
         "showgrid": true,
         "showticklabels": false
        },
        "yaxis": {
         "anchor": "x",
         "domain": [
          0,
          0.8316
         ],
         "title": {
          "text": "count"
         }
        },
        "yaxis2": {
         "anchor": "x2",
         "domain": [
          0.8416,
          1
         ],
         "matches": "y2",
         "showgrid": false,
         "showline": false,
         "showticklabels": false,
         "ticks": ""
        }
       }
      }
     },
     "metadata": {},
     "output_type": "display_data"
    }
   ],
   "source": [
    "fig = px.histogram(medical_df, \n",
    "                   x='bmi',\n",
    "                   marginal='box',\n",
    "                   color_discrete_sequence=['red'],\n",
    "                   title='Distribution of BMI')\n",
    "fig.update_layout(bargap=0.1)\n",
    "fig.show()\n",
    "#Looks like normal distribution"
   ]
  },
  {
   "cell_type": "code",
   "execution_count": 9,
   "metadata": {},
   "outputs": [
    {
     "data": {
      "application/vnd.plotly.v1+json": {
       "config": {
        "plotlyServerURL": "https://plot.ly"
       },
       "data": [
        {
         "bingroup": "x",
         "hovertemplate": "smoker=yes<br>charges=%{x}<br>count=%{y}<extra></extra>",
         "legendgroup": "yes",
         "marker": {
          "color": "green",
          "pattern": {
           "shape": ""
          }
         },
         "name": "yes",
         "orientation": "v",
         "showlegend": true,
         "type": "histogram",
         "x": {
          "bdata": "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",
          "dtype": "f8"
         },
         "xaxis": "x",
         "yaxis": "y"
        },
        {
         "hovertemplate": "smoker=yes<br>charges=%{x}<extra></extra>",
         "legendgroup": "yes",
         "marker": {
          "color": "green"
         },
         "name": "yes",
         "notched": true,
         "showlegend": false,
         "type": "box",
         "x": {
          "bdata": "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",
          "dtype": "f8"
         },
         "xaxis": "x2",
         "yaxis": "y2"
        },
        {
         "bingroup": "x",
         "hovertemplate": "smoker=no<br>charges=%{x}<br>count=%{y}<extra></extra>",
         "legendgroup": "no",
         "marker": {
          "color": "grey",
          "pattern": {
           "shape": ""
          }
         },
         "name": "no",
         "orientation": "v",
         "showlegend": true,
         "type": "histogram",
         "x": {
          "bdata": "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",
          "dtype": "f8"
         },
         "xaxis": "x",
         "yaxis": "y"
        },
        {
         "hovertemplate": "smoker=no<br>charges=%{x}<extra></extra>",
         "legendgroup": "no",
         "marker": {
          "color": "grey"
         },
         "name": "no",
         "notched": true,
         "showlegend": false,
         "type": "box",
         "x": {
          "bdata": "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",
          "dtype": "f8"
         },
         "xaxis": "x2",
         "yaxis": "y2"
        }
       ],
       "layout": {
        "bargap": 0.1,
        "barmode": "relative",
        "legend": {
         "title": {
          "text": "smoker"
         },
         "tracegroupgap": 0
        },
        "template": {
         "data": {
          "bar": [
           {
            "error_x": {
             "color": "#2a3f5f"
            },
            "error_y": {
             "color": "#2a3f5f"
            },
            "marker": {
             "line": {
              "color": "#E5ECF6",
              "width": 0.5
             },
             "pattern": {
              "fillmode": "overlay",
              "size": 10,
              "solidity": 0.2
             }
            },
            "type": "bar"
           }
          ],
          "barpolar": [
           {
            "marker": {
             "line": {
              "color": "#E5ECF6",
              "width": 0.5
             },
             "pattern": {
              "fillmode": "overlay",
              "size": 10,
              "solidity": 0.2
             }
            },
            "type": "barpolar"
           }
          ],
          "carpet": [
           {
            "aaxis": {
             "endlinecolor": "#2a3f5f",
             "gridcolor": "white",
             "linecolor": "white",
             "minorgridcolor": "white",
             "startlinecolor": "#2a3f5f"
            },
            "baxis": {
             "endlinecolor": "#2a3f5f",
             "gridcolor": "white",
             "linecolor": "white",
             "minorgridcolor": "white",
             "startlinecolor": "#2a3f5f"
            },
            "type": "carpet"
           }
          ],
          "choropleth": [
           {
            "colorbar": {
             "outlinewidth": 0,
             "ticks": ""
            },
            "type": "choropleth"
           }
          ],
          "contour": [
           {
            "colorbar": {
             "outlinewidth": 0,
             "ticks": ""
            },
            "colorscale": [
             [
              0,
              "#0d0887"
             ],
             [
              0.1111111111111111,
              "#46039f"
             ],
             [
              0.2222222222222222,
              "#7201a8"
             ],
             [
              0.3333333333333333,
              "#9c179e"
             ],
             [
              0.4444444444444444,
              "#bd3786"
             ],
             [
              0.5555555555555556,
              "#d8576b"
             ],
             [
              0.6666666666666666,
              "#ed7953"
             ],
             [
              0.7777777777777778,
              "#fb9f3a"
             ],
             [
              0.8888888888888888,
              "#fdca26"
             ],
             [
              1,
              "#f0f921"
             ]
            ],
            "type": "contour"
           }
          ],
          "contourcarpet": [
           {
            "colorbar": {
             "outlinewidth": 0,
             "ticks": ""
            },
            "type": "contourcarpet"
           }
          ],
          "heatmap": [
           {
            "colorbar": {
             "outlinewidth": 0,
             "ticks": ""
            },
            "colorscale": [
             [
              0,
              "#0d0887"
             ],
             [
              0.1111111111111111,
              "#46039f"
             ],
             [
              0.2222222222222222,
              "#7201a8"
             ],
             [
              0.3333333333333333,
              "#9c179e"
             ],
             [
              0.4444444444444444,
              "#bd3786"
             ],
             [
              0.5555555555555556,
              "#d8576b"
             ],
             [
              0.6666666666666666,
              "#ed7953"
             ],
             [
              0.7777777777777778,
              "#fb9f3a"
             ],
             [
              0.8888888888888888,
              "#fdca26"
             ],
             [
              1,
              "#f0f921"
             ]
            ],
            "type": "heatmap"
           }
          ],
          "histogram": [
           {
            "marker": {
             "pattern": {
              "fillmode": "overlay",
              "size": 10,
              "solidity": 0.2
             }
            },
            "type": "histogram"
           }
          ],
          "histogram2d": [
           {
            "colorbar": {
             "outlinewidth": 0,
             "ticks": ""
            },
            "colorscale": [
             [
              0,
              "#0d0887"
             ],
             [
              0.1111111111111111,
              "#46039f"
             ],
             [
              0.2222222222222222,
              "#7201a8"
             ],
             [
              0.3333333333333333,
              "#9c179e"
             ],
             [
              0.4444444444444444,
              "#bd3786"
             ],
             [
              0.5555555555555556,
              "#d8576b"
             ],
             [
              0.6666666666666666,
              "#ed7953"
             ],
             [
              0.7777777777777778,
              "#fb9f3a"
             ],
             [
              0.8888888888888888,
              "#fdca26"
             ],
             [
              1,
              "#f0f921"
             ]
            ],
            "type": "histogram2d"
           }
          ],
          "histogram2dcontour": [
           {
            "colorbar": {
             "outlinewidth": 0,
             "ticks": ""
            },
            "colorscale": [
             [
              0,
              "#0d0887"
             ],
             [
              0.1111111111111111,
              "#46039f"
             ],
             [
              0.2222222222222222,
              "#7201a8"
             ],
             [
              0.3333333333333333,
              "#9c179e"
             ],
             [
              0.4444444444444444,
              "#bd3786"
             ],
             [
              0.5555555555555556,
              "#d8576b"
             ],
             [
              0.6666666666666666,
              "#ed7953"
             ],
             [
              0.7777777777777778,
              "#fb9f3a"
             ],
             [
              0.8888888888888888,
              "#fdca26"
             ],
             [
              1,
              "#f0f921"
             ]
            ],
            "type": "histogram2dcontour"
           }
          ],
          "mesh3d": [
           {
            "colorbar": {
             "outlinewidth": 0,
             "ticks": ""
            },
            "type": "mesh3d"
           }
          ],
          "parcoords": [
           {
            "line": {
             "colorbar": {
              "outlinewidth": 0,
              "ticks": ""
             }
            },
            "type": "parcoords"
           }
          ],
          "pie": [
           {
            "automargin": true,
            "type": "pie"
           }
          ],
          "scatter": [
           {
            "fillpattern": {
             "fillmode": "overlay",
             "size": 10,
             "solidity": 0.2
            },
            "type": "scatter"
           }
          ],
          "scatter3d": [
           {
            "line": {
             "colorbar": {
              "outlinewidth": 0,
              "ticks": ""
             }
            },
            "marker": {
             "colorbar": {
              "outlinewidth": 0,
              "ticks": ""
             }
            },
            "type": "scatter3d"
           }
          ],
          "scattercarpet": [
           {
            "marker": {
             "colorbar": {
              "outlinewidth": 0,
              "ticks": ""
             }
            },
            "type": "scattercarpet"
           }
          ],
          "scattergeo": [
           {
            "marker": {
             "colorbar": {
              "outlinewidth": 0,
              "ticks": ""
             }
            },
            "type": "scattergeo"
           }
          ],
          "scattergl": [
           {
            "marker": {
             "colorbar": {
              "outlinewidth": 0,
              "ticks": ""
             }
            },
            "type": "scattergl"
           }
          ],
          "scattermap": [
           {
            "marker": {
             "colorbar": {
              "outlinewidth": 0,
              "ticks": ""
             }
            },
            "type": "scattermap"
           }
          ],
          "scattermapbox": [
           {
            "marker": {
             "colorbar": {
              "outlinewidth": 0,
              "ticks": ""
             }
            },
            "type": "scattermapbox"
           }
          ],
          "scatterpolar": [
           {
            "marker": {
             "colorbar": {
              "outlinewidth": 0,
              "ticks": ""
             }
            },
            "type": "scatterpolar"
           }
          ],
          "scatterpolargl": [
           {
            "marker": {
             "colorbar": {
              "outlinewidth": 0,
              "ticks": ""
             }
            },
            "type": "scatterpolargl"
           }
          ],
          "scatterternary": [
           {
            "marker": {
             "colorbar": {
              "outlinewidth": 0,
              "ticks": ""
             }
            },
            "type": "scatterternary"
           }
          ],
          "surface": [
           {
            "colorbar": {
             "outlinewidth": 0,
             "ticks": ""
            },
            "colorscale": [
             [
              0,
              "#0d0887"
             ],
             [
              0.1111111111111111,
              "#46039f"
             ],
             [
              0.2222222222222222,
              "#7201a8"
             ],
             [
              0.3333333333333333,
              "#9c179e"
             ],
             [
              0.4444444444444444,
              "#bd3786"
             ],
             [
              0.5555555555555556,
              "#d8576b"
             ],
             [
              0.6666666666666666,
              "#ed7953"
             ],
             [
              0.7777777777777778,
              "#fb9f3a"
             ],
             [
              0.8888888888888888,
              "#fdca26"
             ],
             [
              1,
              "#f0f921"
             ]
            ],
            "type": "surface"
           }
          ],
          "table": [
           {
            "cells": {
             "fill": {
              "color": "#EBF0F8"
             },
             "line": {
              "color": "white"
             }
            },
            "header": {
             "fill": {
              "color": "#C8D4E3"
             },
             "line": {
              "color": "white"
             }
            },
            "type": "table"
           }
          ]
         },
         "layout": {
          "annotationdefaults": {
           "arrowcolor": "#2a3f5f",
           "arrowhead": 0,
           "arrowwidth": 1
          },
          "autotypenumbers": "strict",
          "coloraxis": {
           "colorbar": {
            "outlinewidth": 0,
            "ticks": ""
           }
          },
          "colorscale": {
           "diverging": [
            [
             0,
             "#8e0152"
            ],
            [
             0.1,
             "#c51b7d"
            ],
            [
             0.2,
             "#de77ae"
            ],
            [
             0.3,
             "#f1b6da"
            ],
            [
             0.4,
             "#fde0ef"
            ],
            [
             0.5,
             "#f7f7f7"
            ],
            [
             0.6,
             "#e6f5d0"
            ],
            [
             0.7,
             "#b8e186"
            ],
            [
             0.8,
             "#7fbc41"
            ],
            [
             0.9,
             "#4d9221"
            ],
            [
             1,
             "#276419"
            ]
           ],
           "sequential": [
            [
             0,
             "#0d0887"
            ],
            [
             0.1111111111111111,
             "#46039f"
            ],
            [
             0.2222222222222222,
             "#7201a8"
            ],
            [
             0.3333333333333333,
             "#9c179e"
            ],
            [
             0.4444444444444444,
             "#bd3786"
            ],
            [
             0.5555555555555556,
             "#d8576b"
            ],
            [
             0.6666666666666666,
             "#ed7953"
            ],
            [
             0.7777777777777778,
             "#fb9f3a"
            ],
            [
             0.8888888888888888,
             "#fdca26"
            ],
            [
             1,
             "#f0f921"
            ]
           ],
           "sequentialminus": [
            [
             0,
             "#0d0887"
            ],
            [
             0.1111111111111111,
             "#46039f"
            ],
            [
             0.2222222222222222,
             "#7201a8"
            ],
            [
             0.3333333333333333,
             "#9c179e"
            ],
            [
             0.4444444444444444,
             "#bd3786"
            ],
            [
             0.5555555555555556,
             "#d8576b"
            ],
            [
             0.6666666666666666,
             "#ed7953"
            ],
            [
             0.7777777777777778,
             "#fb9f3a"
            ],
            [
             0.8888888888888888,
             "#fdca26"
            ],
            [
             1,
             "#f0f921"
            ]
           ]
          },
          "colorway": [
           "#636efa",
           "#EF553B",
           "#00cc96",
           "#ab63fa",
           "#FFA15A",
           "#19d3f3",
           "#FF6692",
           "#B6E880",
           "#FF97FF",
           "#FECB52"
          ],
          "font": {
           "color": "#2a3f5f"
          },
          "geo": {
           "bgcolor": "white",
           "lakecolor": "white",
           "landcolor": "#E5ECF6",
           "showlakes": true,
           "showland": true,
           "subunitcolor": "white"
          },
          "hoverlabel": {
           "align": "left"
          },
          "hovermode": "closest",
          "mapbox": {
           "style": "light"
          },
          "paper_bgcolor": "white",
          "plot_bgcolor": "#E5ECF6",
          "polar": {
           "angularaxis": {
            "gridcolor": "white",
            "linecolor": "white",
            "ticks": ""
           },
           "bgcolor": "#E5ECF6",
           "radialaxis": {
            "gridcolor": "white",
            "linecolor": "white",
            "ticks": ""
           }
          },
          "scene": {
           "xaxis": {
            "backgroundcolor": "#E5ECF6",
            "gridcolor": "white",
            "gridwidth": 2,
            "linecolor": "white",
            "showbackground": true,
            "ticks": "",
            "zerolinecolor": "white"
           },
           "yaxis": {
            "backgroundcolor": "#E5ECF6",
            "gridcolor": "white",
            "gridwidth": 2,
            "linecolor": "white",
            "showbackground": true,
            "ticks": "",
            "zerolinecolor": "white"
           },
           "zaxis": {
            "backgroundcolor": "#E5ECF6",
            "gridcolor": "white",
            "gridwidth": 2,
            "linecolor": "white",
            "showbackground": true,
            "ticks": "",
            "zerolinecolor": "white"
           }
          },
          "shapedefaults": {
           "line": {
            "color": "#2a3f5f"
           }
          },
          "ternary": {
           "aaxis": {
            "gridcolor": "white",
            "linecolor": "white",
            "ticks": ""
           },
           "baxis": {
            "gridcolor": "white",
            "linecolor": "white",
            "ticks": ""
           },
           "bgcolor": "#E5ECF6",
           "caxis": {
            "gridcolor": "white",
            "linecolor": "white",
            "ticks": ""
           }
          },
          "title": {
           "x": 0.05
          },
          "xaxis": {
           "automargin": true,
           "gridcolor": "white",
           "linecolor": "white",
           "ticks": "",
           "title": {
            "standoff": 15
           },
           "zerolinecolor": "white",
           "zerolinewidth": 2
          },
          "yaxis": {
           "automargin": true,
           "gridcolor": "white",
           "linecolor": "white",
           "ticks": "",
           "title": {
            "standoff": 15
           },
           "zerolinecolor": "white",
           "zerolinewidth": 2
          }
         }
        },
        "title": {
         "text": "Annual Medical Charges"
        },
        "xaxis": {
         "anchor": "y",
         "domain": [
          0,
          1
         ],
         "title": {
          "text": "charges"
         }
        },
        "xaxis2": {
         "anchor": "y2",
         "domain": [
          0,
          1
         ],
         "matches": "x",
         "showgrid": true,
         "showticklabels": false
        },
        "yaxis": {
         "anchor": "x",
         "domain": [
          0,
          0.7326
         ],
         "title": {
          "text": "count"
         }
        },
        "yaxis2": {
         "anchor": "x2",
         "domain": [
          0.7426,
          1
         ],
         "matches": "y2",
         "showgrid": false,
         "showline": false,
         "showticklabels": false,
         "ticks": ""
        }
       }
      }
     },
     "metadata": {},
     "output_type": "display_data"
    }
   ],
   "source": [
    "fig = px.histogram(medical_df, \n",
    "                   x='charges',\n",
    "                   marginal='box',\n",
    "                   color='smoker',\n",
    "                   color_discrete_sequence=['green', 'grey'],\n",
    "                   title='Annual Medical Charges')\n",
    "fig.update_layout(bargap=0.1)\n",
    "fig.show()"
   ]
  },
  {
   "cell_type": "code",
   "execution_count": 10,
   "metadata": {},
   "outputs": [
    {
     "data": {
      "application/vnd.plotly.v1+json": {
       "config": {
        "plotlyServerURL": "https://plot.ly"
       },
       "data": [
        {
         "bingroup": "x",
         "hovertemplate": "sex=female<br>region=%{x}<br>count=%{y}<extra></extra>",
         "legendgroup": "female",
         "marker": {
          "color": "green",
          "pattern": {
           "shape": ""
          }
         },
         "name": "female",
         "orientation": "v",
         "showlegend": true,
         "type": "histogram",
         "x": [
          "southwest",
          "southeast",
          "southeast",
          "northwest",
          "northwest",
          "southeast",
          "southeast",
          "northeast",
          "northeast",
          "southwest",
          "northeast",
          "southeast",
          "northeast",
          "northwest",
          "northeast",
          "southwest",
          "northwest",
          "northeast",
          "southeast",
          "southeast",
          "northeast",
          "northwest",
          "southeast",
          "northeast",
          "northwest",
          "northwest",
          "northeast",
          "southeast",
          "northwest",
          "northwest",
          "northwest",
          "southwest",
          "southwest",
          "southeast",
          "southeast",
          "southwest",
          "southeast",
          "northeast",
          "northwest",
          "northeast",
          "northwest",
          "southwest",
          "northwest",
          "southwest",
          "northwest",
          "northwest",
          "southeast",
          "northwest",
          "southwest",
          "southeast",
          "southwest",
          "southwest",
          "northeast",
          "southeast",
          "southwest",
          "southwest",
          "southwest",
          "northwest",
          "southeast",
          "southeast",
          "northwest",
          "northwest",
          "northwest",
          "northeast",
          "southwest",
          "southwest",
          "northwest",
          "northeast",
          "northeast",
          "southwest",
          "northeast",
          "southeast",
          "southeast",
          "southwest",
          "southeast",
          "southeast",
          "northwest",
          "northeast",
          "northeast",
          "northeast",
          "southeast",
          "northwest",
          "southeast",
          "southwest",
          "southwest",
          "northwest",
          "northwest",
          "southwest",
          "northwest",
          "southwest",
          "southwest",
          "northeast",
          "southeast",
          "northwest",
          "southeast",
          "southwest",
          "southwest",
          "northwest",
          "southwest",
          "northwest",
          "southwest",
          "southeast",
          "northwest",
          "northeast",
          "northwest",
          "southeast",
          "northwest",
          "southeast",
          "northeast",
          "southwest",
          "southeast",
          "southwest",
          "southwest",
          "northwest",
          "southeast",
          "southeast",
          "southwest",
          "northeast",
          "southeast",
          "northeast",
          "northwest",
          "southeast",
          "southwest",
          "southeast",
          "southeast",
          "northeast",
          "northeast",
          "southwest",
          "northeast",
          "southeast",
          "southwest",
          "northeast",
          "southeast",
          "southwest",
          "southeast",
          "southeast",
          "northeast",
          "northeast",
          "southwest",
          "southeast",
          "northeast",
          "northeast",
          "southwest",
          "northeast",
          "northwest",
          "northeast",
          "southwest",
          "southeast",
          "northwest",
          "northeast",
          "southeast",
          "southeast",
          "southwest",
          "southwest",
          "southeast",
          "northwest",
          "southwest",
          "southwest",
          "northwest",
          "northeast",
          "southeast",
          "southwest",
          "northeast",
          "northwest",
          "northeast",
          "northeast",
          "southeast",
          "southwest",
          "northeast",
          "southeast",
          "southeast",
          "southeast",
          "northwest",
          "southwest",
          "southwest",
          "southeast",
          "southeast",
          "northeast",
          "southwest",
          "southwest",
          "southeast",
          "northeast",
          "northeast",
          "northwest",
          "northwest",
          "northeast",
          "northeast",
          "northwest",
          "northeast",
          "northwest",
          "northeast",
          "southeast",
          "southeast",
          "northwest",
          "northwest",
          "northwest",
          "northeast",
          "southwest",
          "southeast",
          "southwest",
          "northwest",
          "northeast",
          "southeast",
          "southwest",
          "northeast",
          "northeast",
          "northwest",
          "southeast",
          "southwest",
          "northwest",
          "northeast",
          "northeast",
          "northeast",
          "northwest",
          "northwest",
          "southwest",
          "southeast",
          "northwest",
          "southwest",
          "southeast",
          "southwest",
          "northwest",
          "southwest",
          "southeast",
          "northwest",
          "southeast",
          "southeast",
          "northeast",
          "southeast",
          "southwest",
          "northwest",
          "northeast",
          "southeast",
          "northeast",
          "southwest",
          "northeast",
          "southeast",
          "southwest",
          "northeast",
          "northwest",
          "southeast",
          "southwest",
          "southeast",
          "northeast",
          "southwest",
          "southeast",
          "southwest",
          "southeast",
          "northeast",
          "southwest",
          "southwest",
          "northeast",
          "southeast",
          "northeast",
          "southeast",
          "southeast",
          "northwest",
          "southwest",
          "northeast",
          "southwest",
          "southwest",
          "southeast",
          "southwest",
          "southeast",
          "southeast",
          "southeast",
          "southwest",
          "northeast",
          "southeast",
          "southeast",
          "northwest",
          "northeast",
          "northwest",
          "northwest",
          "northeast",
          "southeast",
          "northwest",
          "northwest",
          "southwest",
          "southwest",
          "southeast",
          "southeast",
          "northeast",
          "northeast",
          "northwest",
          "northeast",
          "northeast",
          "southeast",
          "southeast",
          "northwest",
          "northeast",
          "southeast",
          "southwest",
          "northeast",
          "northeast",
          "southeast",
          "northeast",
          "northwest",
          "southeast",
          "southwest",
          "southeast",
          "northwest",
          "southeast",
          "northeast",
          "northwest",
          "southeast",
          "southwest",
          "northeast",
          "northeast",
          "southeast",
          "southeast",
          "northeast",
          "southeast",
          "southwest",
          "southwest",
          "northwest",
          "northwest",
          "southeast",
          "northwest",
          "northeast",
          "northwest",
          "northeast",
          "northeast",
          "southeast",
          "southeast",
          "southeast",
          "southeast",
          "southeast",
          "southeast",
          "southwest",
          "northeast",
          "northeast",
          "southeast",
          "northeast",
          "southeast",
          "northwest",
          "southeast",
          "northeast",
          "southeast",
          "southeast",
          "southeast",
          "northwest",
          "southwest",
          "southwest",
          "southwest",
          "southwest",
          "northwest",
          "northeast",
          "southeast",
          "southeast",
          "northeast",
          "northwest",
          "northwest",
          "southwest",
          "southeast",
          "northeast",
          "northeast",
          "southeast",
          "northwest",
          "southwest",
          "northwest",
          "northwest",
          "northwest",
          "northeast",
          "northeast",
          "southeast",
          "northeast",
          "northeast",
          "southeast",
          "southwest",
          "northeast",
          "southwest",
          "northwest",
          "southeast",
          "southeast",
          "northwest",
          "southwest",
          "southeast",
          "southeast",
          "northeast",
          "southeast",
          "northeast",
          "northeast",
          "northwest",
          "southwest",
          "southwest",
          "northwest",
          "southwest",
          "northeast",
          "northwest",
          "southwest",
          "southeast",
          "southwest",
          "southeast",
          "southeast",
          "northeast",
          "northwest",
          "northeast",
          "southwest",
          "southeast",
          "southeast",
          "southeast",
          "northwest",
          "northwest",
          "northwest",
          "southwest",
          "northwest",
          "southeast",
          "northwest",
          "northeast",
          "northwest",
          "southeast",
          "southeast",
          "northeast",
          "northwest",
          "northwest",
          "northeast",
          "northeast",
          "northwest",
          "southeast",
          "southeast",
          "southeast",
          "southwest",
          "southwest",
          "northeast",
          "northeast",
          "northeast",
          "northeast",
          "southwest",
          "southeast",
          "southeast",
          "southwest",
          "southwest",
          "northwest",
          "northeast",
          "southwest",
          "southeast",
          "northwest",
          "southwest",
          "southwest",
          "northeast",
          "northeast",
          "northwest",
          "northwest",
          "southeast",
          "southwest",
          "northeast",
          "southeast",
          "northwest",
          "southwest",
          "northeast",
          "southeast",
          "southwest",
          "northwest",
          "southwest",
          "southeast",
          "northwest",
          "southwest",
          "southeast",
          "southwest",
          "southwest",
          "southwest",
          "southwest",
          "southeast",
          "southwest",
          "southwest",
          "southwest",
          "northwest",
          "southeast",
          "northeast",
          "southwest",
          "northwest",
          "northwest",
          "southwest",
          "southeast",
          "southeast",
          "southeast",
          "northeast",
          "northwest",
          "southwest",
          "northeast",
          "southeast",
          "northeast",
          "southwest",
          "northwest",
          "northeast",
          "southwest",
          "northeast",
          "southwest",
          "northwest",
          "northeast",
          "southwest",
          "southeast",
          "northeast",
          "northwest",
          "southwest",
          "southeast",
          "southwest",
          "northwest",
          "southwest",
          "northwest",
          "northwest",
          "southeast",
          "southeast",
          "southwest",
          "northeast",
          "northwest",
          "southeast",
          "northeast",
          "southwest",
          "northwest",
          "northwest",
          "southwest",
          "northwest",
          "northeast",
          "northwest",
          "northwest",
          "northwest",
          "southwest",
          "southeast",
          "southeast",
          "southwest",
          "southwest",
          "southeast",
          "northeast",
          "northeast",
          "southeast",
          "southwest",
          "northwest",
          "southwest",
          "northeast",
          "northwest",
          "southwest",
          "northeast",
          "northeast",
          "northeast",
          "southeast",
          "northeast",
          "southeast",
          "northwest",
          "northwest",
          "northeast",
          "southeast",
          "northwest",
          "northwest",
          "southwest",
          "northwest",
          "northeast",
          "northeast",
          "northwest",
          "southeast",
          "southwest",
          "southeast",
          "northwest",
          "northwest",
          "southwest",
          "northwest",
          "northwest",
          "southwest",
          "southeast",
          "northwest",
          "northeast",
          "northwest",
          "southeast",
          "northwest",
          "northwest",
          "northeast",
          "northwest",
          "northeast",
          "southwest",
          "northwest",
          "northeast",
          "northwest",
          "northeast",
          "southwest",
          "northwest",
          "southwest",
          "southeast",
          "southwest",
          "northwest",
          "southwest",
          "northeast",
          "northeast",
          "northwest",
          "southwest",
          "northeast",
          "southeast",
          "northwest",
          "northeast",
          "southwest",
          "northwest",
          "northeast",
          "northeast",
          "northwest",
          "northwest",
          "northwest",
          "northwest",
          "southwest",
          "southeast",
          "southwest",
          "northeast",
          "southwest",
          "northwest",
          "southwest",
          "northwest",
          "northeast",
          "southeast",
          "southeast",
          "southwest",
          "northwest",
          "southeast",
          "northeast",
          "northwest",
          "southeast",
          "northwest",
          "southeast",
          "southwest",
          "southeast",
          "southwest",
          "southeast",
          "southwest",
          "northwest",
          "northwest",
          "northeast",
          "northeast",
          "southeast",
          "southwest",
          "northeast",
          "southwest",
          "southwest",
          "northwest",
          "northeast",
          "northwest",
          "northwest",
          "southeast",
          "northwest",
          "northeast",
          "northeast",
          "northeast",
          "southwest",
          "northeast",
          "southeast",
          "northwest",
          "southwest",
          "southeast",
          "northeast",
          "southwest",
          "northwest",
          "southwest",
          "northwest",
          "southwest",
          "northwest",
          "southeast",
          "northeast",
          "northeast",
          "southeast",
          "southwest",
          "southwest",
          "northeast",
          "southeast",
          "southwest",
          "northwest"
         ],
         "xaxis": "x",
         "yaxis": "y"
        },
        {
         "hovertemplate": "sex=female<br>region=%{x}<extra></extra>",
         "legendgroup": "female",
         "marker": {
          "color": "green"
         },
         "name": "female",
         "notched": true,
         "showlegend": false,
         "type": "box",
         "x": [
          "southwest",
          "southeast",
          "southeast",
          "northwest",
          "northwest",
          "southeast",
          "southeast",
          "northeast",
          "northeast",
          "southwest",
          "northeast",
          "southeast",
          "northeast",
          "northwest",
          "northeast",
          "southwest",
          "northwest",
          "northeast",
          "southeast",
          "southeast",
          "northeast",
          "northwest",
          "southeast",
          "northeast",
          "northwest",
          "northwest",
          "northeast",
          "southeast",
          "northwest",
          "northwest",
          "northwest",
          "southwest",
          "southwest",
          "southeast",
          "southeast",
          "southwest",
          "southeast",
          "northeast",
          "northwest",
          "northeast",
          "northwest",
          "southwest",
          "northwest",
          "southwest",
          "northwest",
          "northwest",
          "southeast",
          "northwest",
          "southwest",
          "southeast",
          "southwest",
          "southwest",
          "northeast",
          "southeast",
          "southwest",
          "southwest",
          "southwest",
          "northwest",
          "southeast",
          "southeast",
          "northwest",
          "northwest",
          "northwest",
          "northeast",
          "southwest",
          "southwest",
          "northwest",
          "northeast",
          "northeast",
          "southwest",
          "northeast",
          "southeast",
          "southeast",
          "southwest",
          "southeast",
          "southeast",
          "northwest",
          "northeast",
          "northeast",
          "northeast",
          "southeast",
          "northwest",
          "southeast",
          "southwest",
          "southwest",
          "northwest",
          "northwest",
          "southwest",
          "northwest",
          "southwest",
          "southwest",
          "northeast",
          "southeast",
          "northwest",
          "southeast",
          "southwest",
          "southwest",
          "northwest",
          "southwest",
          "northwest",
          "southwest",
          "southeast",
          "northwest",
          "northeast",
          "northwest",
          "southeast",
          "northwest",
          "southeast",
          "northeast",
          "southwest",
          "southeast",
          "southwest",
          "southwest",
          "northwest",
          "southeast",
          "southeast",
          "southwest",
          "northeast",
          "southeast",
          "northeast",
          "northwest",
          "southeast",
          "southwest",
          "southeast",
          "southeast",
          "northeast",
          "northeast",
          "southwest",
          "northeast",
          "southeast",
          "southwest",
          "northeast",
          "southeast",
          "southwest",
          "southeast",
          "southeast",
          "northeast",
          "northeast",
          "southwest",
          "southeast",
          "northeast",
          "northeast",
          "southwest",
          "northeast",
          "northwest",
          "northeast",
          "southwest",
          "southeast",
          "northwest",
          "northeast",
          "southeast",
          "southeast",
          "southwest",
          "southwest",
          "southeast",
          "northwest",
          "southwest",
          "southwest",
          "northwest",
          "northeast",
          "southeast",
          "southwest",
          "northeast",
          "northwest",
          "northeast",
          "northeast",
          "southeast",
          "southwest",
          "northeast",
          "southeast",
          "southeast",
          "southeast",
          "northwest",
          "southwest",
          "southwest",
          "southeast",
          "southeast",
          "northeast",
          "southwest",
          "southwest",
          "southeast",
          "northeast",
          "northeast",
          "northwest",
          "northwest",
          "northeast",
          "northeast",
          "northwest",
          "northeast",
          "northwest",
          "northeast",
          "southeast",
          "southeast",
          "northwest",
          "northwest",
          "northwest",
          "northeast",
          "southwest",
          "southeast",
          "southwest",
          "northwest",
          "northeast",
          "southeast",
          "southwest",
          "northeast",
          "northeast",
          "northwest",
          "southeast",
          "southwest",
          "northwest",
          "northeast",
          "northeast",
          "northeast",
          "northwest",
          "northwest",
          "southwest",
          "southeast",
          "northwest",
          "southwest",
          "southeast",
          "southwest",
          "northwest",
          "southwest",
          "southeast",
          "northwest",
          "southeast",
          "southeast",
          "northeast",
          "southeast",
          "southwest",
          "northwest",
          "northeast",
          "southeast",
          "northeast",
          "southwest",
          "northeast",
          "southeast",
          "southwest",
          "northeast",
          "northwest",
          "southeast",
          "southwest",
          "southeast",
          "northeast",
          "southwest",
          "southeast",
          "southwest",
          "southeast",
          "northeast",
          "southwest",
          "southwest",
          "northeast",
          "southeast",
          "northeast",
          "southeast",
          "southeast",
          "northwest",
          "southwest",
          "northeast",
          "southwest",
          "southwest",
          "southeast",
          "southwest",
          "southeast",
          "southeast",
          "southeast",
          "southwest",
          "northeast",
          "southeast",
          "southeast",
          "northwest",
          "northeast",
          "northwest",
          "northwest",
          "northeast",
          "southeast",
          "northwest",
          "northwest",
          "southwest",
          "southwest",
          "southeast",
          "southeast",
          "northeast",
          "northeast",
          "northwest",
          "northeast",
          "northeast",
          "southeast",
          "southeast",
          "northwest",
          "northeast",
          "southeast",
          "southwest",
          "northeast",
          "northeast",
          "southeast",
          "northeast",
          "northwest",
          "southeast",
          "southwest",
          "southeast",
          "northwest",
          "southeast",
          "northeast",
          "northwest",
          "southeast",
          "southwest",
          "northeast",
          "northeast",
          "southeast",
          "southeast",
          "northeast",
          "southeast",
          "southwest",
          "southwest",
          "northwest",
          "northwest",
          "southeast",
          "northwest",
          "northeast",
          "northwest",
          "northeast",
          "northeast",
          "southeast",
          "southeast",
          "southeast",
          "southeast",
          "southeast",
          "southeast",
          "southwest",
          "northeast",
          "northeast",
          "southeast",
          "northeast",
          "southeast",
          "northwest",
          "southeast",
          "northeast",
          "southeast",
          "southeast",
          "southeast",
          "northwest",
          "southwest",
          "southwest",
          "southwest",
          "southwest",
          "northwest",
          "northeast",
          "southeast",
          "southeast",
          "northeast",
          "northwest",
          "northwest",
          "southwest",
          "southeast",
          "northeast",
          "northeast",
          "southeast",
          "northwest",
          "southwest",
          "northwest",
          "northwest",
          "northwest",
          "northeast",
          "northeast",
          "southeast",
          "northeast",
          "northeast",
          "southeast",
          "southwest",
          "northeast",
          "southwest",
          "northwest",
          "southeast",
          "southeast",
          "northwest",
          "southwest",
          "southeast",
          "southeast",
          "northeast",
          "southeast",
          "northeast",
          "northeast",
          "northwest",
          "southwest",
          "southwest",
          "northwest",
          "southwest",
          "northeast",
          "northwest",
          "southwest",
          "southeast",
          "southwest",
          "southeast",
          "southeast",
          "northeast",
          "northwest",
          "northeast",
          "southwest",
          "southeast",
          "southeast",
          "southeast",
          "northwest",
          "northwest",
          "northwest",
          "southwest",
          "northwest",
          "southeast",
          "northwest",
          "northeast",
          "northwest",
          "southeast",
          "southeast",
          "northeast",
          "northwest",
          "northwest",
          "northeast",
          "northeast",
          "northwest",
          "southeast",
          "southeast",
          "southeast",
          "southwest",
          "southwest",
          "northeast",
          "northeast",
          "northeast",
          "northeast",
          "southwest",
          "southeast",
          "southeast",
          "southwest",
          "southwest",
          "northwest",
          "northeast",
          "southwest",
          "southeast",
          "northwest",
          "southwest",
          "southwest",
          "northeast",
          "northeast",
          "northwest",
          "northwest",
          "southeast",
          "southwest",
          "northeast",
          "southeast",
          "northwest",
          "southwest",
          "northeast",
          "southeast",
          "southwest",
          "northwest",
          "southwest",
          "southeast",
          "northwest",
          "southwest",
          "southeast",
          "southwest",
          "southwest",
          "southwest",
          "southwest",
          "southeast",
          "southwest",
          "southwest",
          "southwest",
          "northwest",
          "southeast",
          "northeast",
          "southwest",
          "northwest",
          "northwest",
          "southwest",
          "southeast",
          "southeast",
          "southeast",
          "northeast",
          "northwest",
          "southwest",
          "northeast",
          "southeast",
          "northeast",
          "southwest",
          "northwest",
          "northeast",
          "southwest",
          "northeast",
          "southwest",
          "northwest",
          "northeast",
          "southwest",
          "southeast",
          "northeast",
          "northwest",
          "southwest",
          "southeast",
          "southwest",
          "northwest",
          "southwest",
          "northwest",
          "northwest",
          "southeast",
          "southeast",
          "southwest",
          "northeast",
          "northwest",
          "southeast",
          "northeast",
          "southwest",
          "northwest",
          "northwest",
          "southwest",
          "northwest",
          "northeast",
          "northwest",
          "northwest",
          "northwest",
          "southwest",
          "southeast",
          "southeast",
          "southwest",
          "southwest",
          "southeast",
          "northeast",
          "northeast",
          "southeast",
          "southwest",
          "northwest",
          "southwest",
          "northeast",
          "northwest",
          "southwest",
          "northeast",
          "northeast",
          "northeast",
          "southeast",
          "northeast",
          "southeast",
          "northwest",
          "northwest",
          "northeast",
          "southeast",
          "northwest",
          "northwest",
          "southwest",
          "northwest",
          "northeast",
          "northeast",
          "northwest",
          "southeast",
          "southwest",
          "southeast",
          "northwest",
          "northwest",
          "southwest",
          "northwest",
          "northwest",
          "southwest",
          "southeast",
          "northwest",
          "northeast",
          "northwest",
          "southeast",
          "northwest",
          "northwest",
          "northeast",
          "northwest",
          "northeast",
          "southwest",
          "northwest",
          "northeast",
          "northwest",
          "northeast",
          "southwest",
          "northwest",
          "southwest",
          "southeast",
          "southwest",
          "northwest",
          "southwest",
          "northeast",
          "northeast",
          "northwest",
          "southwest",
          "northeast",
          "southeast",
          "northwest",
          "northeast",
          "southwest",
          "northwest",
          "northeast",
          "northeast",
          "northwest",
          "northwest",
          "northwest",
          "northwest",
          "southwest",
          "southeast",
          "southwest",
          "northeast",
          "southwest",
          "northwest",
          "southwest",
          "northwest",
          "northeast",
          "southeast",
          "southeast",
          "southwest",
          "northwest",
          "southeast",
          "northeast",
          "northwest",
          "southeast",
          "northwest",
          "southeast",
          "southwest",
          "southeast",
          "southwest",
          "southeast",
          "southwest",
          "northwest",
          "northwest",
          "northeast",
          "northeast",
          "southeast",
          "southwest",
          "northeast",
          "southwest",
          "southwest",
          "northwest",
          "northeast",
          "northwest",
          "northwest",
          "southeast",
          "northwest",
          "northeast",
          "northeast",
          "northeast",
          "southwest",
          "northeast",
          "southeast",
          "northwest",
          "southwest",
          "southeast",
          "northeast",
          "southwest",
          "northwest",
          "southwest",
          "northwest",
          "southwest",
          "northwest",
          "southeast",
          "northeast",
          "northeast",
          "southeast",
          "southwest",
          "southwest",
          "northeast",
          "southeast",
          "southwest",
          "northwest"
         ],
         "xaxis": "x2",
         "yaxis": "y2"
        },
        {
         "bingroup": "x",
         "hovertemplate": "sex=male<br>region=%{x}<br>count=%{y}<extra></extra>",
         "legendgroup": "male",
         "marker": {
          "color": "grey",
          "pattern": {
           "shape": ""
          }
         },
         "name": "male",
         "orientation": "v",
         "showlegend": true,
         "type": "histogram",
         "x": [
          "southeast",
          "southeast",
          "northwest",
          "northwest",
          "northeast",
          "northeast",
          "southwest",
          "southeast",
          "southwest",
          "northeast",
          "southwest",
          "southwest",
          "southeast",
          "northwest",
          "northwest",
          "southwest",
          "southwest",
          "northwest",
          "southwest",
          "northwest",
          "southwest",
          "northeast",
          "southwest",
          "southeast",
          "northeast",
          "southwest",
          "southeast",
          "southwest",
          "southeast",
          "northwest",
          "southeast",
          "northeast",
          "southeast",
          "northwest",
          "northwest",
          "southeast",
          "northeast",
          "southeast",
          "southwest",
          "northwest",
          "southeast",
          "northeast",
          "southeast",
          "northwest",
          "northeast",
          "northwest",
          "southeast",
          "northeast",
          "southwest",
          "northeast",
          "northwest",
          "northwest",
          "southeast",
          "southeast",
          "northwest",
          "southwest",
          "northeast",
          "northeast",
          "southeast",
          "southwest",
          "northeast",
          "northeast",
          "southwest",
          "northwest",
          "southwest",
          "northwest",
          "northeast",
          "northeast",
          "southeast",
          "northwest",
          "northwest",
          "northwest",
          "southwest",
          "northwest",
          "southeast",
          "northwest",
          "southeast",
          "northeast",
          "southeast",
          "southwest",
          "northwest",
          "northeast",
          "northeast",
          "southeast",
          "southwest",
          "northeast",
          "northwest",
          "southwest",
          "northwest",
          "northeast",
          "southeast",
          "northeast",
          "southeast",
          "southeast",
          "southeast",
          "northwest",
          "southwest",
          "southeast",
          "northeast",
          "northeast",
          "southwest",
          "northwest",
          "northwest",
          "southeast",
          "southwest",
          "southwest",
          "southeast",
          "southeast",
          "southeast",
          "northeast",
          "southwest",
          "northwest",
          "southeast",
          "northwest",
          "southeast",
          "southwest",
          "northwest",
          "southeast",
          "southwest",
          "northeast",
          "northeast",
          "southeast",
          "southwest",
          "northeast",
          "northwest",
          "northwest",
          "northwest",
          "northeast",
          "northwest",
          "southeast",
          "southeast",
          "southwest",
          "northeast",
          "southeast",
          "southwest",
          "northwest",
          "northeast",
          "northwest",
          "northwest",
          "southeast",
          "northeast",
          "northeast",
          "southeast",
          "southeast",
          "northeast",
          "southeast",
          "southwest",
          "northeast",
          "southwest",
          "southeast",
          "northwest",
          "northeast",
          "northwest",
          "northeast",
          "southwest",
          "southeast",
          "southeast",
          "northeast",
          "northwest",
          "northeast",
          "northeast",
          "northwest",
          "southwest",
          "northeast",
          "southwest",
          "northeast",
          "northwest",
          "southwest",
          "northwest",
          "southwest",
          "southeast",
          "northwest",
          "northeast",
          "northwest",
          "northeast",
          "southeast",
          "northeast",
          "northwest",
          "northeast",
          "southwest",
          "southeast",
          "northwest",
          "southeast",
          "southwest",
          "northwest",
          "northeast",
          "southwest",
          "southeast",
          "southeast",
          "southeast",
          "northeast",
          "southeast",
          "northeast",
          "southwest",
          "northwest",
          "northeast",
          "northeast",
          "northeast",
          "northwest",
          "southeast",
          "southwest",
          "southeast",
          "northwest",
          "southwest",
          "southeast",
          "southeast",
          "northwest",
          "southwest",
          "southeast",
          "southeast",
          "southeast",
          "southeast",
          "northeast",
          "northeast",
          "southwest",
          "southeast",
          "southwest",
          "southwest",
          "northwest",
          "southeast",
          "northeast",
          "southwest",
          "northeast",
          "southeast",
          "northwest",
          "northeast",
          "southwest",
          "southwest",
          "northwest",
          "southwest",
          "northwest",
          "southeast",
          "southwest",
          "southwest",
          "southwest",
          "northeast",
          "northwest",
          "southeast",
          "southwest",
          "northwest",
          "northeast",
          "northwest",
          "southeast",
          "southeast",
          "northwest",
          "southeast",
          "southwest",
          "southwest",
          "northwest",
          "southwest",
          "southwest",
          "northeast",
          "southwest",
          "southwest",
          "northeast",
          "southeast",
          "southeast",
          "northwest",
          "northwest",
          "northwest",
          "northeast",
          "southeast",
          "northeast",
          "southwest",
          "southwest",
          "southwest",
          "southeast",
          "northwest",
          "northeast",
          "southeast",
          "northeast",
          "northeast",
          "southeast",
          "southeast",
          "southeast",
          "southeast",
          "northeast",
          "southeast",
          "northwest",
          "northwest",
          "northeast",
          "southwest",
          "southwest",
          "southwest",
          "northeast",
          "southeast",
          "northwest",
          "southwest",
          "southeast",
          "northwest",
          "northwest",
          "southeast",
          "southwest",
          "northeast",
          "northwest",
          "southeast",
          "southwest",
          "northeast",
          "northwest",
          "southeast",
          "southeast",
          "southwest",
          "northwest",
          "northeast",
          "southwest",
          "southwest",
          "southwest",
          "southwest",
          "northeast",
          "northwest",
          "northeast",
          "southeast",
          "southwest",
          "southwest",
          "southwest",
          "northeast",
          "southwest",
          "northeast",
          "northeast",
          "southeast",
          "southwest",
          "northwest",
          "northeast",
          "southeast",
          "northeast",
          "northwest",
          "northeast",
          "northwest",
          "southeast",
          "southeast",
          "southeast",
          "southwest",
          "northeast",
          "southeast",
          "southeast",
          "northwest",
          "northwest",
          "southwest",
          "southwest",
          "southwest",
          "northwest",
          "northeast",
          "northeast",
          "southeast",
          "southeast",
          "northeast",
          "southwest",
          "northwest",
          "northwest",
          "southeast",
          "northwest",
          "southeast",
          "northwest",
          "southeast",
          "northeast",
          "southwest",
          "northwest",
          "southwest",
          "southwest",
          "southwest",
          "northwest",
          "southeast",
          "southwest",
          "southwest",
          "northeast",
          "southwest",
          "northeast",
          "southeast",
          "northeast",
          "northwest",
          "southwest",
          "northwest",
          "northwest",
          "northwest",
          "northwest",
          "northeast",
          "northeast",
          "northeast",
          "southeast",
          "southwest",
          "southwest",
          "northeast",
          "southwest",
          "southwest",
          "northwest",
          "southeast",
          "northwest",
          "northeast",
          "southeast",
          "northwest",
          "southwest",
          "southeast",
          "southeast",
          "northeast",
          "northwest",
          "northeast",
          "southwest",
          "southeast",
          "northwest",
          "southeast",
          "northeast",
          "southwest",
          "southeast",
          "southeast",
          "northeast",
          "southeast",
          "northeast",
          "southeast",
          "southwest",
          "southwest",
          "northwest",
          "northwest",
          "southeast",
          "northeast",
          "northeast",
          "northwest",
          "southwest",
          "northwest",
          "northwest",
          "southeast",
          "southwest",
          "southwest",
          "northeast",
          "northeast",
          "southeast",
          "northwest",
          "northwest",
          "northwest",
          "southwest",
          "southwest",
          "southwest",
          "southeast",
          "southwest",
          "northeast",
          "southwest",
          "southeast",
          "southwest",
          "northeast",
          "southeast",
          "southwest",
          "southwest",
          "northwest",
          "northwest",
          "southeast",
          "northeast",
          "southwest",
          "northwest",
          "northeast",
          "southeast",
          "northeast",
          "northwest",
          "northeast",
          "southeast",
          "northeast",
          "southeast",
          "northeast",
          "southwest",
          "northwest",
          "northeast",
          "northwest",
          "northeast",
          "southwest",
          "northwest",
          "southwest",
          "northeast",
          "southeast",
          "southeast",
          "southwest",
          "southeast",
          "northeast",
          "southeast",
          "southeast",
          "southeast",
          "northwest",
          "southeast",
          "southwest",
          "northeast",
          "northwest",
          "southwest",
          "northeast",
          "southeast",
          "southwest",
          "northwest",
          "southeast",
          "southeast",
          "northwest",
          "northeast",
          "northwest",
          "northeast",
          "northwest",
          "southwest",
          "northwest",
          "northwest",
          "northeast",
          "southeast",
          "northeast",
          "southeast",
          "southeast",
          "northeast",
          "northeast",
          "southwest",
          "northeast",
          "northwest",
          "northeast",
          "southeast",
          "northwest",
          "southwest",
          "southwest",
          "southwest",
          "northeast",
          "northwest",
          "northeast",
          "northwest",
          "northeast",
          "northeast",
          "southeast",
          "northwest",
          "northwest",
          "southwest",
          "southeast",
          "southeast",
          "northwest",
          "northwest",
          "southwest",
          "northeast",
          "northwest",
          "southeast",
          "northeast",
          "northwest",
          "northeast",
          "northeast",
          "northeast",
          "southeast",
          "southwest",
          "northeast",
          "northeast",
          "southwest",
          "northwest",
          "northwest",
          "southeast",
          "southeast",
          "southeast",
          "northwest",
          "southeast",
          "northeast",
          "northwest",
          "southeast",
          "northeast",
          "northwest",
          "northeast",
          "southeast",
          "southeast",
          "southeast",
          "northwest",
          "northwest",
          "southwest",
          "northeast",
          "northwest",
          "southeast",
          "southwest",
          "southeast",
          "southwest",
          "southeast",
          "southwest",
          "southeast",
          "southeast",
          "southwest",
          "southwest",
          "southeast",
          "southeast",
          "northeast",
          "southeast",
          "northeast",
          "southeast",
          "southeast",
          "southeast",
          "southwest",
          "southwest",
          "southwest",
          "northeast",
          "northwest",
          "southeast",
          "southeast",
          "southeast",
          "southwest",
          "northwest",
          "southwest",
          "southwest",
          "southwest",
          "southeast",
          "southeast",
          "southeast",
          "southeast",
          "southwest",
          "northeast",
          "northwest",
          "northwest",
          "southeast",
          "northeast",
          "northwest",
          "southeast",
          "northwest",
          "northwest",
          "northwest",
          "northwest",
          "northeast",
          "northwest",
          "southwest",
          "southwest",
          "northwest",
          "southeast",
          "northeast",
          "northeast",
          "southeast",
          "southeast",
          "southeast",
          "southeast",
          "northeast",
          "northeast",
          "southeast",
          "southeast",
          "northeast",
          "northwest",
          "southwest",
          "northwest",
          "northeast",
          "southeast",
          "southeast",
          "southeast",
          "southwest",
          "southwest",
          "northeast",
          "northeast",
          "southwest",
          "southwest",
          "northwest",
          "southwest",
          "southeast",
          "northeast",
          "southwest",
          "northwest",
          "southeast",
          "southeast",
          "southeast",
          "southwest",
          "northeast",
          "southeast",
          "southwest",
          "southwest",
          "southeast",
          "southwest",
          "southeast",
          "northwest",
          "northeast",
          "southwest",
          "northeast",
          "northwest",
          "southeast",
          "northwest",
          "southwest",
          "northeast",
          "northwest",
          "southwest",
          "northwest",
          "southwest",
          "northeast",
          "southeast",
          "northeast",
          "northwest",
          "northeast",
          "southeast",
          "northwest",
          "northeast",
          "southeast",
          "southwest",
          "northwest"
         ],
         "xaxis": "x",
         "yaxis": "y"
        },
        {
         "hovertemplate": "sex=male<br>region=%{x}<extra></extra>",
         "legendgroup": "male",
         "marker": {
          "color": "grey"
         },
         "name": "male",
         "notched": true,
         "showlegend": false,
         "type": "box",
         "x": [
          "southeast",
          "southeast",
          "northwest",
          "northwest",
          "northeast",
          "northeast",
          "southwest",
          "southeast",
          "southwest",
          "northeast",
          "southwest",
          "southwest",
          "southeast",
          "northwest",
          "northwest",
          "southwest",
          "southwest",
          "northwest",
          "southwest",
          "northwest",
          "southwest",
          "northeast",
          "southwest",
          "southeast",
          "northeast",
          "southwest",
          "southeast",
          "southwest",
          "southeast",
          "northwest",
          "southeast",
          "northeast",
          "southeast",
          "northwest",
          "northwest",
          "southeast",
          "northeast",
          "southeast",
          "southwest",
          "northwest",
          "southeast",
          "northeast",
          "southeast",
          "northwest",
          "northeast",
          "northwest",
          "southeast",
          "northeast",
          "southwest",
          "northeast",
          "northwest",
          "northwest",
          "southeast",
          "southeast",
          "northwest",
          "southwest",
          "northeast",
          "northeast",
          "southeast",
          "southwest",
          "northeast",
          "northeast",
          "southwest",
          "northwest",
          "southwest",
          "northwest",
          "northeast",
          "northeast",
          "southeast",
          "northwest",
          "northwest",
          "northwest",
          "southwest",
          "northwest",
          "southeast",
          "northwest",
          "southeast",
          "northeast",
          "southeast",
          "southwest",
          "northwest",
          "northeast",
          "northeast",
          "southeast",
          "southwest",
          "northeast",
          "northwest",
          "southwest",
          "northwest",
          "northeast",
          "southeast",
          "northeast",
          "southeast",
          "southeast",
          "southeast",
          "northwest",
          "southwest",
          "southeast",
          "northeast",
          "northeast",
          "southwest",
          "northwest",
          "northwest",
          "southeast",
          "southwest",
          "southwest",
          "southeast",
          "southeast",
          "southeast",
          "northeast",
          "southwest",
          "northwest",
          "southeast",
          "northwest",
          "southeast",
          "southwest",
          "northwest",
          "southeast",
          "southwest",
          "northeast",
          "northeast",
          "southeast",
          "southwest",
          "northeast",
          "northwest",
          "northwest",
          "northwest",
          "northeast",
          "northwest",
          "southeast",
          "southeast",
          "southwest",
          "northeast",
          "southeast",
          "southwest",
          "northwest",
          "northeast",
          "northwest",
          "northwest",
          "southeast",
          "northeast",
          "northeast",
          "southeast",
          "southeast",
          "northeast",
          "southeast",
          "southwest",
          "northeast",
          "southwest",
          "southeast",
          "northwest",
          "northeast",
          "northwest",
          "northeast",
          "southwest",
          "southeast",
          "southeast",
          "northeast",
          "northwest",
          "northeast",
          "northeast",
          "northwest",
          "southwest",
          "northeast",
          "southwest",
          "northeast",
          "northwest",
          "southwest",
          "northwest",
          "southwest",
          "southeast",
          "northwest",
          "northeast",
          "northwest",
          "northeast",
          "southeast",
          "northeast",
          "northwest",
          "northeast",
          "southwest",
          "southeast",
          "northwest",
          "southeast",
          "southwest",
          "northwest",
          "northeast",
          "southwest",
          "southeast",
          "southeast",
          "southeast",
          "northeast",
          "southeast",
          "northeast",
          "southwest",
          "northwest",
          "northeast",
          "northeast",
          "northeast",
          "northwest",
          "southeast",
          "southwest",
          "southeast",
          "northwest",
          "southwest",
          "southeast",
          "southeast",
          "northwest",
          "southwest",
          "southeast",
          "southeast",
          "southeast",
          "southeast",
          "northeast",
          "northeast",
          "southwest",
          "southeast",
          "southwest",
          "southwest",
          "northwest",
          "southeast",
          "northeast",
          "southwest",
          "northeast",
          "southeast",
          "northwest",
          "northeast",
          "southwest",
          "southwest",
          "northwest",
          "southwest",
          "northwest",
          "southeast",
          "southwest",
          "southwest",
          "southwest",
          "northeast",
          "northwest",
          "southeast",
          "southwest",
          "northwest",
          "northeast",
          "northwest",
          "southeast",
          "southeast",
          "northwest",
          "southeast",
          "southwest",
          "southwest",
          "northwest",
          "southwest",
          "southwest",
          "northeast",
          "southwest",
          "southwest",
          "northeast",
          "southeast",
          "southeast",
          "northwest",
          "northwest",
          "northwest",
          "northeast",
          "southeast",
          "northeast",
          "southwest",
          "southwest",
          "southwest",
          "southeast",
          "northwest",
          "northeast",
          "southeast",
          "northeast",
          "northeast",
          "southeast",
          "southeast",
          "southeast",
          "southeast",
          "northeast",
          "southeast",
          "northwest",
          "northwest",
          "northeast",
          "southwest",
          "southwest",
          "southwest",
          "northeast",
          "southeast",
          "northwest",
          "southwest",
          "southeast",
          "northwest",
          "northwest",
          "southeast",
          "southwest",
          "northeast",
          "northwest",
          "southeast",
          "southwest",
          "northeast",
          "northwest",
          "southeast",
          "southeast",
          "southwest",
          "northwest",
          "northeast",
          "southwest",
          "southwest",
          "southwest",
          "southwest",
          "northeast",
          "northwest",
          "northeast",
          "southeast",
          "southwest",
          "southwest",
          "southwest",
          "northeast",
          "southwest",
          "northeast",
          "northeast",
          "southeast",
          "southwest",
          "northwest",
          "northeast",
          "southeast",
          "northeast",
          "northwest",
          "northeast",
          "northwest",
          "southeast",
          "southeast",
          "southeast",
          "southwest",
          "northeast",
          "southeast",
          "southeast",
          "northwest",
          "northwest",
          "southwest",
          "southwest",
          "southwest",
          "northwest",
          "northeast",
          "northeast",
          "southeast",
          "southeast",
          "northeast",
          "southwest",
          "northwest",
          "northwest",
          "southeast",
          "northwest",
          "southeast",
          "northwest",
          "southeast",
          "northeast",
          "southwest",
          "northwest",
          "southwest",
          "southwest",
          "southwest",
          "northwest",
          "southeast",
          "southwest",
          "southwest",
          "northeast",
          "southwest",
          "northeast",
          "southeast",
          "northeast",
          "northwest",
          "southwest",
          "northwest",
          "northwest",
          "northwest",
          "northwest",
          "northeast",
          "northeast",
          "northeast",
          "southeast",
          "southwest",
          "southwest",
          "northeast",
          "southwest",
          "southwest",
          "northwest",
          "southeast",
          "northwest",
          "northeast",
          "southeast",
          "northwest",
          "southwest",
          "southeast",
          "southeast",
          "northeast",
          "northwest",
          "northeast",
          "southwest",
          "southeast",
          "northwest",
          "southeast",
          "northeast",
          "southwest",
          "southeast",
          "southeast",
          "northeast",
          "southeast",
          "northeast",
          "southeast",
          "southwest",
          "southwest",
          "northwest",
          "northwest",
          "southeast",
          "northeast",
          "northeast",
          "northwest",
          "southwest",
          "northwest",
          "northwest",
          "southeast",
          "southwest",
          "southwest",
          "northeast",
          "northeast",
          "southeast",
          "northwest",
          "northwest",
          "northwest",
          "southwest",
          "southwest",
          "southwest",
          "southeast",
          "southwest",
          "northeast",
          "southwest",
          "southeast",
          "southwest",
          "northeast",
          "southeast",
          "southwest",
          "southwest",
          "northwest",
          "northwest",
          "southeast",
          "northeast",
          "southwest",
          "northwest",
          "northeast",
          "southeast",
          "northeast",
          "northwest",
          "northeast",
          "southeast",
          "northeast",
          "southeast",
          "northeast",
          "southwest",
          "northwest",
          "northeast",
          "northwest",
          "northeast",
          "southwest",
          "northwest",
          "southwest",
          "northeast",
          "southeast",
          "southeast",
          "southwest",
          "southeast",
          "northeast",
          "southeast",
          "southeast",
          "southeast",
          "northwest",
          "southeast",
          "southwest",
          "northeast",
          "northwest",
          "southwest",
          "northeast",
          "southeast",
          "southwest",
          "northwest",
          "southeast",
          "southeast",
          "northwest",
          "northeast",
          "northwest",
          "northeast",
          "northwest",
          "southwest",
          "northwest",
          "northwest",
          "northeast",
          "southeast",
          "northeast",
          "southeast",
          "southeast",
          "northeast",
          "northeast",
          "southwest",
          "northeast",
          "northwest",
          "northeast",
          "southeast",
          "northwest",
          "southwest",
          "southwest",
          "southwest",
          "northeast",
          "northwest",
          "northeast",
          "northwest",
          "northeast",
          "northeast",
          "southeast",
          "northwest",
          "northwest",
          "southwest",
          "southeast",
          "southeast",
          "northwest",
          "northwest",
          "southwest",
          "northeast",
          "northwest",
          "southeast",
          "northeast",
          "northwest",
          "northeast",
          "northeast",
          "northeast",
          "southeast",
          "southwest",
          "northeast",
          "northeast",
          "southwest",
          "northwest",
          "northwest",
          "southeast",
          "southeast",
          "southeast",
          "northwest",
          "southeast",
          "northeast",
          "northwest",
          "southeast",
          "northeast",
          "northwest",
          "northeast",
          "southeast",
          "southeast",
          "southeast",
          "northwest",
          "northwest",
          "southwest",
          "northeast",
          "northwest",
          "southeast",
          "southwest",
          "southeast",
          "southwest",
          "southeast",
          "southwest",
          "southeast",
          "southeast",
          "southwest",
          "southwest",
          "southeast",
          "southeast",
          "northeast",
          "southeast",
          "northeast",
          "southeast",
          "southeast",
          "southeast",
          "southwest",
          "southwest",
          "southwest",
          "northeast",
          "northwest",
          "southeast",
          "southeast",
          "southeast",
          "southwest",
          "northwest",
          "southwest",
          "southwest",
          "southwest",
          "southeast",
          "southeast",
          "southeast",
          "southeast",
          "southwest",
          "northeast",
          "northwest",
          "northwest",
          "southeast",
          "northeast",
          "northwest",
          "southeast",
          "northwest",
          "northwest",
          "northwest",
          "northwest",
          "northeast",
          "northwest",
          "southwest",
          "southwest",
          "northwest",
          "southeast",
          "northeast",
          "northeast",
          "southeast",
          "southeast",
          "southeast",
          "southeast",
          "northeast",
          "northeast",
          "southeast",
          "southeast",
          "northeast",
          "northwest",
          "southwest",
          "northwest",
          "northeast",
          "southeast",
          "southeast",
          "southeast",
          "southwest",
          "southwest",
          "northeast",
          "northeast",
          "southwest",
          "southwest",
          "northwest",
          "southwest",
          "southeast",
          "northeast",
          "southwest",
          "northwest",
          "southeast",
          "southeast",
          "southeast",
          "southwest",
          "northeast",
          "southeast",
          "southwest",
          "southwest",
          "southeast",
          "southwest",
          "southeast",
          "northwest",
          "northeast",
          "southwest",
          "northeast",
          "northwest",
          "southeast",
          "northwest",
          "southwest",
          "northeast",
          "northwest",
          "southwest",
          "northwest",
          "southwest",
          "northeast",
          "southeast",
          "northeast",
          "northwest",
          "northeast",
          "southeast",
          "northwest",
          "northeast",
          "southeast",
          "southwest",
          "northwest"
         ],
         "xaxis": "x2",
         "yaxis": "y2"
        }
       ],
       "layout": {
        "bargap": 0.5,
        "barmode": "relative",
        "legend": {
         "title": {
          "text": "sex"
         },
         "tracegroupgap": 0
        },
        "template": {
         "data": {
          "bar": [
           {
            "error_x": {
             "color": "#2a3f5f"
            },
            "error_y": {
             "color": "#2a3f5f"
            },
            "marker": {
             "line": {
              "color": "#E5ECF6",
              "width": 0.5
             },
             "pattern": {
              "fillmode": "overlay",
              "size": 10,
              "solidity": 0.2
             }
            },
            "type": "bar"
           }
          ],
          "barpolar": [
           {
            "marker": {
             "line": {
              "color": "#E5ECF6",
              "width": 0.5
             },
             "pattern": {
              "fillmode": "overlay",
              "size": 10,
              "solidity": 0.2
             }
            },
            "type": "barpolar"
           }
          ],
          "carpet": [
           {
            "aaxis": {
             "endlinecolor": "#2a3f5f",
             "gridcolor": "white",
             "linecolor": "white",
             "minorgridcolor": "white",
             "startlinecolor": "#2a3f5f"
            },
            "baxis": {
             "endlinecolor": "#2a3f5f",
             "gridcolor": "white",
             "linecolor": "white",
             "minorgridcolor": "white",
             "startlinecolor": "#2a3f5f"
            },
            "type": "carpet"
           }
          ],
          "choropleth": [
           {
            "colorbar": {
             "outlinewidth": 0,
             "ticks": ""
            },
            "type": "choropleth"
           }
          ],
          "contour": [
           {
            "colorbar": {
             "outlinewidth": 0,
             "ticks": ""
            },
            "colorscale": [
             [
              0,
              "#0d0887"
             ],
             [
              0.1111111111111111,
              "#46039f"
             ],
             [
              0.2222222222222222,
              "#7201a8"
             ],
             [
              0.3333333333333333,
              "#9c179e"
             ],
             [
              0.4444444444444444,
              "#bd3786"
             ],
             [
              0.5555555555555556,
              "#d8576b"
             ],
             [
              0.6666666666666666,
              "#ed7953"
             ],
             [
              0.7777777777777778,
              "#fb9f3a"
             ],
             [
              0.8888888888888888,
              "#fdca26"
             ],
             [
              1,
              "#f0f921"
             ]
            ],
            "type": "contour"
           }
          ],
          "contourcarpet": [
           {
            "colorbar": {
             "outlinewidth": 0,
             "ticks": ""
            },
            "type": "contourcarpet"
           }
          ],
          "heatmap": [
           {
            "colorbar": {
             "outlinewidth": 0,
             "ticks": ""
            },
            "colorscale": [
             [
              0,
              "#0d0887"
             ],
             [
              0.1111111111111111,
              "#46039f"
             ],
             [
              0.2222222222222222,
              "#7201a8"
             ],
             [
              0.3333333333333333,
              "#9c179e"
             ],
             [
              0.4444444444444444,
              "#bd3786"
             ],
             [
              0.5555555555555556,
              "#d8576b"
             ],
             [
              0.6666666666666666,
              "#ed7953"
             ],
             [
              0.7777777777777778,
              "#fb9f3a"
             ],
             [
              0.8888888888888888,
              "#fdca26"
             ],
             [
              1,
              "#f0f921"
             ]
            ],
            "type": "heatmap"
           }
          ],
          "histogram": [
           {
            "marker": {
             "pattern": {
              "fillmode": "overlay",
              "size": 10,
              "solidity": 0.2
             }
            },
            "type": "histogram"
           }
          ],
          "histogram2d": [
           {
            "colorbar": {
             "outlinewidth": 0,
             "ticks": ""
            },
            "colorscale": [
             [
              0,
              "#0d0887"
             ],
             [
              0.1111111111111111,
              "#46039f"
             ],
             [
              0.2222222222222222,
              "#7201a8"
             ],
             [
              0.3333333333333333,
              "#9c179e"
             ],
             [
              0.4444444444444444,
              "#bd3786"
             ],
             [
              0.5555555555555556,
              "#d8576b"
             ],
             [
              0.6666666666666666,
              "#ed7953"
             ],
             [
              0.7777777777777778,
              "#fb9f3a"
             ],
             [
              0.8888888888888888,
              "#fdca26"
             ],
             [
              1,
              "#f0f921"
             ]
            ],
            "type": "histogram2d"
           }
          ],
          "histogram2dcontour": [
           {
            "colorbar": {
             "outlinewidth": 0,
             "ticks": ""
            },
            "colorscale": [
             [
              0,
              "#0d0887"
             ],
             [
              0.1111111111111111,
              "#46039f"
             ],
             [
              0.2222222222222222,
              "#7201a8"
             ],
             [
              0.3333333333333333,
              "#9c179e"
             ],
             [
              0.4444444444444444,
              "#bd3786"
             ],
             [
              0.5555555555555556,
              "#d8576b"
             ],
             [
              0.6666666666666666,
              "#ed7953"
             ],
             [
              0.7777777777777778,
              "#fb9f3a"
             ],
             [
              0.8888888888888888,
              "#fdca26"
             ],
             [
              1,
              "#f0f921"
             ]
            ],
            "type": "histogram2dcontour"
           }
          ],
          "mesh3d": [
           {
            "colorbar": {
             "outlinewidth": 0,
             "ticks": ""
            },
            "type": "mesh3d"
           }
          ],
          "parcoords": [
           {
            "line": {
             "colorbar": {
              "outlinewidth": 0,
              "ticks": ""
             }
            },
            "type": "parcoords"
           }
          ],
          "pie": [
           {
            "automargin": true,
            "type": "pie"
           }
          ],
          "scatter": [
           {
            "fillpattern": {
             "fillmode": "overlay",
             "size": 10,
             "solidity": 0.2
            },
            "type": "scatter"
           }
          ],
          "scatter3d": [
           {
            "line": {
             "colorbar": {
              "outlinewidth": 0,
              "ticks": ""
             }
            },
            "marker": {
             "colorbar": {
              "outlinewidth": 0,
              "ticks": ""
             }
            },
            "type": "scatter3d"
           }
          ],
          "scattercarpet": [
           {
            "marker": {
             "colorbar": {
              "outlinewidth": 0,
              "ticks": ""
             }
            },
            "type": "scattercarpet"
           }
          ],
          "scattergeo": [
           {
            "marker": {
             "colorbar": {
              "outlinewidth": 0,
              "ticks": ""
             }
            },
            "type": "scattergeo"
           }
          ],
          "scattergl": [
           {
            "marker": {
             "colorbar": {
              "outlinewidth": 0,
              "ticks": ""
             }
            },
            "type": "scattergl"
           }
          ],
          "scattermap": [
           {
            "marker": {
             "colorbar": {
              "outlinewidth": 0,
              "ticks": ""
             }
            },
            "type": "scattermap"
           }
          ],
          "scattermapbox": [
           {
            "marker": {
             "colorbar": {
              "outlinewidth": 0,
              "ticks": ""
             }
            },
            "type": "scattermapbox"
           }
          ],
          "scatterpolar": [
           {
            "marker": {
             "colorbar": {
              "outlinewidth": 0,
              "ticks": ""
             }
            },
            "type": "scatterpolar"
           }
          ],
          "scatterpolargl": [
           {
            "marker": {
             "colorbar": {
              "outlinewidth": 0,
              "ticks": ""
             }
            },
            "type": "scatterpolargl"
           }
          ],
          "scatterternary": [
           {
            "marker": {
             "colorbar": {
              "outlinewidth": 0,
              "ticks": ""
             }
            },
            "type": "scatterternary"
           }
          ],
          "surface": [
           {
            "colorbar": {
             "outlinewidth": 0,
             "ticks": ""
            },
            "colorscale": [
             [
              0,
              "#0d0887"
             ],
             [
              0.1111111111111111,
              "#46039f"
             ],
             [
              0.2222222222222222,
              "#7201a8"
             ],
             [
              0.3333333333333333,
              "#9c179e"
             ],
             [
              0.4444444444444444,
              "#bd3786"
             ],
             [
              0.5555555555555556,
              "#d8576b"
             ],
             [
              0.6666666666666666,
              "#ed7953"
             ],
             [
              0.7777777777777778,
              "#fb9f3a"
             ],
             [
              0.8888888888888888,
              "#fdca26"
             ],
             [
              1,
              "#f0f921"
             ]
            ],
            "type": "surface"
           }
          ],
          "table": [
           {
            "cells": {
             "fill": {
              "color": "#EBF0F8"
             },
             "line": {
              "color": "white"
             }
            },
            "header": {
             "fill": {
              "color": "#C8D4E3"
             },
             "line": {
              "color": "white"
             }
            },
            "type": "table"
           }
          ]
         },
         "layout": {
          "annotationdefaults": {
           "arrowcolor": "#2a3f5f",
           "arrowhead": 0,
           "arrowwidth": 1
          },
          "autotypenumbers": "strict",
          "coloraxis": {
           "colorbar": {
            "outlinewidth": 0,
            "ticks": ""
           }
          },
          "colorscale": {
           "diverging": [
            [
             0,
             "#8e0152"
            ],
            [
             0.1,
             "#c51b7d"
            ],
            [
             0.2,
             "#de77ae"
            ],
            [
             0.3,
             "#f1b6da"
            ],
            [
             0.4,
             "#fde0ef"
            ],
            [
             0.5,
             "#f7f7f7"
            ],
            [
             0.6,
             "#e6f5d0"
            ],
            [
             0.7,
             "#b8e186"
            ],
            [
             0.8,
             "#7fbc41"
            ],
            [
             0.9,
             "#4d9221"
            ],
            [
             1,
             "#276419"
            ]
           ],
           "sequential": [
            [
             0,
             "#0d0887"
            ],
            [
             0.1111111111111111,
             "#46039f"
            ],
            [
             0.2222222222222222,
             "#7201a8"
            ],
            [
             0.3333333333333333,
             "#9c179e"
            ],
            [
             0.4444444444444444,
             "#bd3786"
            ],
            [
             0.5555555555555556,
             "#d8576b"
            ],
            [
             0.6666666666666666,
             "#ed7953"
            ],
            [
             0.7777777777777778,
             "#fb9f3a"
            ],
            [
             0.8888888888888888,
             "#fdca26"
            ],
            [
             1,
             "#f0f921"
            ]
           ],
           "sequentialminus": [
            [
             0,
             "#0d0887"
            ],
            [
             0.1111111111111111,
             "#46039f"
            ],
            [
             0.2222222222222222,
             "#7201a8"
            ],
            [
             0.3333333333333333,
             "#9c179e"
            ],
            [
             0.4444444444444444,
             "#bd3786"
            ],
            [
             0.5555555555555556,
             "#d8576b"
            ],
            [
             0.6666666666666666,
             "#ed7953"
            ],
            [
             0.7777777777777778,
             "#fb9f3a"
            ],
            [
             0.8888888888888888,
             "#fdca26"
            ],
            [
             1,
             "#f0f921"
            ]
           ]
          },
          "colorway": [
           "#636efa",
           "#EF553B",
           "#00cc96",
           "#ab63fa",
           "#FFA15A",
           "#19d3f3",
           "#FF6692",
           "#B6E880",
           "#FF97FF",
           "#FECB52"
          ],
          "font": {
           "color": "#2a3f5f"
          },
          "geo": {
           "bgcolor": "white",
           "lakecolor": "white",
           "landcolor": "#E5ECF6",
           "showlakes": true,
           "showland": true,
           "subunitcolor": "white"
          },
          "hoverlabel": {
           "align": "left"
          },
          "hovermode": "closest",
          "mapbox": {
           "style": "light"
          },
          "paper_bgcolor": "white",
          "plot_bgcolor": "#E5ECF6",
          "polar": {
           "angularaxis": {
            "gridcolor": "white",
            "linecolor": "white",
            "ticks": ""
           },
           "bgcolor": "#E5ECF6",
           "radialaxis": {
            "gridcolor": "white",
            "linecolor": "white",
            "ticks": ""
           }
          },
          "scene": {
           "xaxis": {
            "backgroundcolor": "#E5ECF6",
            "gridcolor": "white",
            "gridwidth": 2,
            "linecolor": "white",
            "showbackground": true,
            "ticks": "",
            "zerolinecolor": "white"
           },
           "yaxis": {
            "backgroundcolor": "#E5ECF6",
            "gridcolor": "white",
            "gridwidth": 2,
            "linecolor": "white",
            "showbackground": true,
            "ticks": "",
            "zerolinecolor": "white"
           },
           "zaxis": {
            "backgroundcolor": "#E5ECF6",
            "gridcolor": "white",
            "gridwidth": 2,
            "linecolor": "white",
            "showbackground": true,
            "ticks": "",
            "zerolinecolor": "white"
           }
          },
          "shapedefaults": {
           "line": {
            "color": "#2a3f5f"
           }
          },
          "ternary": {
           "aaxis": {
            "gridcolor": "white",
            "linecolor": "white",
            "ticks": ""
           },
           "baxis": {
            "gridcolor": "white",
            "linecolor": "white",
            "ticks": ""
           },
           "bgcolor": "#E5ECF6",
           "caxis": {
            "gridcolor": "white",
            "linecolor": "white",
            "ticks": ""
           }
          },
          "title": {
           "x": 0.05
          },
          "xaxis": {
           "automargin": true,
           "gridcolor": "white",
           "linecolor": "white",
           "ticks": "",
           "title": {
            "standoff": 15
           },
           "zerolinecolor": "white",
           "zerolinewidth": 2
          },
          "yaxis": {
           "automargin": true,
           "gridcolor": "white",
           "linecolor": "white",
           "ticks": "",
           "title": {
            "standoff": 15
           },
           "zerolinecolor": "white",
           "zerolinewidth": 2
          }
         }
        },
        "title": {
         "text": "Count by region and sex"
        },
        "xaxis": {
         "anchor": "y",
         "domain": [
          0,
          1
         ],
         "title": {
          "text": "region"
         }
        },
        "xaxis2": {
         "anchor": "y2",
         "domain": [
          0,
          1
         ],
         "matches": "x",
         "showgrid": true,
         "showticklabels": false
        },
        "yaxis": {
         "anchor": "x",
         "domain": [
          0,
          0.7326
         ],
         "title": {
          "text": "count"
         }
        },
        "yaxis2": {
         "anchor": "x2",
         "domain": [
          0.7426,
          1
         ],
         "matches": "y2",
         "showgrid": false,
         "showline": false,
         "showticklabels": false,
         "ticks": ""
        }
       }
      }
     },
     "metadata": {},
     "output_type": "display_data"
    }
   ],
   "source": [
    "fig = px.histogram(medical_df, \n",
    "                   x='region',\n",
    "                   marginal='box',\n",
    "                   color='sex',\n",
    "                   color_discrete_sequence=['green', 'grey'],\n",
    "                   title='Count by region and sex')\n",
    "fig.update_layout(bargap=0.5)\n",
    "fig.show()"
   ]
  },
  {
   "cell_type": "code",
   "execution_count": 12,
   "metadata": {},
   "outputs": [
    {
     "data": {
      "text/plain": [
       "smoker\n",
       "no     1064\n",
       "yes     274\n",
       "Name: count, dtype: int64"
      ]
     },
     "execution_count": 12,
     "metadata": {},
     "output_type": "execute_result"
    }
   ],
   "source": [
    "medical_df.smoker.value_counts()\n",
    "#The data distribution is not equal. Majority (i.e. 80%) belongs to \"No\" Class"
   ]
  },
  {
   "cell_type": "code",
   "execution_count": 14,
   "metadata": {},
   "outputs": [
    {
     "data": {
      "application/vnd.plotly.v1+json": {
       "config": {
        "plotlyServerURL": "https://plot.ly"
       },
       "data": [
        {
         "bingroup": "x",
         "hovertemplate": "sex=female<br>smoker=%{x}<br>count=%{y}<extra></extra>",
         "legendgroup": "female",
         "marker": {
          "color": "#636efa",
          "pattern": {
           "shape": ""
          }
         },
         "name": "female",
         "orientation": "v",
         "showlegend": true,
         "type": "histogram",
         "x": [
          "yes",
          "no",
          "no",
          "no",
          "no",
          "yes",
          "no",
          "no",
          "no",
          "no",
          "yes",
          "no",
          "no",
          "no",
          "no",
          "no",
          "no",
          "no",
          "no",
          "no",
          "no",
          "no",
          "no",
          "no",
          "no",
          "no",
          "no",
          "yes",
          "no",
          "no",
          "yes",
          "no",
          "no",
          "no",
          "yes",
          "no",
          "no",
          "no",
          "no",
          "no",
          "no",
          "yes",
          "yes",
          "no",
          "no",
          "no",
          "no",
          "no",
          "yes",
          "no",
          "no",
          "no",
          "no",
          "yes",
          "no",
          "no",
          "no",
          "no",
          "yes",
          "no",
          "no",
          "no",
          "no",
          "no",
          "yes",
          "no",
          "yes",
          "no",
          "no",
          "no",
          "no",
          "no",
          "no",
          "no",
          "no",
          "no",
          "no",
          "no",
          "yes",
          "no",
          "no",
          "yes",
          "yes",
          "no",
          "no",
          "no",
          "no",
          "no",
          "no",
          "yes",
          "no",
          "no",
          "no",
          "no",
          "no",
          "no",
          "no",
          "no",
          "no",
          "no",
          "no",
          "no",
          "no",
          "no",
          "no",
          "no",
          "no",
          "yes",
          "no",
          "no",
          "no",
          "no",
          "no",
          "no",
          "no",
          "no",
          "no",
          "no",
          "no",
          "no",
          "no",
          "no",
          "no",
          "yes",
          "no",
          "yes",
          "no",
          "no",
          "yes",
          "no",
          "yes",
          "no",
          "no",
          "no",
          "yes",
          "no",
          "no",
          "no",
          "no",
          "no",
          "yes",
          "no",
          "no",
          "no",
          "no",
          "yes",
          "no",
          "no",
          "no",
          "yes",
          "no",
          "no",
          "no",
          "no",
          "no",
          "no",
          "no",
          "yes",
          "no",
          "no",
          "no",
          "yes",
          "yes",
          "no",
          "no",
          "no",
          "no",
          "no",
          "no",
          "no",
          "no",
          "no",
          "no",
          "no",
          "no",
          "no",
          "no",
          "no",
          "yes",
          "no",
          "no",
          "no",
          "no",
          "no",
          "no",
          "no",
          "no",
          "yes",
          "yes",
          "no",
          "yes",
          "no",
          "no",
          "no",
          "no",
          "no",
          "no",
          "no",
          "no",
          "no",
          "no",
          "no",
          "no",
          "no",
          "yes",
          "yes",
          "no",
          "no",
          "yes",
          "yes",
          "no",
          "no",
          "no",
          "no",
          "no",
          "no",
          "no",
          "no",
          "yes",
          "no",
          "no",
          "no",
          "no",
          "no",
          "no",
          "no",
          "no",
          "no",
          "yes",
          "no",
          "no",
          "no",
          "no",
          "no",
          "no",
          "no",
          "no",
          "no",
          "no",
          "no",
          "yes",
          "no",
          "no",
          "no",
          "no",
          "no",
          "no",
          "no",
          "no",
          "no",
          "no",
          "no",
          "no",
          "no",
          "no",
          "no",
          "no",
          "no",
          "no",
          "no",
          "no",
          "no",
          "no",
          "no",
          "no",
          "yes",
          "no",
          "no",
          "yes",
          "no",
          "no",
          "no",
          "yes",
          "no",
          "no",
          "no",
          "no",
          "no",
          "no",
          "no",
          "no",
          "no",
          "no",
          "no",
          "no",
          "yes",
          "no",
          "no",
          "no",
          "yes",
          "no",
          "no",
          "no",
          "yes",
          "no",
          "no",
          "no",
          "no",
          "no",
          "no",
          "no",
          "yes",
          "no",
          "no",
          "yes",
          "no",
          "no",
          "no",
          "no",
          "no",
          "yes",
          "no",
          "yes",
          "no",
          "no",
          "no",
          "yes",
          "no",
          "no",
          "no",
          "no",
          "no",
          "no",
          "no",
          "no",
          "no",
          "no",
          "no",
          "yes",
          "no",
          "no",
          "no",
          "no",
          "no",
          "yes",
          "yes",
          "no",
          "no",
          "no",
          "yes",
          "no",
          "no",
          "no",
          "no",
          "no",
          "no",
          "no",
          "no",
          "no",
          "no",
          "no",
          "no",
          "no",
          "no",
          "yes",
          "no",
          "no",
          "no",
          "no",
          "no",
          "no",
          "no",
          "no",
          "no",
          "no",
          "yes",
          "yes",
          "no",
          "no",
          "no",
          "no",
          "no",
          "no",
          "yes",
          "no",
          "no",
          "no",
          "yes",
          "no",
          "no",
          "yes",
          "no",
          "no",
          "no",
          "no",
          "no",
          "no",
          "no",
          "no",
          "yes",
          "yes",
          "no",
          "no",
          "no",
          "no",
          "no",
          "no",
          "no",
          "no",
          "no",
          "no",
          "yes",
          "no",
          "no",
          "no",
          "no",
          "no",
          "no",
          "no",
          "yes",
          "yes",
          "no",
          "no",
          "no",
          "no",
          "no",
          "no",
          "no",
          "no",
          "yes",
          "yes",
          "yes",
          "no",
          "no",
          "yes",
          "yes",
          "no",
          "yes",
          "no",
          "yes",
          "no",
          "yes",
          "no",
          "no",
          "no",
          "no",
          "no",
          "no",
          "no",
          "no",
          "no",
          "yes",
          "no",
          "yes",
          "no",
          "no",
          "yes",
          "no",
          "no",
          "no",
          "no",
          "no",
          "yes",
          "no",
          "no",
          "no",
          "yes",
          "no",
          "no",
          "no",
          "no",
          "no",
          "no",
          "no",
          "no",
          "no",
          "no",
          "no",
          "no",
          "no",
          "no",
          "no",
          "no",
          "no",
          "no",
          "no",
          "no",
          "no",
          "no",
          "no",
          "no",
          "no",
          "no",
          "no",
          "no",
          "yes",
          "no",
          "no",
          "no",
          "yes",
          "no",
          "no",
          "no",
          "no",
          "no",
          "no",
          "no",
          "no",
          "no",
          "no",
          "no",
          "no",
          "yes",
          "no",
          "no",
          "no",
          "yes",
          "yes",
          "no",
          "no",
          "yes",
          "yes",
          "no",
          "yes",
          "no",
          "no",
          "no",
          "no",
          "no",
          "no",
          "no",
          "no",
          "no",
          "no",
          "no",
          "no",
          "no",
          "no",
          "no",
          "yes",
          "no",
          "yes",
          "no",
          "no",
          "yes",
          "no",
          "no",
          "yes",
          "no",
          "no",
          "no",
          "no",
          "yes",
          "no",
          "no",
          "yes",
          "yes",
          "no",
          "yes",
          "no",
          "no",
          "no",
          "no",
          "no",
          "no",
          "no",
          "no",
          "yes",
          "no",
          "no",
          "no",
          "no",
          "no",
          "yes",
          "no",
          "no",
          "no",
          "no",
          "no",
          "no",
          "no",
          "no",
          "no",
          "no",
          "no",
          "no",
          "yes",
          "no",
          "no",
          "yes",
          "no",
          "no",
          "no",
          "no",
          "no",
          "no",
          "yes",
          "no",
          "yes",
          "no",
          "no",
          "no",
          "no",
          "no",
          "no",
          "no",
          "yes",
          "no",
          "yes",
          "no",
          "yes",
          "no",
          "no",
          "yes",
          "no",
          "no",
          "yes",
          "no",
          "yes",
          "no",
          "no",
          "no",
          "no",
          "no",
          "no",
          "no",
          "no",
          "no",
          "no",
          "no",
          "no",
          "no",
          "no",
          "no",
          "no",
          "no",
          "no",
          "no",
          "no",
          "no",
          "no",
          "no",
          "no",
          "no",
          "no",
          "yes",
          "yes",
          "no",
          "no",
          "no",
          "no",
          "no",
          "no",
          "no",
          "no",
          "yes",
          "yes",
          "no",
          "yes",
          "yes",
          "no",
          "no",
          "yes",
          "no",
          "no",
          "no",
          "no",
          "no",
          "no",
          "no",
          "no",
          "yes"
         ],
         "xaxis": "x",
         "yaxis": "y"
        },
        {
         "bingroup": "x",
         "hovertemplate": "sex=male<br>smoker=%{x}<br>count=%{y}<extra></extra>",
         "legendgroup": "male",
         "marker": {
          "color": "#EF553B",
          "pattern": {
           "shape": ""
          }
         },
         "name": "male",
         "orientation": "v",
         "showlegend": true,
         "type": "histogram",
         "x": [
          "no",
          "no",
          "no",
          "no",
          "no",
          "no",
          "no",
          "yes",
          "no",
          "no",
          "no",
          "yes",
          "no",
          "no",
          "no",
          "yes",
          "yes",
          "no",
          "yes",
          "no",
          "no",
          "yes",
          "yes",
          "no",
          "no",
          "no",
          "yes",
          "yes",
          "yes",
          "yes",
          "yes",
          "no",
          "no",
          "no",
          "no",
          "yes",
          "no",
          "no",
          "no",
          "no",
          "no",
          "no",
          "yes",
          "yes",
          "yes",
          "no",
          "no",
          "yes",
          "yes",
          "no",
          "yes",
          "no",
          "no",
          "yes",
          "no",
          "no",
          "no",
          "no",
          "no",
          "no",
          "no",
          "yes",
          "no",
          "no",
          "no",
          "no",
          "no",
          "no",
          "yes",
          "no",
          "yes",
          "yes",
          "no",
          "no",
          "no",
          "no",
          "yes",
          "yes",
          "yes",
          "no",
          "no",
          "no",
          "no",
          "no",
          "no",
          "no",
          "no",
          "no",
          "no",
          "no",
          "no",
          "yes",
          "no",
          "no",
          "no",
          "no",
          "no",
          "no",
          "yes",
          "no",
          "no",
          "no",
          "no",
          "no",
          "no",
          "yes",
          "yes",
          "no",
          "no",
          "no",
          "no",
          "no",
          "no",
          "yes",
          "no",
          "no",
          "no",
          "no",
          "no",
          "no",
          "yes",
          "yes",
          "no",
          "yes",
          "yes",
          "no",
          "yes",
          "yes",
          "yes",
          "yes",
          "yes",
          "no",
          "no",
          "no",
          "yes",
          "no",
          "no",
          "no",
          "no",
          "no",
          "yes",
          "no",
          "no",
          "no",
          "no",
          "yes",
          "no",
          "no",
          "yes",
          "yes",
          "yes",
          "no",
          "no",
          "no",
          "no",
          "yes",
          "no",
          "no",
          "no",
          "no",
          "no",
          "no",
          "yes",
          "no",
          "no",
          "no",
          "yes",
          "no",
          "yes",
          "no",
          "no",
          "no",
          "yes",
          "no",
          "no",
          "no",
          "no",
          "no",
          "no",
          "no",
          "no",
          "no",
          "no",
          "no",
          "no",
          "no",
          "yes",
          "no",
          "yes",
          "no",
          "yes",
          "no",
          "no",
          "no",
          "no",
          "no",
          "no",
          "no",
          "no",
          "no",
          "no",
          "no",
          "no",
          "no",
          "no",
          "no",
          "no",
          "no",
          "no",
          "no",
          "yes",
          "yes",
          "yes",
          "no",
          "no",
          "no",
          "no",
          "no",
          "no",
          "no",
          "no",
          "no",
          "no",
          "no",
          "yes",
          "no",
          "no",
          "no",
          "no",
          "no",
          "no",
          "no",
          "no",
          "no",
          "yes",
          "no",
          "no",
          "no",
          "yes",
          "yes",
          "yes",
          "no",
          "no",
          "no",
          "no",
          "no",
          "no",
          "no",
          "no",
          "no",
          "yes",
          "no",
          "no",
          "yes",
          "no",
          "yes",
          "yes",
          "no",
          "no",
          "no",
          "no",
          "no",
          "no",
          "no",
          "yes",
          "no",
          "no",
          "no",
          "no",
          "yes",
          "no",
          "no",
          "yes",
          "no",
          "no",
          "no",
          "no",
          "no",
          "no",
          "yes",
          "no",
          "no",
          "no",
          "no",
          "no",
          "no",
          "no",
          "no",
          "no",
          "no",
          "yes",
          "no",
          "no",
          "no",
          "no",
          "no",
          "no",
          "no",
          "no",
          "no",
          "no",
          "no",
          "no",
          "no",
          "yes",
          "yes",
          "no",
          "yes",
          "yes",
          "no",
          "no",
          "no",
          "no",
          "no",
          "no",
          "no",
          "no",
          "no",
          "yes",
          "no",
          "no",
          "yes",
          "no",
          "no",
          "no",
          "no",
          "no",
          "no",
          "no",
          "no",
          "yes",
          "no",
          "yes",
          "no",
          "no",
          "no",
          "yes",
          "no",
          "no",
          "yes",
          "no",
          "no",
          "no",
          "no",
          "yes",
          "no",
          "no",
          "no",
          "no",
          "yes",
          "no",
          "no",
          "no",
          "no",
          "no",
          "no",
          "no",
          "no",
          "no",
          "no",
          "no",
          "yes",
          "no",
          "no",
          "yes",
          "yes",
          "no",
          "yes",
          "yes",
          "no",
          "no",
          "no",
          "no",
          "no",
          "no",
          "no",
          "no",
          "no",
          "yes",
          "no",
          "yes",
          "no",
          "no",
          "no",
          "no",
          "no",
          "no",
          "no",
          "no",
          "no",
          "yes",
          "no",
          "no",
          "no",
          "no",
          "no",
          "no",
          "yes",
          "yes",
          "no",
          "yes",
          "no",
          "no",
          "no",
          "no",
          "no",
          "no",
          "no",
          "no",
          "no",
          "no",
          "no",
          "yes",
          "yes",
          "yes",
          "no",
          "no",
          "no",
          "no",
          "no",
          "no",
          "no",
          "no",
          "no",
          "no",
          "no",
          "no",
          "yes",
          "no",
          "no",
          "no",
          "no",
          "no",
          "no",
          "no",
          "no",
          "no",
          "no",
          "no",
          "no",
          "no",
          "no",
          "no",
          "yes",
          "yes",
          "no",
          "no",
          "no",
          "yes",
          "no",
          "no",
          "no",
          "yes",
          "no",
          "no",
          "no",
          "no",
          "no",
          "yes",
          "no",
          "yes",
          "no",
          "no",
          "no",
          "no",
          "no",
          "no",
          "no",
          "no",
          "no",
          "no",
          "no",
          "no",
          "no",
          "no",
          "no",
          "yes",
          "no",
          "yes",
          "no",
          "yes",
          "yes",
          "yes",
          "no",
          "yes",
          "no",
          "yes",
          "no",
          "no",
          "no",
          "no",
          "yes",
          "no",
          "no",
          "no",
          "yes",
          "no",
          "no",
          "no",
          "no",
          "yes",
          "no",
          "no",
          "no",
          "no",
          "yes",
          "yes",
          "no",
          "no",
          "no",
          "no",
          "no",
          "yes",
          "no",
          "no",
          "yes",
          "no",
          "no",
          "no",
          "yes",
          "no",
          "yes",
          "no",
          "no",
          "yes",
          "no",
          "yes",
          "no",
          "no",
          "no",
          "yes",
          "no",
          "yes",
          "yes",
          "no",
          "no",
          "yes",
          "no",
          "no",
          "no",
          "no",
          "yes",
          "no",
          "no",
          "no",
          "no",
          "yes",
          "no",
          "no",
          "no",
          "yes",
          "no",
          "no",
          "no",
          "no",
          "no",
          "no",
          "no",
          "no",
          "no",
          "yes",
          "no",
          "no",
          "no",
          "no",
          "no",
          "no",
          "no",
          "no",
          "yes",
          "no",
          "no",
          "no",
          "yes",
          "yes",
          "no",
          "no",
          "no",
          "no",
          "no",
          "no",
          "no",
          "no",
          "no",
          "no",
          "no",
          "yes",
          "no",
          "no",
          "yes",
          "no",
          "no",
          "no",
          "no",
          "yes",
          "no",
          "no",
          "yes",
          "no",
          "yes",
          "no",
          "no",
          "no",
          "no",
          "no",
          "no",
          "no",
          "yes",
          "no",
          "no",
          "no",
          "no",
          "no",
          "no",
          "no",
          "no",
          "no",
          "no",
          "no",
          "no",
          "no",
          "no",
          "yes",
          "no",
          "no",
          "no",
          "yes",
          "yes",
          "no",
          "no",
          "no",
          "yes",
          "yes",
          "no",
          "yes",
          "no",
          "no",
          "yes",
          "yes",
          "no",
          "no",
          "no",
          "no",
          "yes",
          "no",
          "yes",
          "no",
          "yes",
          "yes",
          "no",
          "yes",
          "no",
          "no",
          "no",
          "no",
          "no",
          "no",
          "yes",
          "yes",
          "yes",
          "yes",
          "yes",
          "no",
          "no",
          "no",
          "no",
          "no",
          "no",
          "no",
          "yes",
          "no",
          "no",
          "no",
          "no",
          "no",
          "no"
         ],
         "xaxis": "x",
         "yaxis": "y"
        }
       ],
       "layout": {
        "barmode": "relative",
        "legend": {
         "title": {
          "text": "sex"
         },
         "tracegroupgap": 0
        },
        "template": {
         "data": {
          "bar": [
           {
            "error_x": {
             "color": "#2a3f5f"
            },
            "error_y": {
             "color": "#2a3f5f"
            },
            "marker": {
             "line": {
              "color": "#E5ECF6",
              "width": 0.5
             },
             "pattern": {
              "fillmode": "overlay",
              "size": 10,
              "solidity": 0.2
             }
            },
            "type": "bar"
           }
          ],
          "barpolar": [
           {
            "marker": {
             "line": {
              "color": "#E5ECF6",
              "width": 0.5
             },
             "pattern": {
              "fillmode": "overlay",
              "size": 10,
              "solidity": 0.2
             }
            },
            "type": "barpolar"
           }
          ],
          "carpet": [
           {
            "aaxis": {
             "endlinecolor": "#2a3f5f",
             "gridcolor": "white",
             "linecolor": "white",
             "minorgridcolor": "white",
             "startlinecolor": "#2a3f5f"
            },
            "baxis": {
             "endlinecolor": "#2a3f5f",
             "gridcolor": "white",
             "linecolor": "white",
             "minorgridcolor": "white",
             "startlinecolor": "#2a3f5f"
            },
            "type": "carpet"
           }
          ],
          "choropleth": [
           {
            "colorbar": {
             "outlinewidth": 0,
             "ticks": ""
            },
            "type": "choropleth"
           }
          ],
          "contour": [
           {
            "colorbar": {
             "outlinewidth": 0,
             "ticks": ""
            },
            "colorscale": [
             [
              0,
              "#0d0887"
             ],
             [
              0.1111111111111111,
              "#46039f"
             ],
             [
              0.2222222222222222,
              "#7201a8"
             ],
             [
              0.3333333333333333,
              "#9c179e"
             ],
             [
              0.4444444444444444,
              "#bd3786"
             ],
             [
              0.5555555555555556,
              "#d8576b"
             ],
             [
              0.6666666666666666,
              "#ed7953"
             ],
             [
              0.7777777777777778,
              "#fb9f3a"
             ],
             [
              0.8888888888888888,
              "#fdca26"
             ],
             [
              1,
              "#f0f921"
             ]
            ],
            "type": "contour"
           }
          ],
          "contourcarpet": [
           {
            "colorbar": {
             "outlinewidth": 0,
             "ticks": ""
            },
            "type": "contourcarpet"
           }
          ],
          "heatmap": [
           {
            "colorbar": {
             "outlinewidth": 0,
             "ticks": ""
            },
            "colorscale": [
             [
              0,
              "#0d0887"
             ],
             [
              0.1111111111111111,
              "#46039f"
             ],
             [
              0.2222222222222222,
              "#7201a8"
             ],
             [
              0.3333333333333333,
              "#9c179e"
             ],
             [
              0.4444444444444444,
              "#bd3786"
             ],
             [
              0.5555555555555556,
              "#d8576b"
             ],
             [
              0.6666666666666666,
              "#ed7953"
             ],
             [
              0.7777777777777778,
              "#fb9f3a"
             ],
             [
              0.8888888888888888,
              "#fdca26"
             ],
             [
              1,
              "#f0f921"
             ]
            ],
            "type": "heatmap"
           }
          ],
          "histogram": [
           {
            "marker": {
             "pattern": {
              "fillmode": "overlay",
              "size": 10,
              "solidity": 0.2
             }
            },
            "type": "histogram"
           }
          ],
          "histogram2d": [
           {
            "colorbar": {
             "outlinewidth": 0,
             "ticks": ""
            },
            "colorscale": [
             [
              0,
              "#0d0887"
             ],
             [
              0.1111111111111111,
              "#46039f"
             ],
             [
              0.2222222222222222,
              "#7201a8"
             ],
             [
              0.3333333333333333,
              "#9c179e"
             ],
             [
              0.4444444444444444,
              "#bd3786"
             ],
             [
              0.5555555555555556,
              "#d8576b"
             ],
             [
              0.6666666666666666,
              "#ed7953"
             ],
             [
              0.7777777777777778,
              "#fb9f3a"
             ],
             [
              0.8888888888888888,
              "#fdca26"
             ],
             [
              1,
              "#f0f921"
             ]
            ],
            "type": "histogram2d"
           }
          ],
          "histogram2dcontour": [
           {
            "colorbar": {
             "outlinewidth": 0,
             "ticks": ""
            },
            "colorscale": [
             [
              0,
              "#0d0887"
             ],
             [
              0.1111111111111111,
              "#46039f"
             ],
             [
              0.2222222222222222,
              "#7201a8"
             ],
             [
              0.3333333333333333,
              "#9c179e"
             ],
             [
              0.4444444444444444,
              "#bd3786"
             ],
             [
              0.5555555555555556,
              "#d8576b"
             ],
             [
              0.6666666666666666,
              "#ed7953"
             ],
             [
              0.7777777777777778,
              "#fb9f3a"
             ],
             [
              0.8888888888888888,
              "#fdca26"
             ],
             [
              1,
              "#f0f921"
             ]
            ],
            "type": "histogram2dcontour"
           }
          ],
          "mesh3d": [
           {
            "colorbar": {
             "outlinewidth": 0,
             "ticks": ""
            },
            "type": "mesh3d"
           }
          ],
          "parcoords": [
           {
            "line": {
             "colorbar": {
              "outlinewidth": 0,
              "ticks": ""
             }
            },
            "type": "parcoords"
           }
          ],
          "pie": [
           {
            "automargin": true,
            "type": "pie"
           }
          ],
          "scatter": [
           {
            "fillpattern": {
             "fillmode": "overlay",
             "size": 10,
             "solidity": 0.2
            },
            "type": "scatter"
           }
          ],
          "scatter3d": [
           {
            "line": {
             "colorbar": {
              "outlinewidth": 0,
              "ticks": ""
             }
            },
            "marker": {
             "colorbar": {
              "outlinewidth": 0,
              "ticks": ""
             }
            },
            "type": "scatter3d"
           }
          ],
          "scattercarpet": [
           {
            "marker": {
             "colorbar": {
              "outlinewidth": 0,
              "ticks": ""
             }
            },
            "type": "scattercarpet"
           }
          ],
          "scattergeo": [
           {
            "marker": {
             "colorbar": {
              "outlinewidth": 0,
              "ticks": ""
             }
            },
            "type": "scattergeo"
           }
          ],
          "scattergl": [
           {
            "marker": {
             "colorbar": {
              "outlinewidth": 0,
              "ticks": ""
             }
            },
            "type": "scattergl"
           }
          ],
          "scattermap": [
           {
            "marker": {
             "colorbar": {
              "outlinewidth": 0,
              "ticks": ""
             }
            },
            "type": "scattermap"
           }
          ],
          "scattermapbox": [
           {
            "marker": {
             "colorbar": {
              "outlinewidth": 0,
              "ticks": ""
             }
            },
            "type": "scattermapbox"
           }
          ],
          "scatterpolar": [
           {
            "marker": {
             "colorbar": {
              "outlinewidth": 0,
              "ticks": ""
             }
            },
            "type": "scatterpolar"
           }
          ],
          "scatterpolargl": [
           {
            "marker": {
             "colorbar": {
              "outlinewidth": 0,
              "ticks": ""
             }
            },
            "type": "scatterpolargl"
           }
          ],
          "scatterternary": [
           {
            "marker": {
             "colorbar": {
              "outlinewidth": 0,
              "ticks": ""
             }
            },
            "type": "scatterternary"
           }
          ],
          "surface": [
           {
            "colorbar": {
             "outlinewidth": 0,
             "ticks": ""
            },
            "colorscale": [
             [
              0,
              "#0d0887"
             ],
             [
              0.1111111111111111,
              "#46039f"
             ],
             [
              0.2222222222222222,
              "#7201a8"
             ],
             [
              0.3333333333333333,
              "#9c179e"
             ],
             [
              0.4444444444444444,
              "#bd3786"
             ],
             [
              0.5555555555555556,
              "#d8576b"
             ],
             [
              0.6666666666666666,
              "#ed7953"
             ],
             [
              0.7777777777777778,
              "#fb9f3a"
             ],
             [
              0.8888888888888888,
              "#fdca26"
             ],
             [
              1,
              "#f0f921"
             ]
            ],
            "type": "surface"
           }
          ],
          "table": [
           {
            "cells": {
             "fill": {
              "color": "#EBF0F8"
             },
             "line": {
              "color": "white"
             }
            },
            "header": {
             "fill": {
              "color": "#C8D4E3"
             },
             "line": {
              "color": "white"
             }
            },
            "type": "table"
           }
          ]
         },
         "layout": {
          "annotationdefaults": {
           "arrowcolor": "#2a3f5f",
           "arrowhead": 0,
           "arrowwidth": 1
          },
          "autotypenumbers": "strict",
          "coloraxis": {
           "colorbar": {
            "outlinewidth": 0,
            "ticks": ""
           }
          },
          "colorscale": {
           "diverging": [
            [
             0,
             "#8e0152"
            ],
            [
             0.1,
             "#c51b7d"
            ],
            [
             0.2,
             "#de77ae"
            ],
            [
             0.3,
             "#f1b6da"
            ],
            [
             0.4,
             "#fde0ef"
            ],
            [
             0.5,
             "#f7f7f7"
            ],
            [
             0.6,
             "#e6f5d0"
            ],
            [
             0.7,
             "#b8e186"
            ],
            [
             0.8,
             "#7fbc41"
            ],
            [
             0.9,
             "#4d9221"
            ],
            [
             1,
             "#276419"
            ]
           ],
           "sequential": [
            [
             0,
             "#0d0887"
            ],
            [
             0.1111111111111111,
             "#46039f"
            ],
            [
             0.2222222222222222,
             "#7201a8"
            ],
            [
             0.3333333333333333,
             "#9c179e"
            ],
            [
             0.4444444444444444,
             "#bd3786"
            ],
            [
             0.5555555555555556,
             "#d8576b"
            ],
            [
             0.6666666666666666,
             "#ed7953"
            ],
            [
             0.7777777777777778,
             "#fb9f3a"
            ],
            [
             0.8888888888888888,
             "#fdca26"
            ],
            [
             1,
             "#f0f921"
            ]
           ],
           "sequentialminus": [
            [
             0,
             "#0d0887"
            ],
            [
             0.1111111111111111,
             "#46039f"
            ],
            [
             0.2222222222222222,
             "#7201a8"
            ],
            [
             0.3333333333333333,
             "#9c179e"
            ],
            [
             0.4444444444444444,
             "#bd3786"
            ],
            [
             0.5555555555555556,
             "#d8576b"
            ],
            [
             0.6666666666666666,
             "#ed7953"
            ],
            [
             0.7777777777777778,
             "#fb9f3a"
            ],
            [
             0.8888888888888888,
             "#fdca26"
            ],
            [
             1,
             "#f0f921"
            ]
           ]
          },
          "colorway": [
           "#636efa",
           "#EF553B",
           "#00cc96",
           "#ab63fa",
           "#FFA15A",
           "#19d3f3",
           "#FF6692",
           "#B6E880",
           "#FF97FF",
           "#FECB52"
          ],
          "font": {
           "color": "#2a3f5f"
          },
          "geo": {
           "bgcolor": "white",
           "lakecolor": "white",
           "landcolor": "#E5ECF6",
           "showlakes": true,
           "showland": true,
           "subunitcolor": "white"
          },
          "hoverlabel": {
           "align": "left"
          },
          "hovermode": "closest",
          "mapbox": {
           "style": "light"
          },
          "paper_bgcolor": "white",
          "plot_bgcolor": "#E5ECF6",
          "polar": {
           "angularaxis": {
            "gridcolor": "white",
            "linecolor": "white",
            "ticks": ""
           },
           "bgcolor": "#E5ECF6",
           "radialaxis": {
            "gridcolor": "white",
            "linecolor": "white",
            "ticks": ""
           }
          },
          "scene": {
           "xaxis": {
            "backgroundcolor": "#E5ECF6",
            "gridcolor": "white",
            "gridwidth": 2,
            "linecolor": "white",
            "showbackground": true,
            "ticks": "",
            "zerolinecolor": "white"
           },
           "yaxis": {
            "backgroundcolor": "#E5ECF6",
            "gridcolor": "white",
            "gridwidth": 2,
            "linecolor": "white",
            "showbackground": true,
            "ticks": "",
            "zerolinecolor": "white"
           },
           "zaxis": {
            "backgroundcolor": "#E5ECF6",
            "gridcolor": "white",
            "gridwidth": 2,
            "linecolor": "white",
            "showbackground": true,
            "ticks": "",
            "zerolinecolor": "white"
           }
          },
          "shapedefaults": {
           "line": {
            "color": "#2a3f5f"
           }
          },
          "ternary": {
           "aaxis": {
            "gridcolor": "white",
            "linecolor": "white",
            "ticks": ""
           },
           "baxis": {
            "gridcolor": "white",
            "linecolor": "white",
            "ticks": ""
           },
           "bgcolor": "#E5ECF6",
           "caxis": {
            "gridcolor": "white",
            "linecolor": "white",
            "ticks": ""
           }
          },
          "title": {
           "x": 0.05
          },
          "xaxis": {
           "automargin": true,
           "gridcolor": "white",
           "linecolor": "white",
           "ticks": "",
           "title": {
            "standoff": 15
           },
           "zerolinecolor": "white",
           "zerolinewidth": 2
          },
          "yaxis": {
           "automargin": true,
           "gridcolor": "white",
           "linecolor": "white",
           "ticks": "",
           "title": {
            "standoff": 15
           },
           "zerolinecolor": "white",
           "zerolinewidth": 2
          }
         }
        },
        "title": {
         "text": "Smoker"
        },
        "xaxis": {
         "anchor": "y",
         "domain": [
          0,
          1
         ],
         "title": {
          "text": "smoker"
         }
        },
        "yaxis": {
         "anchor": "x",
         "domain": [
          0,
          1
         ],
         "title": {
          "text": "count"
         }
        }
       }
      }
     },
     "metadata": {},
     "output_type": "display_data"
    }
   ],
   "source": [
    "px.histogram(medical_df, x='smoker', color='sex', title='Smoker')\n",
    "#Distribution of number of smokers by sex is alomost equal"
   ]
  },
  {
   "cell_type": "code",
   "execution_count": 15,
   "metadata": {},
   "outputs": [
    {
     "data": {
      "application/vnd.plotly.v1+json": {
       "config": {
        "plotlyServerURL": "https://plot.ly"
       },
       "data": [
        {
         "customdata": [
          [
           "female"
          ],
          [
           "female"
          ],
          [
           "male"
          ],
          [
           "male"
          ],
          [
           "female"
          ],
          [
           "male"
          ],
          [
           "male"
          ],
          [
           "male"
          ],
          [
           "male"
          ],
          [
           "male"
          ],
          [
           "male"
          ],
          [
           "male"
          ],
          [
           "male"
          ],
          [
           "male"
          ],
          [
           "male"
          ],
          [
           "female"
          ],
          [
           "female"
          ],
          [
           "male"
          ],
          [
           "female"
          ],
          [
           "male"
          ],
          [
           "female"
          ],
          [
           "male"
          ],
          [
           "female"
          ],
          [
           "male"
          ],
          [
           "female"
          ],
          [
           "male"
          ],
          [
           "male"
          ],
          [
           "female"
          ],
          [
           "male"
          ],
          [
           "male"
          ],
          [
           "female"
          ],
          [
           "male"
          ],
          [
           "female"
          ],
          [
           "female"
          ],
          [
           "male"
          ],
          [
           "male"
          ],
          [
           "male"
          ],
          [
           "female"
          ],
          [
           "male"
          ],
          [
           "male"
          ],
          [
           "male"
          ],
          [
           "female"
          ],
          [
           "female"
          ],
          [
           "female"
          ],
          [
           "male"
          ],
          [
           "female"
          ],
          [
           "male"
          ],
          [
           "male"
          ],
          [
           "male"
          ],
          [
           "female"
          ],
          [
           "male"
          ],
          [
           "female"
          ],
          [
           "female"
          ],
          [
           "male"
          ],
          [
           "female"
          ],
          [
           "male"
          ],
          [
           "male"
          ],
          [
           "male"
          ],
          [
           "male"
          ],
          [
           "female"
          ],
          [
           "male"
          ],
          [
           "male"
          ],
          [
           "male"
          ],
          [
           "male"
          ],
          [
           "male"
          ],
          [
           "female"
          ],
          [
           "male"
          ],
          [
           "female"
          ],
          [
           "male"
          ],
          [
           "male"
          ],
          [
           "male"
          ],
          [
           "male"
          ],
          [
           "female"
          ],
          [
           "male"
          ],
          [
           "female"
          ],
          [
           "male"
          ],
          [
           "male"
          ],
          [
           "female"
          ],
          [
           "female"
          ],
          [
           "male"
          ],
          [
           "male"
          ],
          [
           "female"
          ],
          [
           "male"
          ],
          [
           "female"
          ],
          [
           "female"
          ],
          [
           "male"
          ],
          [
           "female"
          ],
          [
           "male"
          ],
          [
           "female"
          ],
          [
           "female"
          ],
          [
           "female"
          ],
          [
           "female"
          ],
          [
           "male"
          ],
          [
           "male"
          ],
          [
           "male"
          ],
          [
           "female"
          ],
          [
           "male"
          ],
          [
           "male"
          ],
          [
           "female"
          ],
          [
           "male"
          ],
          [
           "male"
          ],
          [
           "male"
          ],
          [
           "female"
          ],
          [
           "male"
          ],
          [
           "male"
          ],
          [
           "male"
          ],
          [
           "male"
          ],
          [
           "male"
          ],
          [
           "male"
          ],
          [
           "male"
          ],
          [
           "female"
          ],
          [
           "male"
          ],
          [
           "female"
          ],
          [
           "female"
          ],
          [
           "male"
          ],
          [
           "female"
          ],
          [
           "female"
          ],
          [
           "female"
          ],
          [
           "female"
          ],
          [
           "female"
          ],
          [
           "male"
          ],
          [
           "female"
          ],
          [
           "male"
          ],
          [
           "female"
          ],
          [
           "male"
          ],
          [
           "male"
          ],
          [
           "female"
          ],
          [
           "male"
          ],
          [
           "male"
          ],
          [
           "female"
          ],
          [
           "female"
          ],
          [
           "male"
          ],
          [
           "female"
          ],
          [
           "male"
          ],
          [
           "female"
          ],
          [
           "male"
          ],
          [
           "male"
          ],
          [
           "male"
          ],
          [
           "male"
          ],
          [
           "female"
          ],
          [
           "female"
          ],
          [
           "female"
          ],
          [
           "male"
          ],
          [
           "female"
          ],
          [
           "male"
          ],
          [
           "male"
          ],
          [
           "male"
          ],
          [
           "male"
          ],
          [
           "female"
          ],
          [
           "female"
          ],
          [
           "male"
          ],
          [
           "male"
          ],
          [
           "female"
          ],
          [
           "male"
          ],
          [
           "female"
          ],
          [
           "male"
          ],
          [
           "male"
          ],
          [
           "male"
          ],
          [
           "female"
          ],
          [
           "female"
          ],
          [
           "female"
          ],
          [
           "male"
          ],
          [
           "male"
          ],
          [
           "male"
          ],
          [
           "female"
          ],
          [
           "female"
          ],
          [
           "female"
          ],
          [
           "female"
          ],
          [
           "female"
          ],
          [
           "female"
          ],
          [
           "female"
          ],
          [
           "male"
          ],
          [
           "female"
          ],
          [
           "female"
          ],
          [
           "male"
          ],
          [
           "male"
          ],
          [
           "female"
          ],
          [
           "male"
          ],
          [
           "female"
          ],
          [
           "male"
          ],
          [
           "female"
          ],
          [
           "male"
          ],
          [
           "female"
          ],
          [
           "male"
          ],
          [
           "male"
          ],
          [
           "male"
          ],
          [
           "male"
          ],
          [
           "male"
          ],
          [
           "male"
          ],
          [
           "male"
          ],
          [
           "male"
          ],
          [
           "male"
          ],
          [
           "male"
          ],
          [
           "male"
          ],
          [
           "female"
          ],
          [
           "female"
          ],
          [
           "male"
          ],
          [
           "male"
          ],
          [
           "male"
          ],
          [
           "male"
          ],
          [
           "female"
          ],
          [
           "male"
          ],
          [
           "male"
          ],
          [
           "female"
          ],
          [
           "female"
          ],
          [
           "male"
          ],
          [
           "male"
          ],
          [
           "female"
          ],
          [
           "female"
          ],
          [
           "male"
          ],
          [
           "female"
          ],
          [
           "male"
          ],
          [
           "male"
          ],
          [
           "male"
          ],
          [
           "male"
          ],
          [
           "male"
          ],
          [
           "male"
          ],
          [
           "female"
          ],
          [
           "male"
          ],
          [
           "female"
          ],
          [
           "female"
          ],
          [
           "female"
          ],
          [
           "male"
          ],
          [
           "female"
          ],
          [
           "male"
          ],
          [
           "male"
          ],
          [
           "female"
          ],
          [
           "female"
          ],
          [
           "female"
          ],
          [
           "female"
          ],
          [
           "male"
          ],
          [
           "female"
          ],
          [
           "male"
          ],
          [
           "male"
          ],
          [
           "female"
          ],
          [
           "female"
          ],
          [
           "male"
          ],
          [
           "female"
          ],
          [
           "male"
          ],
          [
           "female"
          ],
          [
           "female"
          ],
          [
           "female"
          ],
          [
           "male"
          ],
          [
           "female"
          ],
          [
           "female"
          ],
          [
           "female"
          ],
          [
           "male"
          ],
          [
           "female"
          ],
          [
           "male"
          ],
          [
           "male"
          ],
          [
           "male"
          ],
          [
           "male"
          ],
          [
           "male"
          ],
          [
           "male"
          ],
          [
           "male"
          ],
          [
           "male"
          ],
          [
           "male"
          ],
          [
           "female"
          ],
          [
           "female"
          ],
          [
           "male"
          ],
          [
           "male"
          ],
          [
           "male"
          ],
          [
           "male"
          ],
          [
           "male"
          ],
          [
           "male"
          ],
          [
           "male"
          ],
          [
           "female"
          ],
          [
           "male"
          ],
          [
           "female"
          ],
          [
           "female"
          ],
          [
           "female"
          ],
          [
           "male"
          ],
          [
           "female"
          ],
          [
           "female"
          ]
         ],
         "hovertemplate": "smoker=yes<br>age=%{x}<br>charges=%{y}<br>sex=%{customdata[0]}<extra></extra>",
         "legendgroup": "yes",
         "marker": {
          "color": "#636efa",
          "opacity": 0.8,
          "size": 5,
          "symbol": "circle"
         },
         "mode": "markers",
         "name": "yes",
         "showlegend": true,
         "type": "scattergl",
         "x": {
          "bdata": "Ez4bHiIfFhwjPCQwJDoSNRQcGxYlLTk7QDgmPRQ/HSwTICIeLiowEh4qEj8kGyMTKigTFz8SPzYyOBMUNBMuKDIoNjsZEy8fNSsbIi1APTQyExoXJxgbNywaJD9APSghOCoeNj0YLBUdMxMnKjk2MSsjMB8iFRM7Hi8xEyUSLCcqNEArKD4sPCcbKTMeHSMlFx0bNSUvEiETHjI1GyESLyE4JCkXOTwlLjEwGSUzIDlALys8IBIrLSUZMywiNiszHR8YGx4YLysWLxMuNxIWLSMUKxYxLzslHCcvFjMhJjAZIRc1FxM8KxMSKzQfFxQrExIkJS4UNBQ0QCAYFEAYGicvEj0UEy0+KyodIBkTHj4qPQ==",
          "dtype": "i1"
         },
         "xaxis": "x",
         "y": {
          "bdata": "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",
          "dtype": "f8"
         },
         "yaxis": "y"
        },
        {
         "customdata": [
          [
           "male"
          ],
          [
           "male"
          ],
          [
           "male"
          ],
          [
           "male"
          ],
          [
           "female"
          ],
          [
           "female"
          ],
          [
           "female"
          ],
          [
           "male"
          ],
          [
           "female"
          ],
          [
           "male"
          ],
          [
           "male"
          ],
          [
           "female"
          ],
          [
           "male"
          ],
          [
           "female"
          ],
          [
           "male"
          ],
          [
           "male"
          ],
          [
           "female"
          ],
          [
           "female"
          ],
          [
           "male"
          ],
          [
           "male"
          ],
          [
           "female"
          ],
          [
           "female"
          ],
          [
           "female"
          ],
          [
           "male"
          ],
          [
           "female"
          ],
          [
           "female"
          ],
          [
           "male"
          ],
          [
           "male"
          ],
          [
           "female"
          ],
          [
           "male"
          ],
          [
           "female"
          ],
          [
           "female"
          ],
          [
           "male"
          ],
          [
           "female"
          ],
          [
           "male"
          ],
          [
           "male"
          ],
          [
           "female"
          ],
          [
           "female"
          ],
          [
           "female"
          ],
          [
           "female"
          ],
          [
           "female"
          ],
          [
           "female"
          ],
          [
           "female"
          ],
          [
           "female"
          ],
          [
           "male"
          ],
          [
           "male"
          ],
          [
           "male"
          ],
          [
           "female"
          ],
          [
           "female"
          ],
          [
           "female"
          ],
          [
           "male"
          ],
          [
           "female"
          ],
          [
           "male"
          ],
          [
           "female"
          ],
          [
           "male"
          ],
          [
           "male"
          ],
          [
           "male"
          ],
          [
           "female"
          ],
          [
           "male"
          ],
          [
           "female"
          ],
          [
           "female"
          ],
          [
           "male"
          ],
          [
           "female"
          ],
          [
           "female"
          ],
          [
           "female"
          ],
          [
           "female"
          ],
          [
           "female"
          ],
          [
           "female"
          ],
          [
           "female"
          ],
          [
           "male"
          ],
          [
           "female"
          ],
          [
           "female"
          ],
          [
           "male"
          ],
          [
           "female"
          ],
          [
           "male"
          ],
          [
           "female"
          ],
          [
           "female"
          ],
          [
           "female"
          ],
          [
           "male"
          ],
          [
           "male"
          ],
          [
           "male"
          ],
          [
           "female"
          ],
          [
           "male"
          ],
          [
           "female"
          ],
          [
           "male"
          ],
          [
           "male"
          ],
          [
           "male"
          ],
          [
           "female"
          ],
          [
           "female"
          ],
          [
           "male"
          ],
          [
           "male"
          ],
          [
           "female"
          ],
          [
           "female"
          ],
          [
           "female"
          ],
          [
           "female"
          ],
          [
           "male"
          ],
          [
           "female"
          ],
          [
           "female"
          ],
          [
           "female"
          ],
          [
           "male"
          ],
          [
           "female"
          ],
          [
           "female"
          ],
          [
           "male"
          ],
          [
           "male"
          ],
          [
           "female"
          ],
          [
           "female"
          ],
          [
           "male"
          ],
          [
           "male"
          ],
          [
           "male"
          ],
          [
           "female"
          ],
          [
           "female"
          ],
          [
           "female"
          ],
          [
           "male"
          ],
          [
           "male"
          ],
          [
           "male"
          ],
          [
           "female"
          ],
          [
           "female"
          ],
          [
           "male"
          ],
          [
           "female"
          ],
          [
           "male"
          ],
          [
           "female"
          ],
          [
           "male"
          ],
          [
           "male"
          ],
          [
           "female"
          ],
          [
           "female"
          ],
          [
           "female"
          ],
          [
           "male"
          ],
          [
           "male"
          ],
          [
           "male"
          ],
          [
           "male"
          ],
          [
           "female"
          ],
          [
           "female"
          ],
          [
           "male"
          ],
          [
           "male"
          ],
          [
           "female"
          ],
          [
           "female"
          ],
          [
           "male"
          ],
          [
           "female"
          ],
          [
           "male"
          ],
          [
           "female"
          ],
          [
           "male"
          ],
          [
           "female"
          ],
          [
           "female"
          ],
          [
           "female"
          ],
          [
           "female"
          ],
          [
           "male"
          ],
          [
           "female"
          ],
          [
           "male"
          ],
          [
           "female"
          ],
          [
           "male"
          ],
          [
           "male"
          ],
          [
           "female"
          ],
          [
           "female"
          ],
          [
           "female"
          ],
          [
           "female"
          ],
          [
           "female"
          ],
          [
           "female"
          ],
          [
           "female"
          ],
          [
           "male"
          ],
          [
           "female"
          ],
          [
           "male"
          ],
          [
           "female"
          ],
          [
           "male"
          ],
          [
           "male"
          ],
          [
           "male"
          ],
          [
           "male"
          ],
          [
           "female"
          ],
          [
           "female"
          ],
          [
           "female"
          ],
          [
           "female"
          ],
          [
           "male"
          ],
          [
           "female"
          ],
          [
           "female"
          ],
          [
           "female"
          ],
          [
           "female"
          ],
          [
           "male"
          ],
          [
           "male"
          ],
          [
           "male"
          ],
          [
           "female"
          ],
          [
           "female"
          ],
          [
           "male"
          ],
          [
           "female"
          ],
          [
           "female"
          ],
          [
           "female"
          ],
          [
           "male"
          ],
          [
           "male"
          ],
          [
           "female"
          ],
          [
           "male"
          ],
          [
           "male"
          ],
          [
           "female"
          ],
          [
           "female"
          ],
          [
           "male"
          ],
          [
           "male"
          ],
          [
           "female"
          ],
          [
           "male"
          ],
          [
           "male"
          ],
          [
           "male"
          ],
          [
           "male"
          ],
          [
           "female"
          ],
          [
           "female"
          ],
          [
           "male"
          ],
          [
           "female"
          ],
          [
           "female"
          ],
          [
           "female"
          ],
          [
           "male"
          ],
          [
           "male"
          ],
          [
           "male"
          ],
          [
           "male"
          ],
          [
           "male"
          ],
          [
           "male"
          ],
          [
           "female"
          ],
          [
           "male"
          ],
          [
           "female"
          ],
          [
           "male"
          ],
          [
           "female"
          ],
          [
           "male"
          ],
          [
           "female"
          ],
          [
           "female"
          ],
          [
           "male"
          ],
          [
           "female"
          ],
          [
           "female"
          ],
          [
           "male"
          ],
          [
           "female"
          ],
          [
           "male"
          ],
          [
           "female"
          ],
          [
           "male"
          ],
          [
           "male"
          ],
          [
           "female"
          ],
          [
           "male"
          ],
          [
           "female"
          ],
          [
           "female"
          ],
          [
           "female"
          ],
          [
           "male"
          ],
          [
           "female"
          ],
          [
           "female"
          ],
          [
           "male"
          ],
          [
           "female"
          ],
          [
           "male"
          ],
          [
           "female"
          ],
          [
           "male"
          ],
          [
           "male"
          ],
          [
           "male"
          ],
          [
           "male"
          ],
          [
           "female"
          ],
          [
           "male"
          ],
          [
           "male"
          ],
          [
           "female"
          ],
          [
           "male"
          ],
          [
           "male"
          ],
          [
           "male"
          ],
          [
           "female"
          ],
          [
           "male"
          ],
          [
           "female"
          ],
          [
           "female"
          ],
          [
           "female"
          ],
          [
           "male"
          ],
          [
           "male"
          ],
          [
           "male"
          ],
          [
           "female"
          ],
          [
           "female"
          ],
          [
           "male"
          ],
          [
           "female"
          ],
          [
           "male"
          ],
          [
           "female"
          ],
          [
           "female"
          ],
          [
           "male"
          ],
          [
           "male"
          ],
          [
           "female"
          ],
          [
           "male"
          ],
          [
           "female"
          ],
          [
           "female"
          ],
          [
           "female"
          ],
          [
           "male"
          ],
          [
           "female"
          ],
          [
           "male"
          ],
          [
           "male"
          ],
          [
           "male"
          ],
          [
           "male"
          ],
          [
           "female"
          ],
          [
           "female"
          ],
          [
           "male"
          ],
          [
           "female"
          ],
          [
           "female"
          ],
          [
           "female"
          ],
          [
           "female"
          ],
          [
           "female"
          ],
          [
           "male"
          ],
          [
           "male"
          ],
          [
           "female"
          ],
          [
           "female"
          ],
          [
           "female"
          ],
          [
           "male"
          ],
          [
           "female"
          ],
          [
           "male"
          ],
          [
           "male"
          ],
          [
           "female"
          ],
          [
           "male"
          ],
          [
           "male"
          ],
          [
           "female"
          ],
          [
           "male"
          ],
          [
           "female"
          ],
          [
           "female"
          ],
          [
           "male"
          ],
          [
           "female"
          ],
          [
           "male"
          ],
          [
           "male"
          ],
          [
           "female"
          ],
          [
           "male"
          ],
          [
           "female"
          ],
          [
           "male"
          ],
          [
           "male"
          ],
          [
           "female"
          ],
          [
           "female"
          ],
          [
           "male"
          ],
          [
           "female"
          ],
          [
           "male"
          ],
          [
           "male"
          ],
          [
           "female"
          ],
          [
           "female"
          ],
          [
           "female"
          ],
          [
           "male"
          ],
          [
           "male"
          ],
          [
           "male"
          ],
          [
           "male"
          ],
          [
           "female"
          ],
          [
           "female"
          ],
          [
           "male"
          ],
          [
           "male"
          ],
          [
           "male"
          ],
          [
           "male"
          ],
          [
           "male"
          ],
          [
           "female"
          ],
          [
           "female"
          ],
          [
           "female"
          ],
          [
           "female"
          ],
          [
           "male"
          ],
          [
           "female"
          ],
          [
           "male"
          ],
          [
           "female"
          ],
          [
           "male"
          ],
          [
           "male"
          ],
          [
           "male"
          ],
          [
           "male"
          ],
          [
           "female"
          ],
          [
           "male"
          ],
          [
           "female"
          ],
          [
           "male"
          ],
          [
           "female"
          ],
          [
           "female"
          ],
          [
           "male"
          ],
          [
           "female"
          ],
          [
           "female"
          ],
          [
           "male"
          ],
          [
           "male"
          ],
          [
           "male"
          ],
          [
           "male"
          ],
          [
           "male"
          ],
          [
           "male"
          ],
          [
           "male"
          ],
          [
           "female"
          ],
          [
           "female"
          ],
          [
           "male"
          ],
          [
           "female"
          ],
          [
           "female"
          ],
          [
           "female"
          ],
          [
           "male"
          ],
          [
           "male"
          ],
          [
           "female"
          ],
          [
           "female"
          ],
          [
           "female"
          ],
          [
           "female"
          ],
          [
           "male"
          ],
          [
           "female"
          ],
          [
           "female"
          ],
          [
           "female"
          ],
          [
           "male"
          ],
          [
           "male"
          ],
          [
           "male"
          ],
          [
           "male"
          ],
          [
           "male"
          ],
          [
           "female"
          ],
          [
           "female"
          ],
          [
           "male"
          ],
          [
           "female"
          ],
          [
           "female"
          ],
          [
           "male"
          ],
          [
           "male"
          ],
          [
           "female"
          ],
          [
           "female"
          ],
          [
           "female"
          ],
          [
           "male"
          ],
          [
           "male"
          ],
          [
           "female"
          ],
          [
           "male"
          ],
          [
           "female"
          ],
          [
           "female"
          ],
          [
           "male"
          ],
          [
           "female"
          ],
          [
           "male"
          ],
          [
           "male"
          ],
          [
           "male"
          ],
          [
           "female"
          ],
          [
           "female"
          ],
          [
           "male"
          ],
          [
           "male"
          ],
          [
           "male"
          ],
          [
           "male"
          ],
          [
           "male"
          ],
          [
           "male"
          ],
          [
           "male"
          ],
          [
           "female"
          ],
          [
           "male"
          ],
          [
           "female"
          ],
          [
           "female"
          ],
          [
           "female"
          ],
          [
           "female"
          ],
          [
           "female"
          ],
          [
           "female"
          ],
          [
           "female"
          ],
          [
           "male"
          ],
          [
           "male"
          ],
          [
           "female"
          ],
          [
           "male"
          ],
          [
           "male"
          ],
          [
           "male"
          ],
          [
           "male"
          ],
          [
           "female"
          ],
          [
           "female"
          ],
          [
           "female"
          ],
          [
           "male"
          ],
          [
           "female"
          ],
          [
           "female"
          ],
          [
           "female"
          ],
          [
           "male"
          ],
          [
           "male"
          ],
          [
           "female"
          ],
          [
           "female"
          ],
          [
           "male"
          ],
          [
           "female"
          ],
          [
           "male"
          ],
          [
           "female"
          ],
          [
           "female"
          ],
          [
           "male"
          ],
          [
           "male"
          ],
          [
           "male"
          ],
          [
           "male"
          ],
          [
           "female"
          ],
          [
           "female"
          ],
          [
           "male"
          ],
          [
           "male"
          ],
          [
           "female"
          ],
          [
           "female"
          ],
          [
           "female"
          ],
          [
           "male"
          ],
          [
           "female"
          ],
          [
           "female"
          ],
          [
           "female"
          ],
          [
           "female"
          ],
          [
           "female"
          ],
          [
           "female"
          ],
          [
           "female"
          ],
          [
           "male"
          ],
          [
           "male"
          ],
          [
           "female"
          ],
          [
           "male"
          ],
          [
           "male"
          ],
          [
           "male"
          ],
          [
           "female"
          ],
          [
           "male"
          ],
          [
           "female"
          ],
          [
           "male"
          ],
          [
           "female"
          ],
          [
           "female"
          ],
          [
           "female"
          ],
          [
           "male"
          ],
          [
           "male"
          ],
          [
           "male"
          ],
          [
           "female"
          ],
          [
           "female"
          ],
          [
           "female"
          ],
          [
           "male"
          ],
          [
           "female"
          ],
          [
           "female"
          ],
          [
           "male"
          ],
          [
           "female"
          ],
          [
           "female"
          ],
          [
           "female"
          ],
          [
           "female"
          ],
          [
           "male"
          ],
          [
           "female"
          ],
          [
           "female"
          ],
          [
           "female"
          ],
          [
           "female"
          ],
          [
           "female"
          ],
          [
           "female"
          ],
          [
           "female"
          ],
          [
           "male"
          ],
          [
           "female"
          ],
          [
           "male"
          ],
          [
           "female"
          ],
          [
           "male"
          ],
          [
           "male"
          ],
          [
           "male"
          ],
          [
           "male"
          ],
          [
           "male"
          ],
          [
           "female"
          ],
          [
           "male"
          ],
          [
           "male"
          ],
          [
           "male"
          ],
          [
           "female"
          ],
          [
           "female"
          ],
          [
           "male"
          ],
          [
           "male"
          ],
          [
           "male"
          ],
          [
           "female"
          ],
          [
           "male"
          ],
          [
           "male"
          ],
          [
           "male"
          ],
          [
           "female"
          ],
          [
           "male"
          ],
          [
           "female"
          ],
          [
           "female"
          ],
          [
           "female"
          ],
          [
           "female"
          ],
          [
           "female"
          ],
          [
           "female"
          ],
          [
           "female"
          ],
          [
           "male"
          ],
          [
           "female"
          ],
          [
           "female"
          ],
          [
           "male"
          ],
          [
           "female"
          ],
          [
           "female"
          ],
          [
           "male"
          ],
          [
           "male"
          ],
          [
           "female"
          ],
          [
           "male"
          ],
          [
           "female"
          ],
          [
           "male"
          ],
          [
           "female"
          ],
          [
           "male"
          ],
          [
           "female"
          ],
          [
           "male"
          ],
          [
           "female"
          ],
          [
           "female"
          ],
          [
           "male"
          ],
          [
           "male"
          ],
          [
           "female"
          ],
          [
           "male"
          ],
          [
           "male"
          ],
          [
           "male"
          ],
          [
           "female"
          ],
          [
           "male"
          ],
          [
           "male"
          ],
          [
           "male"
          ],
          [
           "male"
          ],
          [
           "female"
          ],
          [
           "female"
          ],
          [
           "female"
          ],
          [
           "male"
          ],
          [
           "female"
          ],
          [
           "female"
          ],
          [
           "female"
          ],
          [
           "male"
          ],
          [
           "female"
          ],
          [
           "female"
          ],
          [
           "female"
          ],
          [
           "male"
          ],
          [
           "female"
          ],
          [
           "female"
          ],
          [
           "male"
          ],
          [
           "female"
          ],
          [
           "female"
          ],
          [
           "male"
          ],
          [
           "female"
          ],
          [
           "male"
          ],
          [
           "female"
          ],
          [
           "male"
          ],
          [
           "female"
          ],
          [
           "female"
          ],
          [
           "female"
          ],
          [
           "male"
          ],
          [
           "male"
          ],
          [
           "male"
          ],
          [
           "female"
          ],
          [
           "male"
          ],
          [
           "female"
          ],
          [
           "female"
          ],
          [
           "male"
          ],
          [
           "female"
          ],
          [
           "female"
          ],
          [
           "female"
          ],
          [
           "female"
          ],
          [
           "male"
          ],
          [
           "male"
          ],
          [
           "female"
          ],
          [
           "male"
          ],
          [
           "female"
          ],
          [
           "male"
          ],
          [
           "male"
          ],
          [
           "female"
          ],
          [
           "male"
          ],
          [
           "male"
          ],
          [
           "male"
          ],
          [
           "female"
          ],
          [
           "male"
          ],
          [
           "male"
          ],
          [
           "female"
          ],
          [
           "male"
          ],
          [
           "female"
          ],
          [
           "male"
          ],
          [
           "male"
          ],
          [
           "female"
          ],
          [
           "female"
          ],
          [
           "male"
          ],
          [
           "female"
          ],
          [
           "female"
          ],
          [
           "female"
          ],
          [
           "male"
          ],
          [
           "female"
          ],
          [
           "female"
          ],
          [
           "male"
          ],
          [
           "male"
          ],
          [
           "male"
          ],
          [
           "male"
          ],
          [
           "male"
          ],
          [
           "male"
          ],
          [
           "male"
          ],
          [
           "male"
          ],
          [
           "female"
          ],
          [
           "female"
          ],
          [
           "male"
          ],
          [
           "male"
          ],
          [
           "male"
          ],
          [
           "female"
          ],
          [
           "female"
          ],
          [
           "male"
          ],
          [
           "female"
          ],
          [
           "female"
          ],
          [
           "male"
          ],
          [
           "female"
          ],
          [
           "female"
          ],
          [
           "female"
          ],
          [
           "female"
          ],
          [
           "male"
          ],
          [
           "male"
          ],
          [
           "female"
          ],
          [
           "female"
          ],
          [
           "female"
          ],
          [
           "male"
          ],
          [
           "male"
          ],
          [
           "female"
          ],
          [
           "female"
          ],
          [
           "male"
          ],
          [
           "male"
          ],
          [
           "male"
          ],
          [
           "female"
          ],
          [
           "female"
          ],
          [
           "male"
          ],
          [
           "male"
          ],
          [
           "male"
          ],
          [
           "female"
          ],
          [
           "female"
          ],
          [
           "male"
          ],
          [
           "female"
          ],
          [
           "male"
          ],
          [
           "male"
          ],
          [
           "female"
          ],
          [
           "female"
          ],
          [
           "male"
          ],
          [
           "male"
          ],
          [
           "male"
          ],
          [
           "male"
          ],
          [
           "female"
          ],
          [
           "female"
          ],
          [
           "female"
          ],
          [
           "male"
          ],
          [
           "male"
          ],
          [
           "male"
          ],
          [
           "female"
          ],
          [
           "male"
          ],
          [
           "female"
          ],
          [
           "male"
          ],
          [
           "male"
          ],
          [
           "female"
          ],
          [
           "female"
          ],
          [
           "female"
          ],
          [
           "male"
          ],
          [
           "female"
          ],
          [
           "female"
          ],
          [
           "female"
          ],
          [
           "male"
          ],
          [
           "male"
          ],
          [
           "male"
          ],
          [
           "male"
          ],
          [
           "male"
          ],
          [
           "female"
          ],
          [
           "male"
          ],
          [
           "female"
          ],
          [
           "male"
          ],
          [
           "male"
          ],
          [
           "male"
          ],
          [
           "female"
          ],
          [
           "female"
          ],
          [
           "male"
          ],
          [
           "male"
          ],
          [
           "female"
          ],
          [
           "male"
          ],
          [
           "male"
          ],
          [
           "female"
          ],
          [
           "male"
          ],
          [
           "female"
          ],
          [
           "male"
          ],
          [
           "male"
          ],
          [
           "female"
          ],
          [
           "male"
          ],
          [
           "male"
          ],
          [
           "female"
          ],
          [
           "male"
          ],
          [
           "female"
          ],
          [
           "female"
          ],
          [
           "male"
          ],
          [
           "male"
          ],
          [
           "male"
          ],
          [
           "female"
          ],
          [
           "female"
          ],
          [
           "male"
          ],
          [
           "female"
          ],
          [
           "male"
          ],
          [
           "male"
          ],
          [
           "female"
          ],
          [
           "female"
          ],
          [
           "male"
          ],
          [
           "female"
          ],
          [
           "female"
          ],
          [
           "female"
          ],
          [
           "female"
          ],
          [
           "female"
          ],
          [
           "male"
          ],
          [
           "male"
          ],
          [
           "male"
          ],
          [
           "male"
          ],
          [
           "female"
          ],
          [
           "female"
          ],
          [
           "female"
          ],
          [
           "male"
          ],
          [
           "male"
          ],
          [
           "female"
          ],
          [
           "male"
          ],
          [
           "female"
          ],
          [
           "male"
          ],
          [
           "female"
          ],
          [
           "male"
          ],
          [
           "female"
          ],
          [
           "male"
          ],
          [
           "male"
          ],
          [
           "male"
          ],
          [
           "female"
          ],
          [
           "female"
          ],
          [
           "male"
          ],
          [
           "male"
          ],
          [
           "female"
          ],
          [
           "male"
          ],
          [
           "male"
          ],
          [
           "male"
          ],
          [
           "female"
          ],
          [
           "male"
          ],
          [
           "male"
          ],
          [
           "male"
          ],
          [
           "female"
          ],
          [
           "female"
          ],
          [
           "female"
          ],
          [
           "male"
          ],
          [
           "male"
          ],
          [
           "male"
          ],
          [
           "male"
          ],
          [
           "male"
          ],
          [
           "female"
          ],
          [
           "female"
          ],
          [
           "female"
          ],
          [
           "female"
          ],
          [
           "female"
          ],
          [
           "male"
          ],
          [
           "male"
          ],
          [
           "male"
          ],
          [
           "female"
          ],
          [
           "female"
          ],
          [
           "male"
          ],
          [
           "male"
          ],
          [
           "female"
          ],
          [
           "male"
          ],
          [
           "female"
          ],
          [
           "male"
          ],
          [
           "female"
          ],
          [
           "male"
          ],
          [
           "female"
          ],
          [
           "female"
          ],
          [
           "female"
          ],
          [
           "male"
          ],
          [
           "female"
          ],
          [
           "female"
          ],
          [
           "female"
          ],
          [
           "female"
          ],
          [
           "female"
          ],
          [
           "male"
          ],
          [
           "male"
          ],
          [
           "male"
          ],
          [
           "male"
          ],
          [
           "male"
          ],
          [
           "male"
          ],
          [
           "male"
          ],
          [
           "female"
          ],
          [
           "female"
          ],
          [
           "male"
          ],
          [
           "female"
          ],
          [
           "male"
          ],
          [
           "female"
          ],
          [
           "female"
          ],
          [
           "female"
          ],
          [
           "female"
          ],
          [
           "male"
          ],
          [
           "male"
          ],
          [
           "female"
          ],
          [
           "female"
          ],
          [
           "male"
          ],
          [
           "male"
          ],
          [
           "female"
          ],
          [
           "female"
          ],
          [
           "male"
          ],
          [
           "female"
          ],
          [
           "male"
          ],
          [
           "male"
          ],
          [
           "male"
          ],
          [
           "female"
          ],
          [
           "male"
          ],
          [
           "female"
          ],
          [
           "female"
          ],
          [
           "female"
          ],
          [
           "male"
          ],
          [
           "male"
          ],
          [
           "female"
          ],
          [
           "male"
          ],
          [
           "female"
          ],
          [
           "female"
          ],
          [
           "female"
          ],
          [
           "male"
          ],
          [
           "male"
          ],
          [
           "male"
          ],
          [
           "male"
          ],
          [
           "female"
          ],
          [
           "female"
          ],
          [
           "male"
          ],
          [
           "male"
          ],
          [
           "male"
          ],
          [
           "female"
          ],
          [
           "male"
          ],
          [
           "male"
          ],
          [
           "female"
          ],
          [
           "female"
          ],
          [
           "female"
          ],
          [
           "female"
          ],
          [
           "male"
          ],
          [
           "male"
          ],
          [
           "male"
          ],
          [
           "male"
          ],
          [
           "male"
          ],
          [
           "male"
          ],
          [
           "female"
          ],
          [
           "male"
          ],
          [
           "male"
          ],
          [
           "male"
          ],
          [
           "male"
          ],
          [
           "female"
          ],
          [
           "male"
          ],
          [
           "female"
          ],
          [
           "female"
          ],
          [
           "male"
          ],
          [
           "female"
          ],
          [
           "female"
          ],
          [
           "male"
          ],
          [
           "male"
          ],
          [
           "male"
          ],
          [
           "male"
          ],
          [
           "female"
          ],
          [
           "female"
          ],
          [
           "female"
          ],
          [
           "male"
          ],
          [
           "male"
          ],
          [
           "female"
          ],
          [
           "female"
          ],
          [
           "male"
          ],
          [
           "male"
          ],
          [
           "male"
          ],
          [
           "female"
          ],
          [
           "male"
          ],
          [
           "female"
          ],
          [
           "female"
          ],
          [
           "male"
          ],
          [
           "female"
          ],
          [
           "male"
          ],
          [
           "female"
          ],
          [
           "female"
          ],
          [
           "male"
          ],
          [
           "male"
          ],
          [
           "female"
          ],
          [
           "male"
          ],
          [
           "female"
          ],
          [
           "female"
          ],
          [
           "female"
          ],
          [
           "male"
          ],
          [
           "male"
          ],
          [
           "female"
          ],
          [
           "female"
          ],
          [
           "male"
          ],
          [
           "male"
          ],
          [
           "male"
          ],
          [
           "female"
          ],
          [
           "male"
          ],
          [
           "male"
          ],
          [
           "female"
          ],
          [
           "female"
          ],
          [
           "female"
          ],
          [
           "female"
          ],
          [
           "female"
          ],
          [
           "female"
          ],
          [
           "female"
          ],
          [
           "female"
          ],
          [
           "female"
          ],
          [
           "male"
          ],
          [
           "male"
          ],
          [
           "female"
          ],
          [
           "female"
          ],
          [
           "female"
          ],
          [
           "male"
          ],
          [
           "female"
          ],
          [
           "male"
          ],
          [
           "female"
          ],
          [
           "female"
          ],
          [
           "male"
          ],
          [
           "male"
          ],
          [
           "female"
          ],
          [
           "female"
          ],
          [
           "female"
          ],
          [
           "female"
          ],
          [
           "female"
          ],
          [
           "female"
          ],
          [
           "female"
          ],
          [
           "male"
          ],
          [
           "female"
          ],
          [
           "female"
          ],
          [
           "female"
          ],
          [
           "female"
          ],
          [
           "female"
          ],
          [
           "female"
          ],
          [
           "female"
          ],
          [
           "female"
          ],
          [
           "male"
          ],
          [
           "male"
          ],
          [
           "female"
          ],
          [
           "male"
          ],
          [
           "male"
          ],
          [
           "male"
          ],
          [
           "male"
          ],
          [
           "male"
          ],
          [
           "female"
          ],
          [
           "male"
          ],
          [
           "male"
          ],
          [
           "male"
          ],
          [
           "male"
          ],
          [
           "female"
          ],
          [
           "female"
          ],
          [
           "male"
          ],
          [
           "male"
          ],
          [
           "male"
          ],
          [
           "female"
          ],
          [
           "female"
          ],
          [
           "male"
          ],
          [
           "male"
          ],
          [
           "male"
          ],
          [
           "female"
          ],
          [
           "male"
          ],
          [
           "male"
          ],
          [
           "male"
          ],
          [
           "male"
          ],
          [
           "female"
          ],
          [
           "male"
          ],
          [
           "female"
          ],
          [
           "male"
          ],
          [
           "female"
          ],
          [
           "female"
          ],
          [
           "male"
          ],
          [
           "female"
          ],
          [
           "female"
          ],
          [
           "female"
          ],
          [
           "male"
          ],
          [
           "male"
          ],
          [
           "female"
          ],
          [
           "male"
          ],
          [
           "female"
          ],
          [
           "male"
          ],
          [
           "female"
          ],
          [
           "female"
          ],
          [
           "female"
          ],
          [
           "female"
          ],
          [
           "female"
          ],
          [
           "male"
          ],
          [
           "female"
          ],
          [
           "female"
          ],
          [
           "male"
          ],
          [
           "female"
          ],
          [
           "female"
          ],
          [
           "female"
          ],
          [
           "female"
          ],
          [
           "female"
          ],
          [
           "male"
          ],
          [
           "male"
          ],
          [
           "female"
          ],
          [
           "male"
          ],
          [
           "male"
          ],
          [
           "male"
          ],
          [
           "female"
          ],
          [
           "female"
          ],
          [
           "female"
          ],
          [
           "female"
          ],
          [
           "male"
          ],
          [
           "female"
          ],
          [
           "female"
          ],
          [
           "female"
          ],
          [
           "male"
          ],
          [
           "female"
          ],
          [
           "male"
          ],
          [
           "male"
          ],
          [
           "male"
          ],
          [
           "male"
          ],
          [
           "male"
          ],
          [
           "female"
          ],
          [
           "male"
          ],
          [
           "female"
          ],
          [
           "female"
          ],
          [
           "female"
          ],
          [
           "male"
          ],
          [
           "male"
          ],
          [
           "female"
          ],
          [
           "male"
          ],
          [
           "male"
          ],
          [
           "female"
          ],
          [
           "male"
          ],
          [
           "male"
          ],
          [
           "female"
          ],
          [
           "male"
          ],
          [
           "male"
          ],
          [
           "male"
          ],
          [
           "male"
          ],
          [
           "female"
          ],
          [
           "male"
          ],
          [
           "female"
          ],
          [
           "male"
          ],
          [
           "female"
          ],
          [
           "female"
          ],
          [
           "female"
          ],
          [
           "male"
          ],
          [
           "female"
          ],
          [
           "female"
          ],
          [
           "female"
          ]
         ],
         "hovertemplate": "smoker=no<br>age=%{x}<br>charges=%{y}<br>sex=%{customdata[0]}<extra></extra>",
         "legendgroup": "no",
         "marker": {
          "color": "#EF553B",
          "opacity": 0.8,
          "size": 5,
          "symbol": "circle"
         },
         "mode": "markers",
         "name": "no",
         "showlegend": true,
         "type": "scattergl",
         "x": {
          "bdata": "EhwhIB8uJSU8GRc4EzQXODweEiU7PzcXEhM/Ez4aGB8pJSY3Ehw8EhUoOiIrGUAcEz0oKB81Oiw5HRUWKR8tMDguNxU1Ixw2NykeEiITGh02NyUVNDw6MSUsEhQvGjQmOz01ExQWExY2FiIaHR0zNRMjMCAoLDI2ICUvFCATGz8xEiMYJjYuKToSFiwsGh4pHT0kGTgSEyctM0ATMDwuHDs/KBQoGCItKTUbGhgiNSA3HDopLyo7EzsnEh8sITcoNjwYEx0bNyYzOjU7LTESKTIZLxMWOzMeNzQuLj80HB0WGRIwJDgcOR0cHjopMhMxNDI2LCAiGjkdKBs0PTgrQDw+Lhg+PD8xIiEuJBM5Mh4hEi4uLxcSMCMVFTE4KiwSPTkqFEA+NyMsEzoyGhgwEzAxLi4rFUASMy9AMR80IS8mIBMZEys0QBkwLSYSFRsTHSo8HzwWIzQaHxI7LTw4KCMnHhgUIDs3OTgoMT44Ezw4HBIbEhMvGRUXPzESMzAfNhM1Ez0SPRQfLSw+KyYlFhUYOTgbMxM6FC0jHzIgMyYSEzMuEj47JUAmIS4uNSIUPzYcNhk/ID40GRwuIhMuNhsyEhMmKTEfEh4+OToWNBk7EycgEyEVPSY6LxQpLioiKzQSMzhAMxscLyYSIhQ4Nx4xOx0kITo1GB0oM0ATIzghPRcrMCcoEjoxNTAtOxobMDklOSASMSgeHSQpLTc4MRUTNSE1KigvFS8UGBsaNTgXFTI1Ii8hMR8kEjIrFBg8MTwzOjM1PhMyKRIpNRgwOzEaLR8yMiITLxwVQDoYHyceFhcbLTkvKkAmPTUsKTMoLSM1EjMfIzwVHT4nExYnHh46KkAVFy0oExIZLiE2HCQUGBctGhIsPEAnPyQcOiQqJDgjOxU7NTMXGzc9NRQZOSY3JDMoEjk9GTIaKissFzEhKSUWFxUZJBY5JDY+PRMSEzEaMTwaGyw/FjssIRg9Iz4+JiIrMhM5PikaJy4tIDssJxI1EjISEz44Kio5Hh8YMBMdPy40IywVJzIiFhMaMBotJDYiGxQsKy0iGiYyJicnPyEkGDAvHRwZMzA9MCY7Exo2FTMSLxUXNiUePTYWExIcNysZLEAxGzcwLRggGDkkHSowJz82PxU2PCAvFT8SICYgPjc5NDg3FzISFjQZNR06JTYxMhotNhwXNykeLhs/NyMiEycbOTQcMiwaITIpNCcyNBQ3KhI6IzAkFxQgKyIeEikjOR0gJTgmHRYoFyoYGTAtPhcfKTowHxMpKB8lLhYzIzs7JCcSNBsSKB0mHigyKSEmKjg6NjotGj86JRkWHBIcLSESEygiKjM2NzQgHCkrMTcULRoZKyM5FiAZMBIvHCQsJhUuOhQSHCETGRgpKiEiEhMSIycfPh89KjMXNDkXNDISEhU=",
          "dtype": "i1"
         },
         "xaxis": "x",
         "y": {
          "bdata": "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",
          "dtype": "f8"
         },
         "yaxis": "y"
        }
       ],
       "layout": {
        "legend": {
         "title": {
          "text": "smoker"
         },
         "tracegroupgap": 0
        },
        "template": {
         "data": {
          "bar": [
           {
            "error_x": {
             "color": "#2a3f5f"
            },
            "error_y": {
             "color": "#2a3f5f"
            },
            "marker": {
             "line": {
              "color": "#E5ECF6",
              "width": 0.5
             },
             "pattern": {
              "fillmode": "overlay",
              "size": 10,
              "solidity": 0.2
             }
            },
            "type": "bar"
           }
          ],
          "barpolar": [
           {
            "marker": {
             "line": {
              "color": "#E5ECF6",
              "width": 0.5
             },
             "pattern": {
              "fillmode": "overlay",
              "size": 10,
              "solidity": 0.2
             }
            },
            "type": "barpolar"
           }
          ],
          "carpet": [
           {
            "aaxis": {
             "endlinecolor": "#2a3f5f",
             "gridcolor": "white",
             "linecolor": "white",
             "minorgridcolor": "white",
             "startlinecolor": "#2a3f5f"
            },
            "baxis": {
             "endlinecolor": "#2a3f5f",
             "gridcolor": "white",
             "linecolor": "white",
             "minorgridcolor": "white",
             "startlinecolor": "#2a3f5f"
            },
            "type": "carpet"
           }
          ],
          "choropleth": [
           {
            "colorbar": {
             "outlinewidth": 0,
             "ticks": ""
            },
            "type": "choropleth"
           }
          ],
          "contour": [
           {
            "colorbar": {
             "outlinewidth": 0,
             "ticks": ""
            },
            "colorscale": [
             [
              0,
              "#0d0887"
             ],
             [
              0.1111111111111111,
              "#46039f"
             ],
             [
              0.2222222222222222,
              "#7201a8"
             ],
             [
              0.3333333333333333,
              "#9c179e"
             ],
             [
              0.4444444444444444,
              "#bd3786"
             ],
             [
              0.5555555555555556,
              "#d8576b"
             ],
             [
              0.6666666666666666,
              "#ed7953"
             ],
             [
              0.7777777777777778,
              "#fb9f3a"
             ],
             [
              0.8888888888888888,
              "#fdca26"
             ],
             [
              1,
              "#f0f921"
             ]
            ],
            "type": "contour"
           }
          ],
          "contourcarpet": [
           {
            "colorbar": {
             "outlinewidth": 0,
             "ticks": ""
            },
            "type": "contourcarpet"
           }
          ],
          "heatmap": [
           {
            "colorbar": {
             "outlinewidth": 0,
             "ticks": ""
            },
            "colorscale": [
             [
              0,
              "#0d0887"
             ],
             [
              0.1111111111111111,
              "#46039f"
             ],
             [
              0.2222222222222222,
              "#7201a8"
             ],
             [
              0.3333333333333333,
              "#9c179e"
             ],
             [
              0.4444444444444444,
              "#bd3786"
             ],
             [
              0.5555555555555556,
              "#d8576b"
             ],
             [
              0.6666666666666666,
              "#ed7953"
             ],
             [
              0.7777777777777778,
              "#fb9f3a"
             ],
             [
              0.8888888888888888,
              "#fdca26"
             ],
             [
              1,
              "#f0f921"
             ]
            ],
            "type": "heatmap"
           }
          ],
          "histogram": [
           {
            "marker": {
             "pattern": {
              "fillmode": "overlay",
              "size": 10,
              "solidity": 0.2
             }
            },
            "type": "histogram"
           }
          ],
          "histogram2d": [
           {
            "colorbar": {
             "outlinewidth": 0,
             "ticks": ""
            },
            "colorscale": [
             [
              0,
              "#0d0887"
             ],
             [
              0.1111111111111111,
              "#46039f"
             ],
             [
              0.2222222222222222,
              "#7201a8"
             ],
             [
              0.3333333333333333,
              "#9c179e"
             ],
             [
              0.4444444444444444,
              "#bd3786"
             ],
             [
              0.5555555555555556,
              "#d8576b"
             ],
             [
              0.6666666666666666,
              "#ed7953"
             ],
             [
              0.7777777777777778,
              "#fb9f3a"
             ],
             [
              0.8888888888888888,
              "#fdca26"
             ],
             [
              1,
              "#f0f921"
             ]
            ],
            "type": "histogram2d"
           }
          ],
          "histogram2dcontour": [
           {
            "colorbar": {
             "outlinewidth": 0,
             "ticks": ""
            },
            "colorscale": [
             [
              0,
              "#0d0887"
             ],
             [
              0.1111111111111111,
              "#46039f"
             ],
             [
              0.2222222222222222,
              "#7201a8"
             ],
             [
              0.3333333333333333,
              "#9c179e"
             ],
             [
              0.4444444444444444,
              "#bd3786"
             ],
             [
              0.5555555555555556,
              "#d8576b"
             ],
             [
              0.6666666666666666,
              "#ed7953"
             ],
             [
              0.7777777777777778,
              "#fb9f3a"
             ],
             [
              0.8888888888888888,
              "#fdca26"
             ],
             [
              1,
              "#f0f921"
             ]
            ],
            "type": "histogram2dcontour"
           }
          ],
          "mesh3d": [
           {
            "colorbar": {
             "outlinewidth": 0,
             "ticks": ""
            },
            "type": "mesh3d"
           }
          ],
          "parcoords": [
           {
            "line": {
             "colorbar": {
              "outlinewidth": 0,
              "ticks": ""
             }
            },
            "type": "parcoords"
           }
          ],
          "pie": [
           {
            "automargin": true,
            "type": "pie"
           }
          ],
          "scatter": [
           {
            "fillpattern": {
             "fillmode": "overlay",
             "size": 10,
             "solidity": 0.2
            },
            "type": "scatter"
           }
          ],
          "scatter3d": [
           {
            "line": {
             "colorbar": {
              "outlinewidth": 0,
              "ticks": ""
             }
            },
            "marker": {
             "colorbar": {
              "outlinewidth": 0,
              "ticks": ""
             }
            },
            "type": "scatter3d"
           }
          ],
          "scattercarpet": [
           {
            "marker": {
             "colorbar": {
              "outlinewidth": 0,
              "ticks": ""
             }
            },
            "type": "scattercarpet"
           }
          ],
          "scattergeo": [
           {
            "marker": {
             "colorbar": {
              "outlinewidth": 0,
              "ticks": ""
             }
            },
            "type": "scattergeo"
           }
          ],
          "scattergl": [
           {
            "marker": {
             "colorbar": {
              "outlinewidth": 0,
              "ticks": ""
             }
            },
            "type": "scattergl"
           }
          ],
          "scattermap": [
           {
            "marker": {
             "colorbar": {
              "outlinewidth": 0,
              "ticks": ""
             }
            },
            "type": "scattermap"
           }
          ],
          "scattermapbox": [
           {
            "marker": {
             "colorbar": {
              "outlinewidth": 0,
              "ticks": ""
             }
            },
            "type": "scattermapbox"
           }
          ],
          "scatterpolar": [
           {
            "marker": {
             "colorbar": {
              "outlinewidth": 0,
              "ticks": ""
             }
            },
            "type": "scatterpolar"
           }
          ],
          "scatterpolargl": [
           {
            "marker": {
             "colorbar": {
              "outlinewidth": 0,
              "ticks": ""
             }
            },
            "type": "scatterpolargl"
           }
          ],
          "scatterternary": [
           {
            "marker": {
             "colorbar": {
              "outlinewidth": 0,
              "ticks": ""
             }
            },
            "type": "scatterternary"
           }
          ],
          "surface": [
           {
            "colorbar": {
             "outlinewidth": 0,
             "ticks": ""
            },
            "colorscale": [
             [
              0,
              "#0d0887"
             ],
             [
              0.1111111111111111,
              "#46039f"
             ],
             [
              0.2222222222222222,
              "#7201a8"
             ],
             [
              0.3333333333333333,
              "#9c179e"
             ],
             [
              0.4444444444444444,
              "#bd3786"
             ],
             [
              0.5555555555555556,
              "#d8576b"
             ],
             [
              0.6666666666666666,
              "#ed7953"
             ],
             [
              0.7777777777777778,
              "#fb9f3a"
             ],
             [
              0.8888888888888888,
              "#fdca26"
             ],
             [
              1,
              "#f0f921"
             ]
            ],
            "type": "surface"
           }
          ],
          "table": [
           {
            "cells": {
             "fill": {
              "color": "#EBF0F8"
             },
             "line": {
              "color": "white"
             }
            },
            "header": {
             "fill": {
              "color": "#C8D4E3"
             },
             "line": {
              "color": "white"
             }
            },
            "type": "table"
           }
          ]
         },
         "layout": {
          "annotationdefaults": {
           "arrowcolor": "#2a3f5f",
           "arrowhead": 0,
           "arrowwidth": 1
          },
          "autotypenumbers": "strict",
          "coloraxis": {
           "colorbar": {
            "outlinewidth": 0,
            "ticks": ""
           }
          },
          "colorscale": {
           "diverging": [
            [
             0,
             "#8e0152"
            ],
            [
             0.1,
             "#c51b7d"
            ],
            [
             0.2,
             "#de77ae"
            ],
            [
             0.3,
             "#f1b6da"
            ],
            [
             0.4,
             "#fde0ef"
            ],
            [
             0.5,
             "#f7f7f7"
            ],
            [
             0.6,
             "#e6f5d0"
            ],
            [
             0.7,
             "#b8e186"
            ],
            [
             0.8,
             "#7fbc41"
            ],
            [
             0.9,
             "#4d9221"
            ],
            [
             1,
             "#276419"
            ]
           ],
           "sequential": [
            [
             0,
             "#0d0887"
            ],
            [
             0.1111111111111111,
             "#46039f"
            ],
            [
             0.2222222222222222,
             "#7201a8"
            ],
            [
             0.3333333333333333,
             "#9c179e"
            ],
            [
             0.4444444444444444,
             "#bd3786"
            ],
            [
             0.5555555555555556,
             "#d8576b"
            ],
            [
             0.6666666666666666,
             "#ed7953"
            ],
            [
             0.7777777777777778,
             "#fb9f3a"
            ],
            [
             0.8888888888888888,
             "#fdca26"
            ],
            [
             1,
             "#f0f921"
            ]
           ],
           "sequentialminus": [
            [
             0,
             "#0d0887"
            ],
            [
             0.1111111111111111,
             "#46039f"
            ],
            [
             0.2222222222222222,
             "#7201a8"
            ],
            [
             0.3333333333333333,
             "#9c179e"
            ],
            [
             0.4444444444444444,
             "#bd3786"
            ],
            [
             0.5555555555555556,
             "#d8576b"
            ],
            [
             0.6666666666666666,
             "#ed7953"
            ],
            [
             0.7777777777777778,
             "#fb9f3a"
            ],
            [
             0.8888888888888888,
             "#fdca26"
            ],
            [
             1,
             "#f0f921"
            ]
           ]
          },
          "colorway": [
           "#636efa",
           "#EF553B",
           "#00cc96",
           "#ab63fa",
           "#FFA15A",
           "#19d3f3",
           "#FF6692",
           "#B6E880",
           "#FF97FF",
           "#FECB52"
          ],
          "font": {
           "color": "#2a3f5f"
          },
          "geo": {
           "bgcolor": "white",
           "lakecolor": "white",
           "landcolor": "#E5ECF6",
           "showlakes": true,
           "showland": true,
           "subunitcolor": "white"
          },
          "hoverlabel": {
           "align": "left"
          },
          "hovermode": "closest",
          "mapbox": {
           "style": "light"
          },
          "paper_bgcolor": "white",
          "plot_bgcolor": "#E5ECF6",
          "polar": {
           "angularaxis": {
            "gridcolor": "white",
            "linecolor": "white",
            "ticks": ""
           },
           "bgcolor": "#E5ECF6",
           "radialaxis": {
            "gridcolor": "white",
            "linecolor": "white",
            "ticks": ""
           }
          },
          "scene": {
           "xaxis": {
            "backgroundcolor": "#E5ECF6",
            "gridcolor": "white",
            "gridwidth": 2,
            "linecolor": "white",
            "showbackground": true,
            "ticks": "",
            "zerolinecolor": "white"
           },
           "yaxis": {
            "backgroundcolor": "#E5ECF6",
            "gridcolor": "white",
            "gridwidth": 2,
            "linecolor": "white",
            "showbackground": true,
            "ticks": "",
            "zerolinecolor": "white"
           },
           "zaxis": {
            "backgroundcolor": "#E5ECF6",
            "gridcolor": "white",
            "gridwidth": 2,
            "linecolor": "white",
            "showbackground": true,
            "ticks": "",
            "zerolinecolor": "white"
           }
          },
          "shapedefaults": {
           "line": {
            "color": "#2a3f5f"
           }
          },
          "ternary": {
           "aaxis": {
            "gridcolor": "white",
            "linecolor": "white",
            "ticks": ""
           },
           "baxis": {
            "gridcolor": "white",
            "linecolor": "white",
            "ticks": ""
           },
           "bgcolor": "#E5ECF6",
           "caxis": {
            "gridcolor": "white",
            "linecolor": "white",
            "ticks": ""
           }
          },
          "title": {
           "x": 0.05
          },
          "xaxis": {
           "automargin": true,
           "gridcolor": "white",
           "linecolor": "white",
           "ticks": "",
           "title": {
            "standoff": 15
           },
           "zerolinecolor": "white",
           "zerolinewidth": 2
          },
          "yaxis": {
           "automargin": true,
           "gridcolor": "white",
           "linecolor": "white",
           "ticks": "",
           "title": {
            "standoff": 15
           },
           "zerolinecolor": "white",
           "zerolinewidth": 2
          }
         }
        },
        "title": {
         "text": "Age vs. Charges"
        },
        "xaxis": {
         "anchor": "y",
         "domain": [
          0,
          1
         ],
         "title": {
          "text": "age"
         }
        },
        "yaxis": {
         "anchor": "x",
         "domain": [
          0,
          1
         ],
         "title": {
          "text": "charges"
         }
        }
       }
      }
     },
     "metadata": {},
     "output_type": "display_data"
    }
   ],
   "source": [
    "fig = px.scatter(medical_df,\n",
    "                 x='age',\n",
    "                 y='charges',\n",
    "                 color='smoker',\n",
    "                 opacity=0.8,\n",
    "                 hover_data=['sex'],\n",
    "                 title='Age vs. Charges')\n",
    "fig.update_traces(marker_size=5)\n",
    "fig.show()"
   ]
  },
  {
   "cell_type": "code",
   "execution_count": 16,
   "metadata": {},
   "outputs": [
    {
     "data": {
      "application/vnd.plotly.v1+json": {
       "config": {
        "plotlyServerURL": "https://plot.ly"
       },
       "data": [
        {
         "customdata": [
          [
           "female"
          ],
          [
           "female"
          ],
          [
           "male"
          ],
          [
           "male"
          ],
          [
           "female"
          ],
          [
           "male"
          ],
          [
           "male"
          ],
          [
           "male"
          ],
          [
           "male"
          ],
          [
           "male"
          ],
          [
           "male"
          ],
          [
           "male"
          ],
          [
           "male"
          ],
          [
           "male"
          ],
          [
           "male"
          ],
          [
           "female"
          ],
          [
           "female"
          ],
          [
           "male"
          ],
          [
           "female"
          ],
          [
           "male"
          ],
          [
           "female"
          ],
          [
           "male"
          ],
          [
           "female"
          ],
          [
           "male"
          ],
          [
           "female"
          ],
          [
           "male"
          ],
          [
           "male"
          ],
          [
           "female"
          ],
          [
           "male"
          ],
          [
           "male"
          ],
          [
           "female"
          ],
          [
           "male"
          ],
          [
           "female"
          ],
          [
           "female"
          ],
          [
           "male"
          ],
          [
           "male"
          ],
          [
           "male"
          ],
          [
           "female"
          ],
          [
           "male"
          ],
          [
           "male"
          ],
          [
           "male"
          ],
          [
           "female"
          ],
          [
           "female"
          ],
          [
           "female"
          ],
          [
           "male"
          ],
          [
           "female"
          ],
          [
           "male"
          ],
          [
           "male"
          ],
          [
           "male"
          ],
          [
           "female"
          ],
          [
           "male"
          ],
          [
           "female"
          ],
          [
           "female"
          ],
          [
           "male"
          ],
          [
           "female"
          ],
          [
           "male"
          ],
          [
           "male"
          ],
          [
           "male"
          ],
          [
           "male"
          ],
          [
           "female"
          ],
          [
           "male"
          ],
          [
           "male"
          ],
          [
           "male"
          ],
          [
           "male"
          ],
          [
           "male"
          ],
          [
           "female"
          ],
          [
           "male"
          ],
          [
           "female"
          ],
          [
           "male"
          ],
          [
           "male"
          ],
          [
           "male"
          ],
          [
           "male"
          ],
          [
           "female"
          ],
          [
           "male"
          ],
          [
           "female"
          ],
          [
           "male"
          ],
          [
           "male"
          ],
          [
           "female"
          ],
          [
           "female"
          ],
          [
           "male"
          ],
          [
           "male"
          ],
          [
           "female"
          ],
          [
           "male"
          ],
          [
           "female"
          ],
          [
           "female"
          ],
          [
           "male"
          ],
          [
           "female"
          ],
          [
           "male"
          ],
          [
           "female"
          ],
          [
           "female"
          ],
          [
           "female"
          ],
          [
           "female"
          ],
          [
           "male"
          ],
          [
           "male"
          ],
          [
           "male"
          ],
          [
           "female"
          ],
          [
           "male"
          ],
          [
           "male"
          ],
          [
           "female"
          ],
          [
           "male"
          ],
          [
           "male"
          ],
          [
           "male"
          ],
          [
           "female"
          ],
          [
           "male"
          ],
          [
           "male"
          ],
          [
           "male"
          ],
          [
           "male"
          ],
          [
           "male"
          ],
          [
           "male"
          ],
          [
           "male"
          ],
          [
           "female"
          ],
          [
           "male"
          ],
          [
           "female"
          ],
          [
           "female"
          ],
          [
           "male"
          ],
          [
           "female"
          ],
          [
           "female"
          ],
          [
           "female"
          ],
          [
           "female"
          ],
          [
           "female"
          ],
          [
           "male"
          ],
          [
           "female"
          ],
          [
           "male"
          ],
          [
           "female"
          ],
          [
           "male"
          ],
          [
           "male"
          ],
          [
           "female"
          ],
          [
           "male"
          ],
          [
           "male"
          ],
          [
           "female"
          ],
          [
           "female"
          ],
          [
           "male"
          ],
          [
           "female"
          ],
          [
           "male"
          ],
          [
           "female"
          ],
          [
           "male"
          ],
          [
           "male"
          ],
          [
           "male"
          ],
          [
           "male"
          ],
          [
           "female"
          ],
          [
           "female"
          ],
          [
           "female"
          ],
          [
           "male"
          ],
          [
           "female"
          ],
          [
           "male"
          ],
          [
           "male"
          ],
          [
           "male"
          ],
          [
           "male"
          ],
          [
           "female"
          ],
          [
           "female"
          ],
          [
           "male"
          ],
          [
           "male"
          ],
          [
           "female"
          ],
          [
           "male"
          ],
          [
           "female"
          ],
          [
           "male"
          ],
          [
           "male"
          ],
          [
           "male"
          ],
          [
           "female"
          ],
          [
           "female"
          ],
          [
           "female"
          ],
          [
           "male"
          ],
          [
           "male"
          ],
          [
           "male"
          ],
          [
           "female"
          ],
          [
           "female"
          ],
          [
           "female"
          ],
          [
           "female"
          ],
          [
           "female"
          ],
          [
           "female"
          ],
          [
           "female"
          ],
          [
           "male"
          ],
          [
           "female"
          ],
          [
           "female"
          ],
          [
           "male"
          ],
          [
           "male"
          ],
          [
           "female"
          ],
          [
           "male"
          ],
          [
           "female"
          ],
          [
           "male"
          ],
          [
           "female"
          ],
          [
           "male"
          ],
          [
           "female"
          ],
          [
           "male"
          ],
          [
           "male"
          ],
          [
           "male"
          ],
          [
           "male"
          ],
          [
           "male"
          ],
          [
           "male"
          ],
          [
           "male"
          ],
          [
           "male"
          ],
          [
           "male"
          ],
          [
           "male"
          ],
          [
           "male"
          ],
          [
           "female"
          ],
          [
           "female"
          ],
          [
           "male"
          ],
          [
           "male"
          ],
          [
           "male"
          ],
          [
           "male"
          ],
          [
           "female"
          ],
          [
           "male"
          ],
          [
           "male"
          ],
          [
           "female"
          ],
          [
           "female"
          ],
          [
           "male"
          ],
          [
           "male"
          ],
          [
           "female"
          ],
          [
           "female"
          ],
          [
           "male"
          ],
          [
           "female"
          ],
          [
           "male"
          ],
          [
           "male"
          ],
          [
           "male"
          ],
          [
           "male"
          ],
          [
           "male"
          ],
          [
           "male"
          ],
          [
           "female"
          ],
          [
           "male"
          ],
          [
           "female"
          ],
          [
           "female"
          ],
          [
           "female"
          ],
          [
           "male"
          ],
          [
           "female"
          ],
          [
           "male"
          ],
          [
           "male"
          ],
          [
           "female"
          ],
          [
           "female"
          ],
          [
           "female"
          ],
          [
           "female"
          ],
          [
           "male"
          ],
          [
           "female"
          ],
          [
           "male"
          ],
          [
           "male"
          ],
          [
           "female"
          ],
          [
           "female"
          ],
          [
           "male"
          ],
          [
           "female"
          ],
          [
           "male"
          ],
          [
           "female"
          ],
          [
           "female"
          ],
          [
           "female"
          ],
          [
           "male"
          ],
          [
           "female"
          ],
          [
           "female"
          ],
          [
           "female"
          ],
          [
           "male"
          ],
          [
           "female"
          ],
          [
           "male"
          ],
          [
           "male"
          ],
          [
           "male"
          ],
          [
           "male"
          ],
          [
           "male"
          ],
          [
           "male"
          ],
          [
           "male"
          ],
          [
           "male"
          ],
          [
           "male"
          ],
          [
           "female"
          ],
          [
           "female"
          ],
          [
           "male"
          ],
          [
           "male"
          ],
          [
           "male"
          ],
          [
           "male"
          ],
          [
           "male"
          ],
          [
           "male"
          ],
          [
           "male"
          ],
          [
           "female"
          ],
          [
           "male"
          ],
          [
           "female"
          ],
          [
           "female"
          ],
          [
           "female"
          ],
          [
           "male"
          ],
          [
           "female"
          ],
          [
           "female"
          ]
         ],
         "hovertemplate": "smoker=yes<br>bmi=%{x}<br>charges=%{y}<br>sex=%{customdata[0]}<extra></extra>",
         "legendgroup": "yes",
         "marker": {
          "color": "#636efa",
          "opacity": 0.8,
          "size": 5,
          "symbol": "circle"
         },
         "mode": "markers",
         "name": "yes",
         "showlegend": true,
         "type": "scattergl",
         "x": {
          "bdata": "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",
          "dtype": "f8"
         },
         "xaxis": "x",
         "y": {
          "bdata": "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",
          "dtype": "f8"
         },
         "yaxis": "y"
        },
        {
         "customdata": [
          [
           "male"
          ],
          [
           "male"
          ],
          [
           "male"
          ],
          [
           "male"
          ],
          [
           "female"
          ],
          [
           "female"
          ],
          [
           "female"
          ],
          [
           "male"
          ],
          [
           "female"
          ],
          [
           "male"
          ],
          [
           "male"
          ],
          [
           "female"
          ],
          [
           "male"
          ],
          [
           "female"
          ],
          [
           "male"
          ],
          [
           "male"
          ],
          [
           "female"
          ],
          [
           "female"
          ],
          [
           "male"
          ],
          [
           "male"
          ],
          [
           "female"
          ],
          [
           "female"
          ],
          [
           "female"
          ],
          [
           "male"
          ],
          [
           "female"
          ],
          [
           "female"
          ],
          [
           "male"
          ],
          [
           "male"
          ],
          [
           "female"
          ],
          [
           "male"
          ],
          [
           "female"
          ],
          [
           "female"
          ],
          [
           "male"
          ],
          [
           "female"
          ],
          [
           "male"
          ],
          [
           "male"
          ],
          [
           "female"
          ],
          [
           "female"
          ],
          [
           "female"
          ],
          [
           "female"
          ],
          [
           "female"
          ],
          [
           "female"
          ],
          [
           "female"
          ],
          [
           "female"
          ],
          [
           "male"
          ],
          [
           "male"
          ],
          [
           "male"
          ],
          [
           "female"
          ],
          [
           "female"
          ],
          [
           "female"
          ],
          [
           "male"
          ],
          [
           "female"
          ],
          [
           "male"
          ],
          [
           "female"
          ],
          [
           "male"
          ],
          [
           "male"
          ],
          [
           "male"
          ],
          [
           "female"
          ],
          [
           "male"
          ],
          [
           "female"
          ],
          [
           "female"
          ],
          [
           "male"
          ],
          [
           "female"
          ],
          [
           "female"
          ],
          [
           "female"
          ],
          [
           "female"
          ],
          [
           "female"
          ],
          [
           "female"
          ],
          [
           "female"
          ],
          [
           "male"
          ],
          [
           "female"
          ],
          [
           "female"
          ],
          [
           "male"
          ],
          [
           "female"
          ],
          [
           "male"
          ],
          [
           "female"
          ],
          [
           "female"
          ],
          [
           "female"
          ],
          [
           "male"
          ],
          [
           "male"
          ],
          [
           "male"
          ],
          [
           "female"
          ],
          [
           "male"
          ],
          [
           "female"
          ],
          [
           "male"
          ],
          [
           "male"
          ],
          [
           "male"
          ],
          [
           "female"
          ],
          [
           "female"
          ],
          [
           "male"
          ],
          [
           "male"
          ],
          [
           "female"
          ],
          [
           "female"
          ],
          [
           "female"
          ],
          [
           "female"
          ],
          [
           "male"
          ],
          [
           "female"
          ],
          [
           "female"
          ],
          [
           "female"
          ],
          [
           "male"
          ],
          [
           "female"
          ],
          [
           "female"
          ],
          [
           "male"
          ],
          [
           "male"
          ],
          [
           "female"
          ],
          [
           "female"
          ],
          [
           "male"
          ],
          [
           "male"
          ],
          [
           "male"
          ],
          [
           "female"
          ],
          [
           "female"
          ],
          [
           "female"
          ],
          [
           "male"
          ],
          [
           "male"
          ],
          [
           "male"
          ],
          [
           "female"
          ],
          [
           "female"
          ],
          [
           "male"
          ],
          [
           "female"
          ],
          [
           "male"
          ],
          [
           "female"
          ],
          [
           "male"
          ],
          [
           "male"
          ],
          [
           "female"
          ],
          [
           "female"
          ],
          [
           "female"
          ],
          [
           "male"
          ],
          [
           "male"
          ],
          [
           "male"
          ],
          [
           "male"
          ],
          [
           "female"
          ],
          [
           "female"
          ],
          [
           "male"
          ],
          [
           "male"
          ],
          [
           "female"
          ],
          [
           "female"
          ],
          [
           "male"
          ],
          [
           "female"
          ],
          [
           "male"
          ],
          [
           "female"
          ],
          [
           "male"
          ],
          [
           "female"
          ],
          [
           "female"
          ],
          [
           "female"
          ],
          [
           "female"
          ],
          [
           "male"
          ],
          [
           "female"
          ],
          [
           "male"
          ],
          [
           "female"
          ],
          [
           "male"
          ],
          [
           "male"
          ],
          [
           "female"
          ],
          [
           "female"
          ],
          [
           "female"
          ],
          [
           "female"
          ],
          [
           "female"
          ],
          [
           "female"
          ],
          [
           "female"
          ],
          [
           "male"
          ],
          [
           "female"
          ],
          [
           "male"
          ],
          [
           "female"
          ],
          [
           "male"
          ],
          [
           "male"
          ],
          [
           "male"
          ],
          [
           "male"
          ],
          [
           "female"
          ],
          [
           "female"
          ],
          [
           "female"
          ],
          [
           "female"
          ],
          [
           "male"
          ],
          [
           "female"
          ],
          [
           "female"
          ],
          [
           "female"
          ],
          [
           "female"
          ],
          [
           "male"
          ],
          [
           "male"
          ],
          [
           "male"
          ],
          [
           "female"
          ],
          [
           "female"
          ],
          [
           "male"
          ],
          [
           "female"
          ],
          [
           "female"
          ],
          [
           "female"
          ],
          [
           "male"
          ],
          [
           "male"
          ],
          [
           "female"
          ],
          [
           "male"
          ],
          [
           "male"
          ],
          [
           "female"
          ],
          [
           "female"
          ],
          [
           "male"
          ],
          [
           "male"
          ],
          [
           "female"
          ],
          [
           "male"
          ],
          [
           "male"
          ],
          [
           "male"
          ],
          [
           "male"
          ],
          [
           "female"
          ],
          [
           "female"
          ],
          [
           "male"
          ],
          [
           "female"
          ],
          [
           "female"
          ],
          [
           "female"
          ],
          [
           "male"
          ],
          [
           "male"
          ],
          [
           "male"
          ],
          [
           "male"
          ],
          [
           "male"
          ],
          [
           "male"
          ],
          [
           "female"
          ],
          [
           "male"
          ],
          [
           "female"
          ],
          [
           "male"
          ],
          [
           "female"
          ],
          [
           "male"
          ],
          [
           "female"
          ],
          [
           "female"
          ],
          [
           "male"
          ],
          [
           "female"
          ],
          [
           "female"
          ],
          [
           "male"
          ],
          [
           "female"
          ],
          [
           "male"
          ],
          [
           "female"
          ],
          [
           "male"
          ],
          [
           "male"
          ],
          [
           "female"
          ],
          [
           "male"
          ],
          [
           "female"
          ],
          [
           "female"
          ],
          [
           "female"
          ],
          [
           "male"
          ],
          [
           "female"
          ],
          [
           "female"
          ],
          [
           "male"
          ],
          [
           "female"
          ],
          [
           "male"
          ],
          [
           "female"
          ],
          [
           "male"
          ],
          [
           "male"
          ],
          [
           "male"
          ],
          [
           "male"
          ],
          [
           "female"
          ],
          [
           "male"
          ],
          [
           "male"
          ],
          [
           "female"
          ],
          [
           "male"
          ],
          [
           "male"
          ],
          [
           "male"
          ],
          [
           "female"
          ],
          [
           "male"
          ],
          [
           "female"
          ],
          [
           "female"
          ],
          [
           "female"
          ],
          [
           "male"
          ],
          [
           "male"
          ],
          [
           "male"
          ],
          [
           "female"
          ],
          [
           "female"
          ],
          [
           "male"
          ],
          [
           "female"
          ],
          [
           "male"
          ],
          [
           "female"
          ],
          [
           "female"
          ],
          [
           "male"
          ],
          [
           "male"
          ],
          [
           "female"
          ],
          [
           "male"
          ],
          [
           "female"
          ],
          [
           "female"
          ],
          [
           "female"
          ],
          [
           "male"
          ],
          [
           "female"
          ],
          [
           "male"
          ],
          [
           "male"
          ],
          [
           "male"
          ],
          [
           "male"
          ],
          [
           "female"
          ],
          [
           "female"
          ],
          [
           "male"
          ],
          [
           "female"
          ],
          [
           "female"
          ],
          [
           "female"
          ],
          [
           "female"
          ],
          [
           "female"
          ],
          [
           "male"
          ],
          [
           "male"
          ],
          [
           "female"
          ],
          [
           "female"
          ],
          [
           "female"
          ],
          [
           "male"
          ],
          [
           "female"
          ],
          [
           "male"
          ],
          [
           "male"
          ],
          [
           "female"
          ],
          [
           "male"
          ],
          [
           "male"
          ],
          [
           "female"
          ],
          [
           "male"
          ],
          [
           "female"
          ],
          [
           "female"
          ],
          [
           "male"
          ],
          [
           "female"
          ],
          [
           "male"
          ],
          [
           "male"
          ],
          [
           "female"
          ],
          [
           "male"
          ],
          [
           "female"
          ],
          [
           "male"
          ],
          [
           "male"
          ],
          [
           "female"
          ],
          [
           "female"
          ],
          [
           "male"
          ],
          [
           "female"
          ],
          [
           "male"
          ],
          [
           "male"
          ],
          [
           "female"
          ],
          [
           "female"
          ],
          [
           "female"
          ],
          [
           "male"
          ],
          [
           "male"
          ],
          [
           "male"
          ],
          [
           "male"
          ],
          [
           "female"
          ],
          [
           "female"
          ],
          [
           "male"
          ],
          [
           "male"
          ],
          [
           "male"
          ],
          [
           "male"
          ],
          [
           "male"
          ],
          [
           "female"
          ],
          [
           "female"
          ],
          [
           "female"
          ],
          [
           "female"
          ],
          [
           "male"
          ],
          [
           "female"
          ],
          [
           "male"
          ],
          [
           "female"
          ],
          [
           "male"
          ],
          [
           "male"
          ],
          [
           "male"
          ],
          [
           "male"
          ],
          [
           "female"
          ],
          [
           "male"
          ],
          [
           "female"
          ],
          [
           "male"
          ],
          [
           "female"
          ],
          [
           "female"
          ],
          [
           "male"
          ],
          [
           "female"
          ],
          [
           "female"
          ],
          [
           "male"
          ],
          [
           "male"
          ],
          [
           "male"
          ],
          [
           "male"
          ],
          [
           "male"
          ],
          [
           "male"
          ],
          [
           "male"
          ],
          [
           "female"
          ],
          [
           "female"
          ],
          [
           "male"
          ],
          [
           "female"
          ],
          [
           "female"
          ],
          [
           "female"
          ],
          [
           "male"
          ],
          [
           "male"
          ],
          [
           "female"
          ],
          [
           "female"
          ],
          [
           "female"
          ],
          [
           "female"
          ],
          [
           "male"
          ],
          [
           "female"
          ],
          [
           "female"
          ],
          [
           "female"
          ],
          [
           "male"
          ],
          [
           "male"
          ],
          [
           "male"
          ],
          [
           "male"
          ],
          [
           "male"
          ],
          [
           "female"
          ],
          [
           "female"
          ],
          [
           "male"
          ],
          [
           "female"
          ],
          [
           "female"
          ],
          [
           "male"
          ],
          [
           "male"
          ],
          [
           "female"
          ],
          [
           "female"
          ],
          [
           "female"
          ],
          [
           "male"
          ],
          [
           "male"
          ],
          [
           "female"
          ],
          [
           "male"
          ],
          [
           "female"
          ],
          [
           "female"
          ],
          [
           "male"
          ],
          [
           "female"
          ],
          [
           "male"
          ],
          [
           "male"
          ],
          [
           "male"
          ],
          [
           "female"
          ],
          [
           "female"
          ],
          [
           "male"
          ],
          [
           "male"
          ],
          [
           "male"
          ],
          [
           "male"
          ],
          [
           "male"
          ],
          [
           "male"
          ],
          [
           "male"
          ],
          [
           "female"
          ],
          [
           "male"
          ],
          [
           "female"
          ],
          [
           "female"
          ],
          [
           "female"
          ],
          [
           "female"
          ],
          [
           "female"
          ],
          [
           "female"
          ],
          [
           "female"
          ],
          [
           "male"
          ],
          [
           "male"
          ],
          [
           "female"
          ],
          [
           "male"
          ],
          [
           "male"
          ],
          [
           "male"
          ],
          [
           "male"
          ],
          [
           "female"
          ],
          [
           "female"
          ],
          [
           "female"
          ],
          [
           "male"
          ],
          [
           "female"
          ],
          [
           "female"
          ],
          [
           "female"
          ],
          [
           "male"
          ],
          [
           "male"
          ],
          [
           "female"
          ],
          [
           "female"
          ],
          [
           "male"
          ],
          [
           "female"
          ],
          [
           "male"
          ],
          [
           "female"
          ],
          [
           "female"
          ],
          [
           "male"
          ],
          [
           "male"
          ],
          [
           "male"
          ],
          [
           "male"
          ],
          [
           "female"
          ],
          [
           "female"
          ],
          [
           "male"
          ],
          [
           "male"
          ],
          [
           "female"
          ],
          [
           "female"
          ],
          [
           "female"
          ],
          [
           "male"
          ],
          [
           "female"
          ],
          [
           "female"
          ],
          [
           "female"
          ],
          [
           "female"
          ],
          [
           "female"
          ],
          [
           "female"
          ],
          [
           "female"
          ],
          [
           "male"
          ],
          [
           "male"
          ],
          [
           "female"
          ],
          [
           "male"
          ],
          [
           "male"
          ],
          [
           "male"
          ],
          [
           "female"
          ],
          [
           "male"
          ],
          [
           "female"
          ],
          [
           "male"
          ],
          [
           "female"
          ],
          [
           "female"
          ],
          [
           "female"
          ],
          [
           "male"
          ],
          [
           "male"
          ],
          [
           "male"
          ],
          [
           "female"
          ],
          [
           "female"
          ],
          [
           "female"
          ],
          [
           "male"
          ],
          [
           "female"
          ],
          [
           "female"
          ],
          [
           "male"
          ],
          [
           "female"
          ],
          [
           "female"
          ],
          [
           "female"
          ],
          [
           "female"
          ],
          [
           "male"
          ],
          [
           "female"
          ],
          [
           "female"
          ],
          [
           "female"
          ],
          [
           "female"
          ],
          [
           "female"
          ],
          [
           "female"
          ],
          [
           "female"
          ],
          [
           "male"
          ],
          [
           "female"
          ],
          [
           "male"
          ],
          [
           "female"
          ],
          [
           "male"
          ],
          [
           "male"
          ],
          [
           "male"
          ],
          [
           "male"
          ],
          [
           "male"
          ],
          [
           "female"
          ],
          [
           "male"
          ],
          [
           "male"
          ],
          [
           "male"
          ],
          [
           "female"
          ],
          [
           "female"
          ],
          [
           "male"
          ],
          [
           "male"
          ],
          [
           "male"
          ],
          [
           "female"
          ],
          [
           "male"
          ],
          [
           "male"
          ],
          [
           "male"
          ],
          [
           "female"
          ],
          [
           "male"
          ],
          [
           "female"
          ],
          [
           "female"
          ],
          [
           "female"
          ],
          [
           "female"
          ],
          [
           "female"
          ],
          [
           "female"
          ],
          [
           "female"
          ],
          [
           "male"
          ],
          [
           "female"
          ],
          [
           "female"
          ],
          [
           "male"
          ],
          [
           "female"
          ],
          [
           "female"
          ],
          [
           "male"
          ],
          [
           "male"
          ],
          [
           "female"
          ],
          [
           "male"
          ],
          [
           "female"
          ],
          [
           "male"
          ],
          [
           "female"
          ],
          [
           "male"
          ],
          [
           "female"
          ],
          [
           "male"
          ],
          [
           "female"
          ],
          [
           "female"
          ],
          [
           "male"
          ],
          [
           "male"
          ],
          [
           "female"
          ],
          [
           "male"
          ],
          [
           "male"
          ],
          [
           "male"
          ],
          [
           "female"
          ],
          [
           "male"
          ],
          [
           "male"
          ],
          [
           "male"
          ],
          [
           "male"
          ],
          [
           "female"
          ],
          [
           "female"
          ],
          [
           "female"
          ],
          [
           "male"
          ],
          [
           "female"
          ],
          [
           "female"
          ],
          [
           "female"
          ],
          [
           "male"
          ],
          [
           "female"
          ],
          [
           "female"
          ],
          [
           "female"
          ],
          [
           "male"
          ],
          [
           "female"
          ],
          [
           "female"
          ],
          [
           "male"
          ],
          [
           "female"
          ],
          [
           "female"
          ],
          [
           "male"
          ],
          [
           "female"
          ],
          [
           "male"
          ],
          [
           "female"
          ],
          [
           "male"
          ],
          [
           "female"
          ],
          [
           "female"
          ],
          [
           "female"
          ],
          [
           "male"
          ],
          [
           "male"
          ],
          [
           "male"
          ],
          [
           "female"
          ],
          [
           "male"
          ],
          [
           "female"
          ],
          [
           "female"
          ],
          [
           "male"
          ],
          [
           "female"
          ],
          [
           "female"
          ],
          [
           "female"
          ],
          [
           "female"
          ],
          [
           "male"
          ],
          [
           "male"
          ],
          [
           "female"
          ],
          [
           "male"
          ],
          [
           "female"
          ],
          [
           "male"
          ],
          [
           "male"
          ],
          [
           "female"
          ],
          [
           "male"
          ],
          [
           "male"
          ],
          [
           "male"
          ],
          [
           "female"
          ],
          [
           "male"
          ],
          [
           "male"
          ],
          [
           "female"
          ],
          [
           "male"
          ],
          [
           "female"
          ],
          [
           "male"
          ],
          [
           "male"
          ],
          [
           "female"
          ],
          [
           "female"
          ],
          [
           "male"
          ],
          [
           "female"
          ],
          [
           "female"
          ],
          [
           "female"
          ],
          [
           "male"
          ],
          [
           "female"
          ],
          [
           "female"
          ],
          [
           "male"
          ],
          [
           "male"
          ],
          [
           "male"
          ],
          [
           "male"
          ],
          [
           "male"
          ],
          [
           "male"
          ],
          [
           "male"
          ],
          [
           "male"
          ],
          [
           "female"
          ],
          [
           "female"
          ],
          [
           "male"
          ],
          [
           "male"
          ],
          [
           "male"
          ],
          [
           "female"
          ],
          [
           "female"
          ],
          [
           "male"
          ],
          [
           "female"
          ],
          [
           "female"
          ],
          [
           "male"
          ],
          [
           "female"
          ],
          [
           "female"
          ],
          [
           "female"
          ],
          [
           "female"
          ],
          [
           "male"
          ],
          [
           "male"
          ],
          [
           "female"
          ],
          [
           "female"
          ],
          [
           "female"
          ],
          [
           "male"
          ],
          [
           "male"
          ],
          [
           "female"
          ],
          [
           "female"
          ],
          [
           "male"
          ],
          [
           "male"
          ],
          [
           "male"
          ],
          [
           "female"
          ],
          [
           "female"
          ],
          [
           "male"
          ],
          [
           "male"
          ],
          [
           "male"
          ],
          [
           "female"
          ],
          [
           "female"
          ],
          [
           "male"
          ],
          [
           "female"
          ],
          [
           "male"
          ],
          [
           "male"
          ],
          [
           "female"
          ],
          [
           "female"
          ],
          [
           "male"
          ],
          [
           "male"
          ],
          [
           "male"
          ],
          [
           "male"
          ],
          [
           "female"
          ],
          [
           "female"
          ],
          [
           "female"
          ],
          [
           "male"
          ],
          [
           "male"
          ],
          [
           "male"
          ],
          [
           "female"
          ],
          [
           "male"
          ],
          [
           "female"
          ],
          [
           "male"
          ],
          [
           "male"
          ],
          [
           "female"
          ],
          [
           "female"
          ],
          [
           "female"
          ],
          [
           "male"
          ],
          [
           "female"
          ],
          [
           "female"
          ],
          [
           "female"
          ],
          [
           "male"
          ],
          [
           "male"
          ],
          [
           "male"
          ],
          [
           "male"
          ],
          [
           "male"
          ],
          [
           "female"
          ],
          [
           "male"
          ],
          [
           "female"
          ],
          [
           "male"
          ],
          [
           "male"
          ],
          [
           "male"
          ],
          [
           "female"
          ],
          [
           "female"
          ],
          [
           "male"
          ],
          [
           "male"
          ],
          [
           "female"
          ],
          [
           "male"
          ],
          [
           "male"
          ],
          [
           "female"
          ],
          [
           "male"
          ],
          [
           "female"
          ],
          [
           "male"
          ],
          [
           "male"
          ],
          [
           "female"
          ],
          [
           "male"
          ],
          [
           "male"
          ],
          [
           "female"
          ],
          [
           "male"
          ],
          [
           "female"
          ],
          [
           "female"
          ],
          [
           "male"
          ],
          [
           "male"
          ],
          [
           "male"
          ],
          [
           "female"
          ],
          [
           "female"
          ],
          [
           "male"
          ],
          [
           "female"
          ],
          [
           "male"
          ],
          [
           "male"
          ],
          [
           "female"
          ],
          [
           "female"
          ],
          [
           "male"
          ],
          [
           "female"
          ],
          [
           "female"
          ],
          [
           "female"
          ],
          [
           "female"
          ],
          [
           "female"
          ],
          [
           "male"
          ],
          [
           "male"
          ],
          [
           "male"
          ],
          [
           "male"
          ],
          [
           "female"
          ],
          [
           "female"
          ],
          [
           "female"
          ],
          [
           "male"
          ],
          [
           "male"
          ],
          [
           "female"
          ],
          [
           "male"
          ],
          [
           "female"
          ],
          [
           "male"
          ],
          [
           "female"
          ],
          [
           "male"
          ],
          [
           "female"
          ],
          [
           "male"
          ],
          [
           "male"
          ],
          [
           "male"
          ],
          [
           "female"
          ],
          [
           "female"
          ],
          [
           "male"
          ],
          [
           "male"
          ],
          [
           "female"
          ],
          [
           "male"
          ],
          [
           "male"
          ],
          [
           "male"
          ],
          [
           "female"
          ],
          [
           "male"
          ],
          [
           "male"
          ],
          [
           "male"
          ],
          [
           "female"
          ],
          [
           "female"
          ],
          [
           "female"
          ],
          [
           "male"
          ],
          [
           "male"
          ],
          [
           "male"
          ],
          [
           "male"
          ],
          [
           "male"
          ],
          [
           "female"
          ],
          [
           "female"
          ],
          [
           "female"
          ],
          [
           "female"
          ],
          [
           "female"
          ],
          [
           "male"
          ],
          [
           "male"
          ],
          [
           "male"
          ],
          [
           "female"
          ],
          [
           "female"
          ],
          [
           "male"
          ],
          [
           "male"
          ],
          [
           "female"
          ],
          [
           "male"
          ],
          [
           "female"
          ],
          [
           "male"
          ],
          [
           "female"
          ],
          [
           "male"
          ],
          [
           "female"
          ],
          [
           "female"
          ],
          [
           "female"
          ],
          [
           "male"
          ],
          [
           "female"
          ],
          [
           "female"
          ],
          [
           "female"
          ],
          [
           "female"
          ],
          [
           "female"
          ],
          [
           "male"
          ],
          [
           "male"
          ],
          [
           "male"
          ],
          [
           "male"
          ],
          [
           "male"
          ],
          [
           "male"
          ],
          [
           "male"
          ],
          [
           "female"
          ],
          [
           "female"
          ],
          [
           "male"
          ],
          [
           "female"
          ],
          [
           "male"
          ],
          [
           "female"
          ],
          [
           "female"
          ],
          [
           "female"
          ],
          [
           "female"
          ],
          [
           "male"
          ],
          [
           "male"
          ],
          [
           "female"
          ],
          [
           "female"
          ],
          [
           "male"
          ],
          [
           "male"
          ],
          [
           "female"
          ],
          [
           "female"
          ],
          [
           "male"
          ],
          [
           "female"
          ],
          [
           "male"
          ],
          [
           "male"
          ],
          [
           "male"
          ],
          [
           "female"
          ],
          [
           "male"
          ],
          [
           "female"
          ],
          [
           "female"
          ],
          [
           "female"
          ],
          [
           "male"
          ],
          [
           "male"
          ],
          [
           "female"
          ],
          [
           "male"
          ],
          [
           "female"
          ],
          [
           "female"
          ],
          [
           "female"
          ],
          [
           "male"
          ],
          [
           "male"
          ],
          [
           "male"
          ],
          [
           "male"
          ],
          [
           "female"
          ],
          [
           "female"
          ],
          [
           "male"
          ],
          [
           "male"
          ],
          [
           "male"
          ],
          [
           "female"
          ],
          [
           "male"
          ],
          [
           "male"
          ],
          [
           "female"
          ],
          [
           "female"
          ],
          [
           "female"
          ],
          [
           "female"
          ],
          [
           "male"
          ],
          [
           "male"
          ],
          [
           "male"
          ],
          [
           "male"
          ],
          [
           "male"
          ],
          [
           "male"
          ],
          [
           "female"
          ],
          [
           "male"
          ],
          [
           "male"
          ],
          [
           "male"
          ],
          [
           "male"
          ],
          [
           "female"
          ],
          [
           "male"
          ],
          [
           "female"
          ],
          [
           "female"
          ],
          [
           "male"
          ],
          [
           "female"
          ],
          [
           "female"
          ],
          [
           "male"
          ],
          [
           "male"
          ],
          [
           "male"
          ],
          [
           "male"
          ],
          [
           "female"
          ],
          [
           "female"
          ],
          [
           "female"
          ],
          [
           "male"
          ],
          [
           "male"
          ],
          [
           "female"
          ],
          [
           "female"
          ],
          [
           "male"
          ],
          [
           "male"
          ],
          [
           "male"
          ],
          [
           "female"
          ],
          [
           "male"
          ],
          [
           "female"
          ],
          [
           "female"
          ],
          [
           "male"
          ],
          [
           "female"
          ],
          [
           "male"
          ],
          [
           "female"
          ],
          [
           "female"
          ],
          [
           "male"
          ],
          [
           "male"
          ],
          [
           "female"
          ],
          [
           "male"
          ],
          [
           "female"
          ],
          [
           "female"
          ],
          [
           "female"
          ],
          [
           "male"
          ],
          [
           "male"
          ],
          [
           "female"
          ],
          [
           "female"
          ],
          [
           "male"
          ],
          [
           "male"
          ],
          [
           "male"
          ],
          [
           "female"
          ],
          [
           "male"
          ],
          [
           "male"
          ],
          [
           "female"
          ],
          [
           "female"
          ],
          [
           "female"
          ],
          [
           "female"
          ],
          [
           "female"
          ],
          [
           "female"
          ],
          [
           "female"
          ],
          [
           "female"
          ],
          [
           "female"
          ],
          [
           "male"
          ],
          [
           "male"
          ],
          [
           "female"
          ],
          [
           "female"
          ],
          [
           "female"
          ],
          [
           "male"
          ],
          [
           "female"
          ],
          [
           "male"
          ],
          [
           "female"
          ],
          [
           "female"
          ],
          [
           "male"
          ],
          [
           "male"
          ],
          [
           "female"
          ],
          [
           "female"
          ],
          [
           "female"
          ],
          [
           "female"
          ],
          [
           "female"
          ],
          [
           "female"
          ],
          [
           "female"
          ],
          [
           "male"
          ],
          [
           "female"
          ],
          [
           "female"
          ],
          [
           "female"
          ],
          [
           "female"
          ],
          [
           "female"
          ],
          [
           "female"
          ],
          [
           "female"
          ],
          [
           "female"
          ],
          [
           "male"
          ],
          [
           "male"
          ],
          [
           "female"
          ],
          [
           "male"
          ],
          [
           "male"
          ],
          [
           "male"
          ],
          [
           "male"
          ],
          [
           "male"
          ],
          [
           "female"
          ],
          [
           "male"
          ],
          [
           "male"
          ],
          [
           "male"
          ],
          [
           "male"
          ],
          [
           "female"
          ],
          [
           "female"
          ],
          [
           "male"
          ],
          [
           "male"
          ],
          [
           "male"
          ],
          [
           "female"
          ],
          [
           "female"
          ],
          [
           "male"
          ],
          [
           "male"
          ],
          [
           "male"
          ],
          [
           "female"
          ],
          [
           "male"
          ],
          [
           "male"
          ],
          [
           "male"
          ],
          [
           "male"
          ],
          [
           "female"
          ],
          [
           "male"
          ],
          [
           "female"
          ],
          [
           "male"
          ],
          [
           "female"
          ],
          [
           "female"
          ],
          [
           "male"
          ],
          [
           "female"
          ],
          [
           "female"
          ],
          [
           "female"
          ],
          [
           "male"
          ],
          [
           "male"
          ],
          [
           "female"
          ],
          [
           "male"
          ],
          [
           "female"
          ],
          [
           "male"
          ],
          [
           "female"
          ],
          [
           "female"
          ],
          [
           "female"
          ],
          [
           "female"
          ],
          [
           "female"
          ],
          [
           "male"
          ],
          [
           "female"
          ],
          [
           "female"
          ],
          [
           "male"
          ],
          [
           "female"
          ],
          [
           "female"
          ],
          [
           "female"
          ],
          [
           "female"
          ],
          [
           "female"
          ],
          [
           "male"
          ],
          [
           "male"
          ],
          [
           "female"
          ],
          [
           "male"
          ],
          [
           "male"
          ],
          [
           "male"
          ],
          [
           "female"
          ],
          [
           "female"
          ],
          [
           "female"
          ],
          [
           "female"
          ],
          [
           "male"
          ],
          [
           "female"
          ],
          [
           "female"
          ],
          [
           "female"
          ],
          [
           "male"
          ],
          [
           "female"
          ],
          [
           "male"
          ],
          [
           "male"
          ],
          [
           "male"
          ],
          [
           "male"
          ],
          [
           "male"
          ],
          [
           "female"
          ],
          [
           "male"
          ],
          [
           "female"
          ],
          [
           "female"
          ],
          [
           "female"
          ],
          [
           "male"
          ],
          [
           "male"
          ],
          [
           "female"
          ],
          [
           "male"
          ],
          [
           "male"
          ],
          [
           "female"
          ],
          [
           "male"
          ],
          [
           "male"
          ],
          [
           "female"
          ],
          [
           "male"
          ],
          [
           "male"
          ],
          [
           "male"
          ],
          [
           "male"
          ],
          [
           "female"
          ],
          [
           "male"
          ],
          [
           "female"
          ],
          [
           "male"
          ],
          [
           "female"
          ],
          [
           "female"
          ],
          [
           "female"
          ],
          [
           "male"
          ],
          [
           "female"
          ],
          [
           "female"
          ],
          [
           "female"
          ]
         ],
         "hovertemplate": "smoker=no<br>bmi=%{x}<br>charges=%{y}<br>sex=%{customdata[0]}<extra></extra>",
         "legendgroup": "no",
         "marker": {
          "color": "#EF553B",
          "opacity": 0.8,
          "size": 5,
          "symbol": "circle"
         },
         "mode": "markers",
         "name": "no",
         "showlegend": true,
         "type": "scattergl",
         "x": {
          "bdata": "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",
          "dtype": "f8"
         },
         "xaxis": "x",
         "y": {
          "bdata": "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",
          "dtype": "f8"
         },
         "yaxis": "y"
        }
       ],
       "layout": {
        "legend": {
         "title": {
          "text": "smoker"
         },
         "tracegroupgap": 0
        },
        "template": {
         "data": {
          "bar": [
           {
            "error_x": {
             "color": "#2a3f5f"
            },
            "error_y": {
             "color": "#2a3f5f"
            },
            "marker": {
             "line": {
              "color": "#E5ECF6",
              "width": 0.5
             },
             "pattern": {
              "fillmode": "overlay",
              "size": 10,
              "solidity": 0.2
             }
            },
            "type": "bar"
           }
          ],
          "barpolar": [
           {
            "marker": {
             "line": {
              "color": "#E5ECF6",
              "width": 0.5
             },
             "pattern": {
              "fillmode": "overlay",
              "size": 10,
              "solidity": 0.2
             }
            },
            "type": "barpolar"
           }
          ],
          "carpet": [
           {
            "aaxis": {
             "endlinecolor": "#2a3f5f",
             "gridcolor": "white",
             "linecolor": "white",
             "minorgridcolor": "white",
             "startlinecolor": "#2a3f5f"
            },
            "baxis": {
             "endlinecolor": "#2a3f5f",
             "gridcolor": "white",
             "linecolor": "white",
             "minorgridcolor": "white",
             "startlinecolor": "#2a3f5f"
            },
            "type": "carpet"
           }
          ],
          "choropleth": [
           {
            "colorbar": {
             "outlinewidth": 0,
             "ticks": ""
            },
            "type": "choropleth"
           }
          ],
          "contour": [
           {
            "colorbar": {
             "outlinewidth": 0,
             "ticks": ""
            },
            "colorscale": [
             [
              0,
              "#0d0887"
             ],
             [
              0.1111111111111111,
              "#46039f"
             ],
             [
              0.2222222222222222,
              "#7201a8"
             ],
             [
              0.3333333333333333,
              "#9c179e"
             ],
             [
              0.4444444444444444,
              "#bd3786"
             ],
             [
              0.5555555555555556,
              "#d8576b"
             ],
             [
              0.6666666666666666,
              "#ed7953"
             ],
             [
              0.7777777777777778,
              "#fb9f3a"
             ],
             [
              0.8888888888888888,
              "#fdca26"
             ],
             [
              1,
              "#f0f921"
             ]
            ],
            "type": "contour"
           }
          ],
          "contourcarpet": [
           {
            "colorbar": {
             "outlinewidth": 0,
             "ticks": ""
            },
            "type": "contourcarpet"
           }
          ],
          "heatmap": [
           {
            "colorbar": {
             "outlinewidth": 0,
             "ticks": ""
            },
            "colorscale": [
             [
              0,
              "#0d0887"
             ],
             [
              0.1111111111111111,
              "#46039f"
             ],
             [
              0.2222222222222222,
              "#7201a8"
             ],
             [
              0.3333333333333333,
              "#9c179e"
             ],
             [
              0.4444444444444444,
              "#bd3786"
             ],
             [
              0.5555555555555556,
              "#d8576b"
             ],
             [
              0.6666666666666666,
              "#ed7953"
             ],
             [
              0.7777777777777778,
              "#fb9f3a"
             ],
             [
              0.8888888888888888,
              "#fdca26"
             ],
             [
              1,
              "#f0f921"
             ]
            ],
            "type": "heatmap"
           }
          ],
          "histogram": [
           {
            "marker": {
             "pattern": {
              "fillmode": "overlay",
              "size": 10,
              "solidity": 0.2
             }
            },
            "type": "histogram"
           }
          ],
          "histogram2d": [
           {
            "colorbar": {
             "outlinewidth": 0,
             "ticks": ""
            },
            "colorscale": [
             [
              0,
              "#0d0887"
             ],
             [
              0.1111111111111111,
              "#46039f"
             ],
             [
              0.2222222222222222,
              "#7201a8"
             ],
             [
              0.3333333333333333,
              "#9c179e"
             ],
             [
              0.4444444444444444,
              "#bd3786"
             ],
             [
              0.5555555555555556,
              "#d8576b"
             ],
             [
              0.6666666666666666,
              "#ed7953"
             ],
             [
              0.7777777777777778,
              "#fb9f3a"
             ],
             [
              0.8888888888888888,
              "#fdca26"
             ],
             [
              1,
              "#f0f921"
             ]
            ],
            "type": "histogram2d"
           }
          ],
          "histogram2dcontour": [
           {
            "colorbar": {
             "outlinewidth": 0,
             "ticks": ""
            },
            "colorscale": [
             [
              0,
              "#0d0887"
             ],
             [
              0.1111111111111111,
              "#46039f"
             ],
             [
              0.2222222222222222,
              "#7201a8"
             ],
             [
              0.3333333333333333,
              "#9c179e"
             ],
             [
              0.4444444444444444,
              "#bd3786"
             ],
             [
              0.5555555555555556,
              "#d8576b"
             ],
             [
              0.6666666666666666,
              "#ed7953"
             ],
             [
              0.7777777777777778,
              "#fb9f3a"
             ],
             [
              0.8888888888888888,
              "#fdca26"
             ],
             [
              1,
              "#f0f921"
             ]
            ],
            "type": "histogram2dcontour"
           }
          ],
          "mesh3d": [
           {
            "colorbar": {
             "outlinewidth": 0,
             "ticks": ""
            },
            "type": "mesh3d"
           }
          ],
          "parcoords": [
           {
            "line": {
             "colorbar": {
              "outlinewidth": 0,
              "ticks": ""
             }
            },
            "type": "parcoords"
           }
          ],
          "pie": [
           {
            "automargin": true,
            "type": "pie"
           }
          ],
          "scatter": [
           {
            "fillpattern": {
             "fillmode": "overlay",
             "size": 10,
             "solidity": 0.2
            },
            "type": "scatter"
           }
          ],
          "scatter3d": [
           {
            "line": {
             "colorbar": {
              "outlinewidth": 0,
              "ticks": ""
             }
            },
            "marker": {
             "colorbar": {
              "outlinewidth": 0,
              "ticks": ""
             }
            },
            "type": "scatter3d"
           }
          ],
          "scattercarpet": [
           {
            "marker": {
             "colorbar": {
              "outlinewidth": 0,
              "ticks": ""
             }
            },
            "type": "scattercarpet"
           }
          ],
          "scattergeo": [
           {
            "marker": {
             "colorbar": {
              "outlinewidth": 0,
              "ticks": ""
             }
            },
            "type": "scattergeo"
           }
          ],
          "scattergl": [
           {
            "marker": {
             "colorbar": {
              "outlinewidth": 0,
              "ticks": ""
             }
            },
            "type": "scattergl"
           }
          ],
          "scattermap": [
           {
            "marker": {
             "colorbar": {
              "outlinewidth": 0,
              "ticks": ""
             }
            },
            "type": "scattermap"
           }
          ],
          "scattermapbox": [
           {
            "marker": {
             "colorbar": {
              "outlinewidth": 0,
              "ticks": ""
             }
            },
            "type": "scattermapbox"
           }
          ],
          "scatterpolar": [
           {
            "marker": {
             "colorbar": {
              "outlinewidth": 0,
              "ticks": ""
             }
            },
            "type": "scatterpolar"
           }
          ],
          "scatterpolargl": [
           {
            "marker": {
             "colorbar": {
              "outlinewidth": 0,
              "ticks": ""
             }
            },
            "type": "scatterpolargl"
           }
          ],
          "scatterternary": [
           {
            "marker": {
             "colorbar": {
              "outlinewidth": 0,
              "ticks": ""
             }
            },
            "type": "scatterternary"
           }
          ],
          "surface": [
           {
            "colorbar": {
             "outlinewidth": 0,
             "ticks": ""
            },
            "colorscale": [
             [
              0,
              "#0d0887"
             ],
             [
              0.1111111111111111,
              "#46039f"
             ],
             [
              0.2222222222222222,
              "#7201a8"
             ],
             [
              0.3333333333333333,
              "#9c179e"
             ],
             [
              0.4444444444444444,
              "#bd3786"
             ],
             [
              0.5555555555555556,
              "#d8576b"
             ],
             [
              0.6666666666666666,
              "#ed7953"
             ],
             [
              0.7777777777777778,
              "#fb9f3a"
             ],
             [
              0.8888888888888888,
              "#fdca26"
             ],
             [
              1,
              "#f0f921"
             ]
            ],
            "type": "surface"
           }
          ],
          "table": [
           {
            "cells": {
             "fill": {
              "color": "#EBF0F8"
             },
             "line": {
              "color": "white"
             }
            },
            "header": {
             "fill": {
              "color": "#C8D4E3"
             },
             "line": {
              "color": "white"
             }
            },
            "type": "table"
           }
          ]
         },
         "layout": {
          "annotationdefaults": {
           "arrowcolor": "#2a3f5f",
           "arrowhead": 0,
           "arrowwidth": 1
          },
          "autotypenumbers": "strict",
          "coloraxis": {
           "colorbar": {
            "outlinewidth": 0,
            "ticks": ""
           }
          },
          "colorscale": {
           "diverging": [
            [
             0,
             "#8e0152"
            ],
            [
             0.1,
             "#c51b7d"
            ],
            [
             0.2,
             "#de77ae"
            ],
            [
             0.3,
             "#f1b6da"
            ],
            [
             0.4,
             "#fde0ef"
            ],
            [
             0.5,
             "#f7f7f7"
            ],
            [
             0.6,
             "#e6f5d0"
            ],
            [
             0.7,
             "#b8e186"
            ],
            [
             0.8,
             "#7fbc41"
            ],
            [
             0.9,
             "#4d9221"
            ],
            [
             1,
             "#276419"
            ]
           ],
           "sequential": [
            [
             0,
             "#0d0887"
            ],
            [
             0.1111111111111111,
             "#46039f"
            ],
            [
             0.2222222222222222,
             "#7201a8"
            ],
            [
             0.3333333333333333,
             "#9c179e"
            ],
            [
             0.4444444444444444,
             "#bd3786"
            ],
            [
             0.5555555555555556,
             "#d8576b"
            ],
            [
             0.6666666666666666,
             "#ed7953"
            ],
            [
             0.7777777777777778,
             "#fb9f3a"
            ],
            [
             0.8888888888888888,
             "#fdca26"
            ],
            [
             1,
             "#f0f921"
            ]
           ],
           "sequentialminus": [
            [
             0,
             "#0d0887"
            ],
            [
             0.1111111111111111,
             "#46039f"
            ],
            [
             0.2222222222222222,
             "#7201a8"
            ],
            [
             0.3333333333333333,
             "#9c179e"
            ],
            [
             0.4444444444444444,
             "#bd3786"
            ],
            [
             0.5555555555555556,
             "#d8576b"
            ],
            [
             0.6666666666666666,
             "#ed7953"
            ],
            [
             0.7777777777777778,
             "#fb9f3a"
            ],
            [
             0.8888888888888888,
             "#fdca26"
            ],
            [
             1,
             "#f0f921"
            ]
           ]
          },
          "colorway": [
           "#636efa",
           "#EF553B",
           "#00cc96",
           "#ab63fa",
           "#FFA15A",
           "#19d3f3",
           "#FF6692",
           "#B6E880",
           "#FF97FF",
           "#FECB52"
          ],
          "font": {
           "color": "#2a3f5f"
          },
          "geo": {
           "bgcolor": "white",
           "lakecolor": "white",
           "landcolor": "#E5ECF6",
           "showlakes": true,
           "showland": true,
           "subunitcolor": "white"
          },
          "hoverlabel": {
           "align": "left"
          },
          "hovermode": "closest",
          "mapbox": {
           "style": "light"
          },
          "paper_bgcolor": "white",
          "plot_bgcolor": "#E5ECF6",
          "polar": {
           "angularaxis": {
            "gridcolor": "white",
            "linecolor": "white",
            "ticks": ""
           },
           "bgcolor": "#E5ECF6",
           "radialaxis": {
            "gridcolor": "white",
            "linecolor": "white",
            "ticks": ""
           }
          },
          "scene": {
           "xaxis": {
            "backgroundcolor": "#E5ECF6",
            "gridcolor": "white",
            "gridwidth": 2,
            "linecolor": "white",
            "showbackground": true,
            "ticks": "",
            "zerolinecolor": "white"
           },
           "yaxis": {
            "backgroundcolor": "#E5ECF6",
            "gridcolor": "white",
            "gridwidth": 2,
            "linecolor": "white",
            "showbackground": true,
            "ticks": "",
            "zerolinecolor": "white"
           },
           "zaxis": {
            "backgroundcolor": "#E5ECF6",
            "gridcolor": "white",
            "gridwidth": 2,
            "linecolor": "white",
            "showbackground": true,
            "ticks": "",
            "zerolinecolor": "white"
           }
          },
          "shapedefaults": {
           "line": {
            "color": "#2a3f5f"
           }
          },
          "ternary": {
           "aaxis": {
            "gridcolor": "white",
            "linecolor": "white",
            "ticks": ""
           },
           "baxis": {
            "gridcolor": "white",
            "linecolor": "white",
            "ticks": ""
           },
           "bgcolor": "#E5ECF6",
           "caxis": {
            "gridcolor": "white",
            "linecolor": "white",
            "ticks": ""
           }
          },
          "title": {
           "x": 0.05
          },
          "xaxis": {
           "automargin": true,
           "gridcolor": "white",
           "linecolor": "white",
           "ticks": "",
           "title": {
            "standoff": 15
           },
           "zerolinecolor": "white",
           "zerolinewidth": 2
          },
          "yaxis": {
           "automargin": true,
           "gridcolor": "white",
           "linecolor": "white",
           "ticks": "",
           "title": {
            "standoff": 15
           },
           "zerolinecolor": "white",
           "zerolinewidth": 2
          }
         }
        },
        "title": {
         "text": "BMI vs. Charges"
        },
        "xaxis": {
         "anchor": "y",
         "domain": [
          0,
          1
         ],
         "title": {
          "text": "bmi"
         }
        },
        "yaxis": {
         "anchor": "x",
         "domain": [
          0,
          1
         ],
         "title": {
          "text": "charges"
         }
        }
       }
      }
     },
     "metadata": {},
     "output_type": "display_data"
    }
   ],
   "source": [
    "fig = px.scatter(medical_df,\n",
    "                 x='bmi',\n",
    "                 y='charges',\n",
    "                 color='smoker',\n",
    "                 opacity=0.8,\n",
    "                 hover_data=['sex'],\n",
    "                 title='BMI vs. Charges'\n",
    "                 )\n",
    "fig.update_traces(marker_size=5)\n",
    "fig.show()"
   ]
  },
  {
   "cell_type": "code",
   "execution_count": 17,
   "metadata": {},
   "outputs": [
    {
     "data": {
      "application/vnd.plotly.v1+json": {
       "config": {
        "plotlyServerURL": "https://plot.ly"
       },
       "data": [
        {
         "hovertemplate": "children=%{x}<br>charges=%{y}<extra></extra>",
         "legendgroup": "",
         "marker": {
          "color": "#636efa",
          "symbol": "circle"
         },
         "mode": "markers",
         "name": "",
         "showlegend": false,
         "type": "scattergl",
         "x": {
          "bdata": "AAEDAAAAAQMCAAAAAAAAAQEAAAAAAQABAgMAAgECAAAFAAEAAwABAAACAQIBAAIAAAEAAgEAAwICAgECAwQBAQAAAgEAAwAFAwECAAEAAAABAAEEAgIAAAAAAAEDAgIBAwAAAAAAAAMBAQECAAABAgAAAwAAAQACAgAAAQMAAAACAgAAAgAAAAAAAwACAQICAwMDAQEBAQADAAEAAAAAAwAAAQIABAUDAQMAAAABAAACAQIDAAADAAIDAgMBAgAAAAEAAAACAAAAAQAAAAEAAgABAQQCAQICAAABAAEAAwAAAwAAAQIBAwABAgIAAgABAgEBAwAAAAABAQICAgMAAwAABAAAAQMAAwMBAwEBAQICAQACAgACAQEDAQEAAQIAAQMAAQIAAwAAAQMBAwMCAgICAgEAAgAAAwAAAAAAAAEBBAAAAAEBAgEAAQAAAAIAAAEBAQAAAAAEAwIBAQAAAAAAAAADAwAAAgEAAQIBAwICAwAAAQIAAAMAAwECAAACAgAAAgADBAABAQIAAwACAAABAAMAAgABAwEAAQIFAAEAAgEAAAABAAIFAQABAwACAAABAwADBQABAAABAQAAAAABBAEAAAIAAgAAAwMAAgAAAQECAQEAAAAAAwEAAAAAAwIAAQMAAwAAAQAAAAAEAAICAgAAAAEAAQMBAgAAAQAAAAEAAQIBAAAAAAABAAIBAQABAAIAAAEDAgEAAwIAAAACAAIAAAAAAAIAAgEAAwACAAABAgABAgUCAAECAQIAAAEBAAEAAgEAAQMBAAEAAQIBAAECAQICAAAAAwAAAAACAgECAAMAAQACAAABBAEAAAADAQAAAQAAAgEAAQIABAUDAAMCAwEDAAACAQACAAIBAgEEAwEBAAACAQIAAQMAAAACAAMDAwIBAAIAAQICAAEBAAEBAAEAAgEAAgAAAAEBAgADAwABAgIAAAABAQIAAAMAAAEDAQEAAQMBAwEDAQACAwICAAAAAAECAAEAAAAAAAQCAwADAAIBAQACAAEBAAIDAgAAAgMCAAMAAwABAQEDAAADAAAAAAACAAIBAAABAAEAAAABAAABAwMCAgIAAAMBAAEAAAIAAgIBAwEAAAIAAQIAAAIAAAACAAAAAQEAAAACAAIDAAAAAQACAwIAAAIAAQADAAEAAQMAAQUBAgMBAAMEAQAAAAEABAACAAACAQAAAAADAAACAwEDAAEAAwECAAAAAAEAAAEAAAICAQABAQEFAAIAAgUCAAABAAAAAQIBAAMAAgECAQEBAQEBAQABAwIBAgECBQMAAAAAAAABAwABAAMBBQEDAQAAAQICAQMDAwADAAIAAAABAgIDAgEAAgQBAAABAgMCAAMBAQEAAQAAAgEAAAAAAwIBAAIAAAAAAQIAAQEAAQABAwAAAAAAAQABAQMEAQIAAQEBAAACAAEBAAADAgEBAQIFAAABAAAAAwAEBAIAAAECAwEAAAAAAgEDAQMDAwABBQIBAwACAwEBAAACAQAFAgAAAAMBAAAAAQMAAgIDAAABAAAAAwEEAwACAAABAgEAAQAAAgIBAQIAAgIAAQEAAAEAAAEBAgMAAQACAQEAAAMAAAECAgIAAQMBAgIBAQECAAIBAAACAQMBAgAAAQECAgAAAwADAAIAAAADAQICAwAABQMEAAEAAAAEAAADAQMAAAEBAQIAAAAAAwEABQEAAAAAAQIAAgABAQAAAQIBAgAAAwABAAICAQADAQACAAAEAAIBAAECAwEAAAQCAwAAAgEAAAECAgIAAwMAAAAA",
          "dtype": "i1"
         },
         "xaxis": "x",
         "y": {
          "bdata": "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",
          "dtype": "f8"
         },
         "yaxis": "y"
        }
       ],
       "layout": {
        "legend": {
         "tracegroupgap": 0
        },
        "margin": {
         "t": 60
        },
        "template": {
         "data": {
          "bar": [
           {
            "error_x": {
             "color": "#2a3f5f"
            },
            "error_y": {
             "color": "#2a3f5f"
            },
            "marker": {
             "line": {
              "color": "#E5ECF6",
              "width": 0.5
             },
             "pattern": {
              "fillmode": "overlay",
              "size": 10,
              "solidity": 0.2
             }
            },
            "type": "bar"
           }
          ],
          "barpolar": [
           {
            "marker": {
             "line": {
              "color": "#E5ECF6",
              "width": 0.5
             },
             "pattern": {
              "fillmode": "overlay",
              "size": 10,
              "solidity": 0.2
             }
            },
            "type": "barpolar"
           }
          ],
          "carpet": [
           {
            "aaxis": {
             "endlinecolor": "#2a3f5f",
             "gridcolor": "white",
             "linecolor": "white",
             "minorgridcolor": "white",
             "startlinecolor": "#2a3f5f"
            },
            "baxis": {
             "endlinecolor": "#2a3f5f",
             "gridcolor": "white",
             "linecolor": "white",
             "minorgridcolor": "white",
             "startlinecolor": "#2a3f5f"
            },
            "type": "carpet"
           }
          ],
          "choropleth": [
           {
            "colorbar": {
             "outlinewidth": 0,
             "ticks": ""
            },
            "type": "choropleth"
           }
          ],
          "contour": [
           {
            "colorbar": {
             "outlinewidth": 0,
             "ticks": ""
            },
            "colorscale": [
             [
              0,
              "#0d0887"
             ],
             [
              0.1111111111111111,
              "#46039f"
             ],
             [
              0.2222222222222222,
              "#7201a8"
             ],
             [
              0.3333333333333333,
              "#9c179e"
             ],
             [
              0.4444444444444444,
              "#bd3786"
             ],
             [
              0.5555555555555556,
              "#d8576b"
             ],
             [
              0.6666666666666666,
              "#ed7953"
             ],
             [
              0.7777777777777778,
              "#fb9f3a"
             ],
             [
              0.8888888888888888,
              "#fdca26"
             ],
             [
              1,
              "#f0f921"
             ]
            ],
            "type": "contour"
           }
          ],
          "contourcarpet": [
           {
            "colorbar": {
             "outlinewidth": 0,
             "ticks": ""
            },
            "type": "contourcarpet"
           }
          ],
          "heatmap": [
           {
            "colorbar": {
             "outlinewidth": 0,
             "ticks": ""
            },
            "colorscale": [
             [
              0,
              "#0d0887"
             ],
             [
              0.1111111111111111,
              "#46039f"
             ],
             [
              0.2222222222222222,
              "#7201a8"
             ],
             [
              0.3333333333333333,
              "#9c179e"
             ],
             [
              0.4444444444444444,
              "#bd3786"
             ],
             [
              0.5555555555555556,
              "#d8576b"
             ],
             [
              0.6666666666666666,
              "#ed7953"
             ],
             [
              0.7777777777777778,
              "#fb9f3a"
             ],
             [
              0.8888888888888888,
              "#fdca26"
             ],
             [
              1,
              "#f0f921"
             ]
            ],
            "type": "heatmap"
           }
          ],
          "histogram": [
           {
            "marker": {
             "pattern": {
              "fillmode": "overlay",
              "size": 10,
              "solidity": 0.2
             }
            },
            "type": "histogram"
           }
          ],
          "histogram2d": [
           {
            "colorbar": {
             "outlinewidth": 0,
             "ticks": ""
            },
            "colorscale": [
             [
              0,
              "#0d0887"
             ],
             [
              0.1111111111111111,
              "#46039f"
             ],
             [
              0.2222222222222222,
              "#7201a8"
             ],
             [
              0.3333333333333333,
              "#9c179e"
             ],
             [
              0.4444444444444444,
              "#bd3786"
             ],
             [
              0.5555555555555556,
              "#d8576b"
             ],
             [
              0.6666666666666666,
              "#ed7953"
             ],
             [
              0.7777777777777778,
              "#fb9f3a"
             ],
             [
              0.8888888888888888,
              "#fdca26"
             ],
             [
              1,
              "#f0f921"
             ]
            ],
            "type": "histogram2d"
           }
          ],
          "histogram2dcontour": [
           {
            "colorbar": {
             "outlinewidth": 0,
             "ticks": ""
            },
            "colorscale": [
             [
              0,
              "#0d0887"
             ],
             [
              0.1111111111111111,
              "#46039f"
             ],
             [
              0.2222222222222222,
              "#7201a8"
             ],
             [
              0.3333333333333333,
              "#9c179e"
             ],
             [
              0.4444444444444444,
              "#bd3786"
             ],
             [
              0.5555555555555556,
              "#d8576b"
             ],
             [
              0.6666666666666666,
              "#ed7953"
             ],
             [
              0.7777777777777778,
              "#fb9f3a"
             ],
             [
              0.8888888888888888,
              "#fdca26"
             ],
             [
              1,
              "#f0f921"
             ]
            ],
            "type": "histogram2dcontour"
           }
          ],
          "mesh3d": [
           {
            "colorbar": {
             "outlinewidth": 0,
             "ticks": ""
            },
            "type": "mesh3d"
           }
          ],
          "parcoords": [
           {
            "line": {
             "colorbar": {
              "outlinewidth": 0,
              "ticks": ""
             }
            },
            "type": "parcoords"
           }
          ],
          "pie": [
           {
            "automargin": true,
            "type": "pie"
           }
          ],
          "scatter": [
           {
            "fillpattern": {
             "fillmode": "overlay",
             "size": 10,
             "solidity": 0.2
            },
            "type": "scatter"
           }
          ],
          "scatter3d": [
           {
            "line": {
             "colorbar": {
              "outlinewidth": 0,
              "ticks": ""
             }
            },
            "marker": {
             "colorbar": {
              "outlinewidth": 0,
              "ticks": ""
             }
            },
            "type": "scatter3d"
           }
          ],
          "scattercarpet": [
           {
            "marker": {
             "colorbar": {
              "outlinewidth": 0,
              "ticks": ""
             }
            },
            "type": "scattercarpet"
           }
          ],
          "scattergeo": [
           {
            "marker": {
             "colorbar": {
              "outlinewidth": 0,
              "ticks": ""
             }
            },
            "type": "scattergeo"
           }
          ],
          "scattergl": [
           {
            "marker": {
             "colorbar": {
              "outlinewidth": 0,
              "ticks": ""
             }
            },
            "type": "scattergl"
           }
          ],
          "scattermap": [
           {
            "marker": {
             "colorbar": {
              "outlinewidth": 0,
              "ticks": ""
             }
            },
            "type": "scattermap"
           }
          ],
          "scattermapbox": [
           {
            "marker": {
             "colorbar": {
              "outlinewidth": 0,
              "ticks": ""
             }
            },
            "type": "scattermapbox"
           }
          ],
          "scatterpolar": [
           {
            "marker": {
             "colorbar": {
              "outlinewidth": 0,
              "ticks": ""
             }
            },
            "type": "scatterpolar"
           }
          ],
          "scatterpolargl": [
           {
            "marker": {
             "colorbar": {
              "outlinewidth": 0,
              "ticks": ""
             }
            },
            "type": "scatterpolargl"
           }
          ],
          "scatterternary": [
           {
            "marker": {
             "colorbar": {
              "outlinewidth": 0,
              "ticks": ""
             }
            },
            "type": "scatterternary"
           }
          ],
          "surface": [
           {
            "colorbar": {
             "outlinewidth": 0,
             "ticks": ""
            },
            "colorscale": [
             [
              0,
              "#0d0887"
             ],
             [
              0.1111111111111111,
              "#46039f"
             ],
             [
              0.2222222222222222,
              "#7201a8"
             ],
             [
              0.3333333333333333,
              "#9c179e"
             ],
             [
              0.4444444444444444,
              "#bd3786"
             ],
             [
              0.5555555555555556,
              "#d8576b"
             ],
             [
              0.6666666666666666,
              "#ed7953"
             ],
             [
              0.7777777777777778,
              "#fb9f3a"
             ],
             [
              0.8888888888888888,
              "#fdca26"
             ],
             [
              1,
              "#f0f921"
             ]
            ],
            "type": "surface"
           }
          ],
          "table": [
           {
            "cells": {
             "fill": {
              "color": "#EBF0F8"
             },
             "line": {
              "color": "white"
             }
            },
            "header": {
             "fill": {
              "color": "#C8D4E3"
             },
             "line": {
              "color": "white"
             }
            },
            "type": "table"
           }
          ]
         },
         "layout": {
          "annotationdefaults": {
           "arrowcolor": "#2a3f5f",
           "arrowhead": 0,
           "arrowwidth": 1
          },
          "autotypenumbers": "strict",
          "coloraxis": {
           "colorbar": {
            "outlinewidth": 0,
            "ticks": ""
           }
          },
          "colorscale": {
           "diverging": [
            [
             0,
             "#8e0152"
            ],
            [
             0.1,
             "#c51b7d"
            ],
            [
             0.2,
             "#de77ae"
            ],
            [
             0.3,
             "#f1b6da"
            ],
            [
             0.4,
             "#fde0ef"
            ],
            [
             0.5,
             "#f7f7f7"
            ],
            [
             0.6,
             "#e6f5d0"
            ],
            [
             0.7,
             "#b8e186"
            ],
            [
             0.8,
             "#7fbc41"
            ],
            [
             0.9,
             "#4d9221"
            ],
            [
             1,
             "#276419"
            ]
           ],
           "sequential": [
            [
             0,
             "#0d0887"
            ],
            [
             0.1111111111111111,
             "#46039f"
            ],
            [
             0.2222222222222222,
             "#7201a8"
            ],
            [
             0.3333333333333333,
             "#9c179e"
            ],
            [
             0.4444444444444444,
             "#bd3786"
            ],
            [
             0.5555555555555556,
             "#d8576b"
            ],
            [
             0.6666666666666666,
             "#ed7953"
            ],
            [
             0.7777777777777778,
             "#fb9f3a"
            ],
            [
             0.8888888888888888,
             "#fdca26"
            ],
            [
             1,
             "#f0f921"
            ]
           ],
           "sequentialminus": [
            [
             0,
             "#0d0887"
            ],
            [
             0.1111111111111111,
             "#46039f"
            ],
            [
             0.2222222222222222,
             "#7201a8"
            ],
            [
             0.3333333333333333,
             "#9c179e"
            ],
            [
             0.4444444444444444,
             "#bd3786"
            ],
            [
             0.5555555555555556,
             "#d8576b"
            ],
            [
             0.6666666666666666,
             "#ed7953"
            ],
            [
             0.7777777777777778,
             "#fb9f3a"
            ],
            [
             0.8888888888888888,
             "#fdca26"
            ],
            [
             1,
             "#f0f921"
            ]
           ]
          },
          "colorway": [
           "#636efa",
           "#EF553B",
           "#00cc96",
           "#ab63fa",
           "#FFA15A",
           "#19d3f3",
           "#FF6692",
           "#B6E880",
           "#FF97FF",
           "#FECB52"
          ],
          "font": {
           "color": "#2a3f5f"
          },
          "geo": {
           "bgcolor": "white",
           "lakecolor": "white",
           "landcolor": "#E5ECF6",
           "showlakes": true,
           "showland": true,
           "subunitcolor": "white"
          },
          "hoverlabel": {
           "align": "left"
          },
          "hovermode": "closest",
          "mapbox": {
           "style": "light"
          },
          "paper_bgcolor": "white",
          "plot_bgcolor": "#E5ECF6",
          "polar": {
           "angularaxis": {
            "gridcolor": "white",
            "linecolor": "white",
            "ticks": ""
           },
           "bgcolor": "#E5ECF6",
           "radialaxis": {
            "gridcolor": "white",
            "linecolor": "white",
            "ticks": ""
           }
          },
          "scene": {
           "xaxis": {
            "backgroundcolor": "#E5ECF6",
            "gridcolor": "white",
            "gridwidth": 2,
            "linecolor": "white",
            "showbackground": true,
            "ticks": "",
            "zerolinecolor": "white"
           },
           "yaxis": {
            "backgroundcolor": "#E5ECF6",
            "gridcolor": "white",
            "gridwidth": 2,
            "linecolor": "white",
            "showbackground": true,
            "ticks": "",
            "zerolinecolor": "white"
           },
           "zaxis": {
            "backgroundcolor": "#E5ECF6",
            "gridcolor": "white",
            "gridwidth": 2,
            "linecolor": "white",
            "showbackground": true,
            "ticks": "",
            "zerolinecolor": "white"
           }
          },
          "shapedefaults": {
           "line": {
            "color": "#2a3f5f"
           }
          },
          "ternary": {
           "aaxis": {
            "gridcolor": "white",
            "linecolor": "white",
            "ticks": ""
           },
           "baxis": {
            "gridcolor": "white",
            "linecolor": "white",
            "ticks": ""
           },
           "bgcolor": "#E5ECF6",
           "caxis": {
            "gridcolor": "white",
            "linecolor": "white",
            "ticks": ""
           }
          },
          "title": {
           "x": 0.05
          },
          "xaxis": {
           "automargin": true,
           "gridcolor": "white",
           "linecolor": "white",
           "ticks": "",
           "title": {
            "standoff": 15
           },
           "zerolinecolor": "white",
           "zerolinewidth": 2
          },
          "yaxis": {
           "automargin": true,
           "gridcolor": "white",
           "linecolor": "white",
           "ticks": "",
           "title": {
            "standoff": 15
           },
           "zerolinecolor": "white",
           "zerolinewidth": 2
          }
         }
        },
        "xaxis": {
         "anchor": "y",
         "domain": [
          0,
          1
         ],
         "title": {
          "text": "children"
         }
        },
        "yaxis": {
         "anchor": "x",
         "domain": [
          0,
          1
         ],
         "title": {
          "text": "charges"
         }
        }
       }
      }
     },
     "metadata": {},
     "output_type": "display_data"
    }
   ],
   "source": [
    "px.scatter(medical_df, x='children', y='charges' )"
   ]
  },
  {
   "cell_type": "code",
   "execution_count": 18,
   "metadata": {},
   "outputs": [
    {
     "data": {
      "application/vnd.plotly.v1+json": {
       "config": {
        "plotlyServerURL": "https://plot.ly"
       },
       "data": [
        {
         "alignmentgroup": "True",
         "box": {
          "visible": false
         },
         "hovertemplate": "children=%{x}<br>charges=%{y}<extra></extra>",
         "legendgroup": "",
         "marker": {
          "color": "#636efa"
         },
         "name": "",
         "offsetgroup": "",
         "orientation": "v",
         "scalegroup": "True",
         "showlegend": false,
         "type": "violin",
         "x": {
          "bdata": "AAEDAAAAAQMCAAAAAAAAAQEAAAAAAQABAgMAAgECAAAFAAEAAwABAAACAQIBAAIAAAEAAgEAAwICAgECAwQBAQAAAgEAAwAFAwECAAEAAAABAAEEAgIAAAAAAAEDAgIBAwAAAAAAAAMBAQECAAABAgAAAwAAAQACAgAAAQMAAAACAgAAAgAAAAAAAwACAQICAwMDAQEBAQADAAEAAAAAAwAAAQIABAUDAQMAAAABAAACAQIDAAADAAIDAgMBAgAAAAEAAAACAAAAAQAAAAEAAgABAQQCAQICAAABAAEAAwAAAwAAAQIBAwABAgIAAgABAgEBAwAAAAABAQICAgMAAwAABAAAAQMAAwMBAwEBAQICAQACAgACAQEDAQEAAQIAAQMAAQIAAwAAAQMBAwMCAgICAgEAAgAAAwAAAAAAAAEBBAAAAAEBAgEAAQAAAAIAAAEBAQAAAAAEAwIBAQAAAAAAAAADAwAAAgEAAQIBAwICAwAAAQIAAAMAAwECAAACAgAAAgADBAABAQIAAwACAAABAAMAAgABAwEAAQIFAAEAAgEAAAABAAIFAQABAwACAAABAwADBQABAAABAQAAAAABBAEAAAIAAgAAAwMAAgAAAQECAQEAAAAAAwEAAAAAAwIAAQMAAwAAAQAAAAAEAAICAgAAAAEAAQMBAgAAAQAAAAEAAQIBAAAAAAABAAIBAQABAAIAAAEDAgEAAwIAAAACAAIAAAAAAAIAAgEAAwACAAABAgABAgUCAAECAQIAAAEBAAEAAgEAAQMBAAEAAQIBAAECAQICAAAAAwAAAAACAgECAAMAAQACAAABBAEAAAADAQAAAQAAAgEAAQIABAUDAAMCAwEDAAACAQACAAIBAgEEAwEBAAACAQIAAQMAAAACAAMDAwIBAAIAAQICAAEBAAEBAAEAAgEAAgAAAAEBAgADAwABAgIAAAABAQIAAAMAAAEDAQEAAQMBAwEDAQACAwICAAAAAAECAAEAAAAAAAQCAwADAAIBAQACAAEBAAIDAgAAAgMCAAMAAwABAQEDAAADAAAAAAACAAIBAAABAAEAAAABAAABAwMCAgIAAAMBAAEAAAIAAgIBAwEAAAIAAQIAAAIAAAACAAAAAQEAAAACAAIDAAAAAQACAwIAAAIAAQADAAEAAQMAAQUBAgMBAAMEAQAAAAEABAACAAACAQAAAAADAAACAwEDAAEAAwECAAAAAAEAAAEAAAICAQABAQEFAAIAAgUCAAABAAAAAQIBAAMAAgECAQEBAQEBAQABAwIBAgECBQMAAAAAAAABAwABAAMBBQEDAQAAAQICAQMDAwADAAIAAAABAgIDAgEAAgQBAAABAgMCAAMBAQEAAQAAAgEAAAAAAwIBAAIAAAAAAQIAAQEAAQABAwAAAAAAAQABAQMEAQIAAQEBAAACAAEBAAADAgEBAQIFAAABAAAAAwAEBAIAAAECAwEAAAAAAgEDAQMDAwABBQIBAwACAwEBAAACAQAFAgAAAAMBAAAAAQMAAgIDAAABAAAAAwEEAwACAAABAgEAAQAAAgIBAQIAAgIAAQEAAAEAAAEBAgMAAQACAQEAAAMAAAECAgIAAQMBAgIBAQECAAIBAAACAQMBAgAAAQECAgAAAwADAAIAAAADAQICAwAABQMEAAEAAAAEAAADAQMAAAEBAQIAAAAAAwEABQEAAAAAAQIAAgABAQAAAQIBAgAAAwABAAICAQADAQACAAAEAAIBAAECAwEAAAQCAwAAAgEAAAECAgIAAwMAAAAA",
          "dtype": "i1"
         },
         "x0": " ",
         "xaxis": "x",
         "y": {
          "bdata": "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",
          "dtype": "f8"
         },
         "y0": " ",
         "yaxis": "y"
        }
       ],
       "layout": {
        "legend": {
         "tracegroupgap": 0
        },
        "margin": {
         "t": 60
        },
        "template": {
         "data": {
          "bar": [
           {
            "error_x": {
             "color": "#2a3f5f"
            },
            "error_y": {
             "color": "#2a3f5f"
            },
            "marker": {
             "line": {
              "color": "#E5ECF6",
              "width": 0.5
             },
             "pattern": {
              "fillmode": "overlay",
              "size": 10,
              "solidity": 0.2
             }
            },
            "type": "bar"
           }
          ],
          "barpolar": [
           {
            "marker": {
             "line": {
              "color": "#E5ECF6",
              "width": 0.5
             },
             "pattern": {
              "fillmode": "overlay",
              "size": 10,
              "solidity": 0.2
             }
            },
            "type": "barpolar"
           }
          ],
          "carpet": [
           {
            "aaxis": {
             "endlinecolor": "#2a3f5f",
             "gridcolor": "white",
             "linecolor": "white",
             "minorgridcolor": "white",
             "startlinecolor": "#2a3f5f"
            },
            "baxis": {
             "endlinecolor": "#2a3f5f",
             "gridcolor": "white",
             "linecolor": "white",
             "minorgridcolor": "white",
             "startlinecolor": "#2a3f5f"
            },
            "type": "carpet"
           }
          ],
          "choropleth": [
           {
            "colorbar": {
             "outlinewidth": 0,
             "ticks": ""
            },
            "type": "choropleth"
           }
          ],
          "contour": [
           {
            "colorbar": {
             "outlinewidth": 0,
             "ticks": ""
            },
            "colorscale": [
             [
              0,
              "#0d0887"
             ],
             [
              0.1111111111111111,
              "#46039f"
             ],
             [
              0.2222222222222222,
              "#7201a8"
             ],
             [
              0.3333333333333333,
              "#9c179e"
             ],
             [
              0.4444444444444444,
              "#bd3786"
             ],
             [
              0.5555555555555556,
              "#d8576b"
             ],
             [
              0.6666666666666666,
              "#ed7953"
             ],
             [
              0.7777777777777778,
              "#fb9f3a"
             ],
             [
              0.8888888888888888,
              "#fdca26"
             ],
             [
              1,
              "#f0f921"
             ]
            ],
            "type": "contour"
           }
          ],
          "contourcarpet": [
           {
            "colorbar": {
             "outlinewidth": 0,
             "ticks": ""
            },
            "type": "contourcarpet"
           }
          ],
          "heatmap": [
           {
            "colorbar": {
             "outlinewidth": 0,
             "ticks": ""
            },
            "colorscale": [
             [
              0,
              "#0d0887"
             ],
             [
              0.1111111111111111,
              "#46039f"
             ],
             [
              0.2222222222222222,
              "#7201a8"
             ],
             [
              0.3333333333333333,
              "#9c179e"
             ],
             [
              0.4444444444444444,
              "#bd3786"
             ],
             [
              0.5555555555555556,
              "#d8576b"
             ],
             [
              0.6666666666666666,
              "#ed7953"
             ],
             [
              0.7777777777777778,
              "#fb9f3a"
             ],
             [
              0.8888888888888888,
              "#fdca26"
             ],
             [
              1,
              "#f0f921"
             ]
            ],
            "type": "heatmap"
           }
          ],
          "histogram": [
           {
            "marker": {
             "pattern": {
              "fillmode": "overlay",
              "size": 10,
              "solidity": 0.2
             }
            },
            "type": "histogram"
           }
          ],
          "histogram2d": [
           {
            "colorbar": {
             "outlinewidth": 0,
             "ticks": ""
            },
            "colorscale": [
             [
              0,
              "#0d0887"
             ],
             [
              0.1111111111111111,
              "#46039f"
             ],
             [
              0.2222222222222222,
              "#7201a8"
             ],
             [
              0.3333333333333333,
              "#9c179e"
             ],
             [
              0.4444444444444444,
              "#bd3786"
             ],
             [
              0.5555555555555556,
              "#d8576b"
             ],
             [
              0.6666666666666666,
              "#ed7953"
             ],
             [
              0.7777777777777778,
              "#fb9f3a"
             ],
             [
              0.8888888888888888,
              "#fdca26"
             ],
             [
              1,
              "#f0f921"
             ]
            ],
            "type": "histogram2d"
           }
          ],
          "histogram2dcontour": [
           {
            "colorbar": {
             "outlinewidth": 0,
             "ticks": ""
            },
            "colorscale": [
             [
              0,
              "#0d0887"
             ],
             [
              0.1111111111111111,
              "#46039f"
             ],
             [
              0.2222222222222222,
              "#7201a8"
             ],
             [
              0.3333333333333333,
              "#9c179e"
             ],
             [
              0.4444444444444444,
              "#bd3786"
             ],
             [
              0.5555555555555556,
              "#d8576b"
             ],
             [
              0.6666666666666666,
              "#ed7953"
             ],
             [
              0.7777777777777778,
              "#fb9f3a"
             ],
             [
              0.8888888888888888,
              "#fdca26"
             ],
             [
              1,
              "#f0f921"
             ]
            ],
            "type": "histogram2dcontour"
           }
          ],
          "mesh3d": [
           {
            "colorbar": {
             "outlinewidth": 0,
             "ticks": ""
            },
            "type": "mesh3d"
           }
          ],
          "parcoords": [
           {
            "line": {
             "colorbar": {
              "outlinewidth": 0,
              "ticks": ""
             }
            },
            "type": "parcoords"
           }
          ],
          "pie": [
           {
            "automargin": true,
            "type": "pie"
           }
          ],
          "scatter": [
           {
            "fillpattern": {
             "fillmode": "overlay",
             "size": 10,
             "solidity": 0.2
            },
            "type": "scatter"
           }
          ],
          "scatter3d": [
           {
            "line": {
             "colorbar": {
              "outlinewidth": 0,
              "ticks": ""
             }
            },
            "marker": {
             "colorbar": {
              "outlinewidth": 0,
              "ticks": ""
             }
            },
            "type": "scatter3d"
           }
          ],
          "scattercarpet": [
           {
            "marker": {
             "colorbar": {
              "outlinewidth": 0,
              "ticks": ""
             }
            },
            "type": "scattercarpet"
           }
          ],
          "scattergeo": [
           {
            "marker": {
             "colorbar": {
              "outlinewidth": 0,
              "ticks": ""
             }
            },
            "type": "scattergeo"
           }
          ],
          "scattergl": [
           {
            "marker": {
             "colorbar": {
              "outlinewidth": 0,
              "ticks": ""
             }
            },
            "type": "scattergl"
           }
          ],
          "scattermap": [
           {
            "marker": {
             "colorbar": {
              "outlinewidth": 0,
              "ticks": ""
             }
            },
            "type": "scattermap"
           }
          ],
          "scattermapbox": [
           {
            "marker": {
             "colorbar": {
              "outlinewidth": 0,
              "ticks": ""
             }
            },
            "type": "scattermapbox"
           }
          ],
          "scatterpolar": [
           {
            "marker": {
             "colorbar": {
              "outlinewidth": 0,
              "ticks": ""
             }
            },
            "type": "scatterpolar"
           }
          ],
          "scatterpolargl": [
           {
            "marker": {
             "colorbar": {
              "outlinewidth": 0,
              "ticks": ""
             }
            },
            "type": "scatterpolargl"
           }
          ],
          "scatterternary": [
           {
            "marker": {
             "colorbar": {
              "outlinewidth": 0,
              "ticks": ""
             }
            },
            "type": "scatterternary"
           }
          ],
          "surface": [
           {
            "colorbar": {
             "outlinewidth": 0,
             "ticks": ""
            },
            "colorscale": [
             [
              0,
              "#0d0887"
             ],
             [
              0.1111111111111111,
              "#46039f"
             ],
             [
              0.2222222222222222,
              "#7201a8"
             ],
             [
              0.3333333333333333,
              "#9c179e"
             ],
             [
              0.4444444444444444,
              "#bd3786"
             ],
             [
              0.5555555555555556,
              "#d8576b"
             ],
             [
              0.6666666666666666,
              "#ed7953"
             ],
             [
              0.7777777777777778,
              "#fb9f3a"
             ],
             [
              0.8888888888888888,
              "#fdca26"
             ],
             [
              1,
              "#f0f921"
             ]
            ],
            "type": "surface"
           }
          ],
          "table": [
           {
            "cells": {
             "fill": {
              "color": "#EBF0F8"
             },
             "line": {
              "color": "white"
             }
            },
            "header": {
             "fill": {
              "color": "#C8D4E3"
             },
             "line": {
              "color": "white"
             }
            },
            "type": "table"
           }
          ]
         },
         "layout": {
          "annotationdefaults": {
           "arrowcolor": "#2a3f5f",
           "arrowhead": 0,
           "arrowwidth": 1
          },
          "autotypenumbers": "strict",
          "coloraxis": {
           "colorbar": {
            "outlinewidth": 0,
            "ticks": ""
           }
          },
          "colorscale": {
           "diverging": [
            [
             0,
             "#8e0152"
            ],
            [
             0.1,
             "#c51b7d"
            ],
            [
             0.2,
             "#de77ae"
            ],
            [
             0.3,
             "#f1b6da"
            ],
            [
             0.4,
             "#fde0ef"
            ],
            [
             0.5,
             "#f7f7f7"
            ],
            [
             0.6,
             "#e6f5d0"
            ],
            [
             0.7,
             "#b8e186"
            ],
            [
             0.8,
             "#7fbc41"
            ],
            [
             0.9,
             "#4d9221"
            ],
            [
             1,
             "#276419"
            ]
           ],
           "sequential": [
            [
             0,
             "#0d0887"
            ],
            [
             0.1111111111111111,
             "#46039f"
            ],
            [
             0.2222222222222222,
             "#7201a8"
            ],
            [
             0.3333333333333333,
             "#9c179e"
            ],
            [
             0.4444444444444444,
             "#bd3786"
            ],
            [
             0.5555555555555556,
             "#d8576b"
            ],
            [
             0.6666666666666666,
             "#ed7953"
            ],
            [
             0.7777777777777778,
             "#fb9f3a"
            ],
            [
             0.8888888888888888,
             "#fdca26"
            ],
            [
             1,
             "#f0f921"
            ]
           ],
           "sequentialminus": [
            [
             0,
             "#0d0887"
            ],
            [
             0.1111111111111111,
             "#46039f"
            ],
            [
             0.2222222222222222,
             "#7201a8"
            ],
            [
             0.3333333333333333,
             "#9c179e"
            ],
            [
             0.4444444444444444,
             "#bd3786"
            ],
            [
             0.5555555555555556,
             "#d8576b"
            ],
            [
             0.6666666666666666,
             "#ed7953"
            ],
            [
             0.7777777777777778,
             "#fb9f3a"
            ],
            [
             0.8888888888888888,
             "#fdca26"
            ],
            [
             1,
             "#f0f921"
            ]
           ]
          },
          "colorway": [
           "#636efa",
           "#EF553B",
           "#00cc96",
           "#ab63fa",
           "#FFA15A",
           "#19d3f3",
           "#FF6692",
           "#B6E880",
           "#FF97FF",
           "#FECB52"
          ],
          "font": {
           "color": "#2a3f5f"
          },
          "geo": {
           "bgcolor": "white",
           "lakecolor": "white",
           "landcolor": "#E5ECF6",
           "showlakes": true,
           "showland": true,
           "subunitcolor": "white"
          },
          "hoverlabel": {
           "align": "left"
          },
          "hovermode": "closest",
          "mapbox": {
           "style": "light"
          },
          "paper_bgcolor": "white",
          "plot_bgcolor": "#E5ECF6",
          "polar": {
           "angularaxis": {
            "gridcolor": "white",
            "linecolor": "white",
            "ticks": ""
           },
           "bgcolor": "#E5ECF6",
           "radialaxis": {
            "gridcolor": "white",
            "linecolor": "white",
            "ticks": ""
           }
          },
          "scene": {
           "xaxis": {
            "backgroundcolor": "#E5ECF6",
            "gridcolor": "white",
            "gridwidth": 2,
            "linecolor": "white",
            "showbackground": true,
            "ticks": "",
            "zerolinecolor": "white"
           },
           "yaxis": {
            "backgroundcolor": "#E5ECF6",
            "gridcolor": "white",
            "gridwidth": 2,
            "linecolor": "white",
            "showbackground": true,
            "ticks": "",
            "zerolinecolor": "white"
           },
           "zaxis": {
            "backgroundcolor": "#E5ECF6",
            "gridcolor": "white",
            "gridwidth": 2,
            "linecolor": "white",
            "showbackground": true,
            "ticks": "",
            "zerolinecolor": "white"
           }
          },
          "shapedefaults": {
           "line": {
            "color": "#2a3f5f"
           }
          },
          "ternary": {
           "aaxis": {
            "gridcolor": "white",
            "linecolor": "white",
            "ticks": ""
           },
           "baxis": {
            "gridcolor": "white",
            "linecolor": "white",
            "ticks": ""
           },
           "bgcolor": "#E5ECF6",
           "caxis": {
            "gridcolor": "white",
            "linecolor": "white",
            "ticks": ""
           }
          },
          "title": {
           "x": 0.05
          },
          "xaxis": {
           "automargin": true,
           "gridcolor": "white",
           "linecolor": "white",
           "ticks": "",
           "title": {
            "standoff": 15
           },
           "zerolinecolor": "white",
           "zerolinewidth": 2
          },
          "yaxis": {
           "automargin": true,
           "gridcolor": "white",
           "linecolor": "white",
           "ticks": "",
           "title": {
            "standoff": 15
           },
           "zerolinecolor": "white",
           "zerolinewidth": 2
          }
         }
        },
        "violinmode": "group",
        "xaxis": {
         "anchor": "y",
         "domain": [
          0,
          1
         ],
         "title": {
          "text": "children"
         }
        },
        "yaxis": {
         "anchor": "x",
         "domain": [
          0,
          1
         ],
         "title": {
          "text": "charges"
         }
        }
       }
      }
     },
     "metadata": {},
     "output_type": "display_data"
    }
   ],
   "source": [
    "px.violin(medical_df, x='children', y='charges' )"
   ]
  },
  {
   "cell_type": "markdown",
   "metadata": {},
   "source": [
    "##### Finding correlation between the features (Charges vs. Other)"
   ]
  },
  {
   "cell_type": "code",
   "execution_count": 20,
   "metadata": {},
   "outputs": [
    {
     "name": "stdout",
     "output_type": "stream",
     "text": [
      "0.2990081933306478\n",
      "0.19834096883362887\n",
      "0.06799822684790487\n"
     ]
    }
   ],
   "source": [
    "print(medical_df.charges.corr(medical_df.age))\n",
    "print(medical_df.charges.corr(medical_df.bmi))\n",
    "print(medical_df.charges.corr(medical_df.children))\n",
    "# No strong correlation between any of the combinations of features"
   ]
  },
  {
   "cell_type": "code",
   "execution_count": 22,
   "metadata": {},
   "outputs": [
    {
     "data": {
      "text/plain": [
       "0    1\n",
       "1    0\n",
       "2    0\n",
       "3    0\n",
       "4    0\n",
       "Name: smoker, dtype: int64"
      ]
     },
     "execution_count": 22,
     "metadata": {},
     "output_type": "execute_result"
    }
   ],
   "source": [
    "smoker_values = {'no': 0, 'yes': 1}\n",
    "smoker_numeric = medical_df.smoker.map(smoker_values)\n",
    "smoker_numeric.head()\n",
    "# Mapping '0' to 'no' class and '1' to class in Smoker Values "
   ]
  },
  {
   "cell_type": "code",
   "execution_count": 23,
   "metadata": {},
   "outputs": [
    {
     "name": "stdout",
     "output_type": "stream",
     "text": [
      "0.7872514304984778\n"
     ]
    }
   ],
   "source": [
    "print(medical_df.charges.corr(smoker_numeric))\n",
    "#here we can find a strong positive correlation betweem charges and smokers"
   ]
  },
  {
   "cell_type": "code",
   "execution_count": 24,
   "metadata": {},
   "outputs": [
    {
     "name": "stdout",
     "output_type": "stream",
     "text": [
      "      sex\n",
      "0       0\n",
      "1       1\n",
      "2       1\n",
      "3       1\n",
      "4       1\n",
      "...   ...\n",
      "1333    1\n",
      "1334    0\n",
      "1335    0\n",
      "1336    0\n",
      "1337    0\n",
      "\n",
      "[1338 rows x 1 columns]\n"
     ]
    }
   ],
   "source": [
    "#Mapping Gender Values : 1 for Male and 0 for Female\n",
    "map_gender = {'male' : 1,\n",
    "              'female' : 0}\n",
    "gen_numerical = pd.DataFrame(medical_df['sex'].map(map_gender))\n",
    "print(gen_numerical)\n",
    "medical_df.drop(['sex'], inplace=True,axis=1)\n",
    "medical_df = pd.concat([medical_df,gen_numerical], axis=1)"
   ]
  },
  {
   "cell_type": "code",
   "execution_count": 25,
   "metadata": {},
   "outputs": [
    {
     "data": {
      "text/html": [
       "<div>\n",
       "<style scoped>\n",
       "    .dataframe tbody tr th:only-of-type {\n",
       "        vertical-align: middle;\n",
       "    }\n",
       "\n",
       "    .dataframe tbody tr th {\n",
       "        vertical-align: top;\n",
       "    }\n",
       "\n",
       "    .dataframe thead th {\n",
       "        text-align: right;\n",
       "    }\n",
       "</style>\n",
       "<table border=\"1\" class=\"dataframe\">\n",
       "  <thead>\n",
       "    <tr style=\"text-align: right;\">\n",
       "      <th></th>\n",
       "      <th>age</th>\n",
       "      <th>bmi</th>\n",
       "      <th>children</th>\n",
       "      <th>charges</th>\n",
       "      <th>sex</th>\n",
       "    </tr>\n",
       "  </thead>\n",
       "  <tbody>\n",
       "    <tr>\n",
       "      <th>age</th>\n",
       "      <td>1.000000</td>\n",
       "      <td>0.109272</td>\n",
       "      <td>0.042469</td>\n",
       "      <td>0.299008</td>\n",
       "      <td>-0.020856</td>\n",
       "    </tr>\n",
       "    <tr>\n",
       "      <th>bmi</th>\n",
       "      <td>0.109272</td>\n",
       "      <td>1.000000</td>\n",
       "      <td>0.012759</td>\n",
       "      <td>0.198341</td>\n",
       "      <td>0.046371</td>\n",
       "    </tr>\n",
       "    <tr>\n",
       "      <th>children</th>\n",
       "      <td>0.042469</td>\n",
       "      <td>0.012759</td>\n",
       "      <td>1.000000</td>\n",
       "      <td>0.067998</td>\n",
       "      <td>0.017163</td>\n",
       "    </tr>\n",
       "    <tr>\n",
       "      <th>charges</th>\n",
       "      <td>0.299008</td>\n",
       "      <td>0.198341</td>\n",
       "      <td>0.067998</td>\n",
       "      <td>1.000000</td>\n",
       "      <td>0.057292</td>\n",
       "    </tr>\n",
       "    <tr>\n",
       "      <th>sex</th>\n",
       "      <td>-0.020856</td>\n",
       "      <td>0.046371</td>\n",
       "      <td>0.017163</td>\n",
       "      <td>0.057292</td>\n",
       "      <td>1.000000</td>\n",
       "    </tr>\n",
       "  </tbody>\n",
       "</table>\n",
       "</div>"
      ],
      "text/plain": [
       "               age       bmi  children   charges       sex\n",
       "age       1.000000  0.109272  0.042469  0.299008 -0.020856\n",
       "bmi       0.109272  1.000000  0.012759  0.198341  0.046371\n",
       "children  0.042469  0.012759  1.000000  0.067998  0.017163\n",
       "charges   0.299008  0.198341  0.067998  1.000000  0.057292\n",
       "sex      -0.020856  0.046371  0.017163  0.057292  1.000000"
      ]
     },
     "execution_count": 25,
     "metadata": {},
     "output_type": "execute_result"
    }
   ],
   "source": [
    "medical_df.corr(numeric_only=True)"
   ]
  },
  {
   "cell_type": "code",
   "execution_count": 26,
   "metadata": {},
   "outputs": [
    {
     "data": {
      "text/plain": [
       "Text(0.5, 1.0, 'Correlation Matrix')"
      ]
     },
     "execution_count": 26,
     "metadata": {},
     "output_type": "execute_result"
    },
    {
     "data": {
      "image/png": "[encoded data removed]",
      "text/plain": [
       "<Figure size 640x480 with 2 Axes>"
      ]
     },
     "metadata": {},
     "output_type": "display_data"
    }
   ],
   "source": [
    "sns.heatmap(medical_df.corr(numeric_only=True),cmap='Reds', annot=True)\n",
    "plt.title('Correlation Matrix')"
   ]
  },
  {
   "cell_type": "code",
   "execution_count": null,
   "metadata": {},
   "outputs": [],
   "source": []
  }
 ],
 "metadata": {
  "kernelspec": {
   "display_name": "Python 3",
   "language": "python",
   "name": "python3"
  },
  "language_info": {
   "codemirror_mode": {
    "name": "ipython",
    "version": 3
   },
   "file_extension": ".py",
   "mimetype": "text/x-python",
   "name": "python",
   "nbconvert_exporter": "python",
   "pygments_lexer": "ipython3",
   "version": "3.12.6"
  }
 },
 "nbformat": 4,
 "nbformat_minor": 2
}
